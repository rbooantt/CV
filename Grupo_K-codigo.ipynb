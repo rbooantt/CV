{
  "nbformat": 4,
  "nbformat_minor": 0,
  "metadata": {
    "colab": {
      "provenance": []
    },
    "kernelspec": {
      "name": "python3",
      "display_name": "Python 3"
    },
    "language_info": {
      "name": "python"
    }
  },
  "cells": [
    {
      "cell_type": "markdown",
      "source": [
        "# Aprendizaje Automático - Grado Estadística y Empresa\n",
        "## Practica 2: Prediccion de la radiación solar en plantas fotovoltaicas\n",
        "Integrantes del grupo K:\n",
        "- Andrés Rubio Lafuente\n",
        "- Jorge Casamayor Calonge"
      ],
      "metadata": {
        "id": "7JzBPMvn_B4C"
      }
    },
    {
      "cell_type": "markdown",
      "source": [
        "### Datos y Paquetes"
      ],
      "metadata": {
        "id": "ZkfWzOx5Ap1P"
      }
    },
    {
      "cell_type": "markdown",
      "source": [
        "Instalamos y cargamos los paquetes necesarios para realizar la practica."
      ],
      "metadata": {
        "id": "uWxZMBOhAy-W"
      }
    },
    {
      "cell_type": "code",
      "source": [
        " # Para cargar los datos\n",
        "!pip install feather-format"
      ],
      "metadata": {
        "id": "Fgx12wv-_uga",
        "colab": {
          "base_uri": "https://localhost:8080/"
        },
        "outputId": "e387a1ca-385c-4f48-d5e3-b0e7c913796d"
      },
      "execution_count": null,
      "outputs": [
        {
          "output_type": "stream",
          "name": "stdout",
          "text": [
            "Collecting feather-format\n",
            "  Downloading feather-format-0.4.1.tar.gz (3.2 kB)\n",
            "  Preparing metadata (setup.py) ... \u001b[?25l\u001b[?25hdone\n",
            "Requirement already satisfied: pyarrow>=0.4.0 in /usr/local/lib/python3.10/dist-packages (from feather-format) (10.0.1)\n",
            "Requirement already satisfied: numpy>=1.16.6 in /usr/local/lib/python3.10/dist-packages (from pyarrow>=0.4.0->feather-format) (1.23.5)\n",
            "Building wheels for collected packages: feather-format\n",
            "  Building wheel for feather-format (setup.py) ... \u001b[?25l\u001b[?25hdone\n",
            "  Created wheel for feather-format: filename=feather_format-0.4.1-py3-none-any.whl size=2435 sha256=e3fc64477ba19f2bcbb7ee25b18a97e0586abb851dc7268afc8414242cb0fb89\n",
            "  Stored in directory: /root/.cache/pip/wheels/a6/ff/5d/4f10de26fe5ddef243c97f13c6cf579d7353d659e41a05c3a6\n",
            "Successfully built feather-format\n",
            "Installing collected packages: feather-format\n",
            "Successfully installed feather-format-0.4.1\n"
          ]
        }
      ]
    },
    {
      "cell_type": "code",
      "source": [
        "# Paquetes para realizar busqueda de hiperparametros con Hyperband\n",
        "!pip install ray\n",
        "!pip install -U tensorboardx\n",
        "!pip install -U ray[tune]\n",
        "from ray import ray,tune"
      ],
      "metadata": {
        "id": "x8Z4ReQBEutn",
        "colab": {
          "base_uri": "https://localhost:8080/"
        },
        "outputId": "7c774de4-1321-473a-bb40-fbd748806bee"
      },
      "execution_count": null,
      "outputs": [
        {
          "output_type": "stream",
          "name": "stdout",
          "text": [
            "Collecting ray\n",
            "  Downloading ray-2.8.1-cp310-cp310-manylinux2014_x86_64.whl (62.6 MB)\n",
            "\u001b[2K     \u001b[90m━━━━━━━━━━━━━━━━━━━━━━━━━━━━━━━━━━━━━━━━\u001b[0m \u001b[32m62.6/62.6 MB\u001b[0m \u001b[31m8.9 MB/s\u001b[0m eta \u001b[36m0:00:00\u001b[0m\n",
            "\u001b[?25hRequirement already satisfied: click>=7.0 in /usr/local/lib/python3.10/dist-packages (from ray) (8.1.7)\n",
            "Requirement already satisfied: filelock in /usr/local/lib/python3.10/dist-packages (from ray) (3.13.1)\n",
            "Requirement already satisfied: jsonschema in /usr/local/lib/python3.10/dist-packages (from ray) (4.19.2)\n",
            "Requirement already satisfied: msgpack<2.0.0,>=1.0.0 in /usr/local/lib/python3.10/dist-packages (from ray) (1.0.7)\n",
            "Requirement already satisfied: packaging in /usr/local/lib/python3.10/dist-packages (from ray) (23.2)\n",
            "Requirement already satisfied: protobuf!=3.19.5,>=3.15.3 in /usr/local/lib/python3.10/dist-packages (from ray) (3.20.3)\n",
            "Requirement already satisfied: pyyaml in /usr/local/lib/python3.10/dist-packages (from ray) (6.0.1)\n",
            "Requirement already satisfied: aiosignal in /usr/local/lib/python3.10/dist-packages (from ray) (1.3.1)\n",
            "Requirement already satisfied: frozenlist in /usr/local/lib/python3.10/dist-packages (from ray) (1.4.0)\n",
            "Requirement already satisfied: requests in /usr/local/lib/python3.10/dist-packages (from ray) (2.31.0)\n",
            "Requirement already satisfied: numpy>=1.19.3 in /usr/local/lib/python3.10/dist-packages (from ray) (1.23.5)\n",
            "Requirement already satisfied: attrs>=22.2.0 in /usr/local/lib/python3.10/dist-packages (from jsonschema->ray) (23.1.0)\n",
            "Requirement already satisfied: jsonschema-specifications>=2023.03.6 in /usr/local/lib/python3.10/dist-packages (from jsonschema->ray) (2023.11.2)\n",
            "Requirement already satisfied: referencing>=0.28.4 in /usr/local/lib/python3.10/dist-packages (from jsonschema->ray) (0.31.1)\n",
            "Requirement already satisfied: rpds-py>=0.7.1 in /usr/local/lib/python3.10/dist-packages (from jsonschema->ray) (0.13.2)\n",
            "Requirement already satisfied: charset-normalizer<4,>=2 in /usr/local/lib/python3.10/dist-packages (from requests->ray) (3.3.2)\n",
            "Requirement already satisfied: idna<4,>=2.5 in /usr/local/lib/python3.10/dist-packages (from requests->ray) (3.6)\n",
            "Requirement already satisfied: urllib3<3,>=1.21.1 in /usr/local/lib/python3.10/dist-packages (from requests->ray) (2.0.7)\n",
            "Requirement already satisfied: certifi>=2017.4.17 in /usr/local/lib/python3.10/dist-packages (from requests->ray) (2023.11.17)\n",
            "Installing collected packages: ray\n",
            "Successfully installed ray-2.8.1\n",
            "Collecting tensorboardx\n",
            "  Downloading tensorboardX-2.6.2.2-py2.py3-none-any.whl (101 kB)\n",
            "\u001b[2K     \u001b[90m━━━━━━━━━━━━━━━━━━━━━━━━━━━━━━━━━━━━━━━━\u001b[0m \u001b[32m101.7/101.7 kB\u001b[0m \u001b[31m787.7 kB/s\u001b[0m eta \u001b[36m0:00:00\u001b[0m\n",
            "\u001b[?25hRequirement already satisfied: numpy in /usr/local/lib/python3.10/dist-packages (from tensorboardx) (1.23.5)\n",
            "Requirement already satisfied: packaging in /usr/local/lib/python3.10/dist-packages (from tensorboardx) (23.2)\n",
            "Requirement already satisfied: protobuf>=3.20 in /usr/local/lib/python3.10/dist-packages (from tensorboardx) (3.20.3)\n",
            "Installing collected packages: tensorboardx\n",
            "Successfully installed tensorboardx-2.6.2.2\n",
            "Requirement already satisfied: ray[tune] in /usr/local/lib/python3.10/dist-packages (2.8.1)\n",
            "Requirement already satisfied: click>=7.0 in /usr/local/lib/python3.10/dist-packages (from ray[tune]) (8.1.7)\n",
            "Requirement already satisfied: filelock in /usr/local/lib/python3.10/dist-packages (from ray[tune]) (3.13.1)\n",
            "Requirement already satisfied: jsonschema in /usr/local/lib/python3.10/dist-packages (from ray[tune]) (4.19.2)\n",
            "Requirement already satisfied: msgpack<2.0.0,>=1.0.0 in /usr/local/lib/python3.10/dist-packages (from ray[tune]) (1.0.7)\n",
            "Requirement already satisfied: packaging in /usr/local/lib/python3.10/dist-packages (from ray[tune]) (23.2)\n",
            "Requirement already satisfied: protobuf!=3.19.5,>=3.15.3 in /usr/local/lib/python3.10/dist-packages (from ray[tune]) (3.20.3)\n",
            "Requirement already satisfied: pyyaml in /usr/local/lib/python3.10/dist-packages (from ray[tune]) (6.0.1)\n",
            "Requirement already satisfied: aiosignal in /usr/local/lib/python3.10/dist-packages (from ray[tune]) (1.3.1)\n",
            "Requirement already satisfied: frozenlist in /usr/local/lib/python3.10/dist-packages (from ray[tune]) (1.4.0)\n",
            "Requirement already satisfied: requests in /usr/local/lib/python3.10/dist-packages (from ray[tune]) (2.31.0)\n",
            "Requirement already satisfied: numpy>=1.19.3 in /usr/local/lib/python3.10/dist-packages (from ray[tune]) (1.23.5)\n",
            "Requirement already satisfied: pandas in /usr/local/lib/python3.10/dist-packages (from ray[tune]) (1.5.3)\n",
            "Requirement already satisfied: tensorboardX>=1.9 in /usr/local/lib/python3.10/dist-packages (from ray[tune]) (2.6.2.2)\n",
            "Requirement already satisfied: pyarrow>=6.0.1 in /usr/local/lib/python3.10/dist-packages (from ray[tune]) (10.0.1)\n",
            "Requirement already satisfied: fsspec in /usr/local/lib/python3.10/dist-packages (from ray[tune]) (2023.6.0)\n",
            "Requirement already satisfied: attrs>=22.2.0 in /usr/local/lib/python3.10/dist-packages (from jsonschema->ray[tune]) (23.1.0)\n",
            "Requirement already satisfied: jsonschema-specifications>=2023.03.6 in /usr/local/lib/python3.10/dist-packages (from jsonschema->ray[tune]) (2023.11.2)\n",
            "Requirement already satisfied: referencing>=0.28.4 in /usr/local/lib/python3.10/dist-packages (from jsonschema->ray[tune]) (0.31.1)\n",
            "Requirement already satisfied: rpds-py>=0.7.1 in /usr/local/lib/python3.10/dist-packages (from jsonschema->ray[tune]) (0.13.2)\n",
            "Requirement already satisfied: python-dateutil>=2.8.1 in /usr/local/lib/python3.10/dist-packages (from pandas->ray[tune]) (2.8.2)\n",
            "Requirement already satisfied: pytz>=2020.1 in /usr/local/lib/python3.10/dist-packages (from pandas->ray[tune]) (2023.3.post1)\n",
            "Requirement already satisfied: charset-normalizer<4,>=2 in /usr/local/lib/python3.10/dist-packages (from requests->ray[tune]) (3.3.2)\n",
            "Requirement already satisfied: idna<4,>=2.5 in /usr/local/lib/python3.10/dist-packages (from requests->ray[tune]) (3.6)\n",
            "Requirement already satisfied: urllib3<3,>=1.21.1 in /usr/local/lib/python3.10/dist-packages (from requests->ray[tune]) (2.0.7)\n",
            "Requirement already satisfied: certifi>=2017.4.17 in /usr/local/lib/python3.10/dist-packages (from requests->ray[tune]) (2023.11.17)\n",
            "Requirement already satisfied: six>=1.5 in /usr/local/lib/python3.10/dist-packages (from python-dateutil>=2.8.1->pandas->ray[tune]) (1.16.0)\n"
          ]
        }
      ]
    },
    {
      "cell_type": "code",
      "source": [
        "# Paquetes basicos\n",
        "import feather\n",
        "import numpy as np\n",
        "import pandas as pd\n",
        "import matplotlib.pyplot as plt\n",
        "from datetime import datetime  # Serie temporal\n",
        "\n",
        "# Paquetes de Preproceso\n",
        "from sklearn.experimental import enable_iterative_imputer\n",
        "from sklearn.impute import SimpleImputer, IterativeImputer\n",
        "from sklearn.preprocessing import OneHotEncoder, StandardScaler, MinMaxScaler, MaxAbsScaler\n",
        "from sklearn.pipeline import Pipeline\n",
        "from sklearn.compose import ColumnTransformer\n",
        "from sklearn.feature_selection import VarianceThreshold\n",
        "from sklearn.neighbors import KNeighborsRegressor, KNeighborsClassifier\n",
        "from sklearn.metrics import r2_score\n",
        "\n",
        "# Entrenamiento de modelo\n",
        "from sklearn.model_selection import TimeSeriesSplit, GridSearchCV, KFold, RandomizedSearchCV\n",
        "\n",
        "# No Ensemble\n",
        "from sklearn.tree import DecisionTreeRegressor\n",
        "from sklearn.svm import LinearSVR, SVR\n",
        "\n",
        "# Ensemble\n",
        "from sklearn.ensemble import RandomForestRegressor\n",
        "from xgboost import XGBRegressor\n",
        "\n",
        "# Modelo Final\n",
        "from joblib import dump, load"
      ],
      "metadata": {
        "id": "HCt4eBta_yTp"
      },
      "execution_count": null,
      "outputs": []
    },
    {
      "cell_type": "markdown",
      "source": [
        "Importamos los datos."
      ],
      "metadata": {
        "id": "15Hn87n3A0ya"
      }
    },
    {
      "cell_type": "code",
      "execution_count": null,
      "metadata": {
        "colab": {
          "base_uri": "https://localhost:8080/"
        },
        "id": "iDQp_Cwd-9mV",
        "outputId": "118dd288-d516-4bf0-b936-09f04e6e5fe8"
      },
      "outputs": [
        {
          "output_type": "stream",
          "name": "stdout",
          "text": [
            "Mounted at /content/drive\n"
          ]
        }
      ],
      "source": [
        "from google.colab import drive\n",
        "drive.mount('/content/drive')"
      ]
    },
    {
      "cell_type": "code",
      "source": [
        "datos = feather.read_dataframe('/content/drive/MyDrive/Aprendizaje Automatico/Practicas/Practica 2/disp.feather')\n",
        "datos[:2]"
      ],
      "metadata": {
        "id": "Hj7JjDEwAS03",
        "colab": {
          "base_uri": "https://localhost:8080/",
          "height": 161
        },
        "outputId": "6b8674aa-f177-4af8-9f4f-f4eebc8c1c4a"
      },
      "execution_count": null,
      "outputs": [
        {
          "output_type": "execute_result",
          "data": {
            "text/plain": [
              "       salida apcp_sf1_1  apcp_sf2_1  apcp_sf3_1  apcp_sf4_1  apcp_sf5_1  \\\n",
              "0  12384900.0        low         0.0         0.0    0.000000    0.000000   \n",
              "1  11908500.0        low         0.0         0.0    0.017273    0.139091   \n",
              "\n",
              "  dlwrf_s1_1 dlwrf_s2_1  dlwrf_s3_1 dlwrf_s4_1  ... ulwrf_t1_1  ulwrf_t2_1  \\\n",
              "0       None        low  251.901758        low  ...        0.0        high   \n",
              "1       blue     medium  271.982095     medium  ...        0.0      medium   \n",
              "\n",
              "   ulwrf_t3_1  ulwrf_t4_1  ulwrf_t5_1 uswrf_s1_1  uswrf_s2_1  uswrf_s3_1  \\\n",
              "0        high        high  260.522389        NaN         low   49.000000   \n",
              "1      medium      medium  232.871098        NaN         low   35.545455   \n",
              "\n",
              "   uswrf_s4_1  uswrf_s5_1  \n",
              "0  107.181818   73.545455  \n",
              "1   72.454545         NaN  \n",
              "\n",
              "[2 rows x 76 columns]"
            ],
            "text/html": [
              "\n",
              "  <div id=\"df-5d10d515-ac72-48ee-a357-56671b03d369\" class=\"colab-df-container\">\n",
              "    <div>\n",
              "<style scoped>\n",
              "    .dataframe tbody tr th:only-of-type {\n",
              "        vertical-align: middle;\n",
              "    }\n",
              "\n",
              "    .dataframe tbody tr th {\n",
              "        vertical-align: top;\n",
              "    }\n",
              "\n",
              "    .dataframe thead th {\n",
              "        text-align: right;\n",
              "    }\n",
              "</style>\n",
              "<table border=\"1\" class=\"dataframe\">\n",
              "  <thead>\n",
              "    <tr style=\"text-align: right;\">\n",
              "      <th></th>\n",
              "      <th>salida</th>\n",
              "      <th>apcp_sf1_1</th>\n",
              "      <th>apcp_sf2_1</th>\n",
              "      <th>apcp_sf3_1</th>\n",
              "      <th>apcp_sf4_1</th>\n",
              "      <th>apcp_sf5_1</th>\n",
              "      <th>dlwrf_s1_1</th>\n",
              "      <th>dlwrf_s2_1</th>\n",
              "      <th>dlwrf_s3_1</th>\n",
              "      <th>dlwrf_s4_1</th>\n",
              "      <th>...</th>\n",
              "      <th>ulwrf_t1_1</th>\n",
              "      <th>ulwrf_t2_1</th>\n",
              "      <th>ulwrf_t3_1</th>\n",
              "      <th>ulwrf_t4_1</th>\n",
              "      <th>ulwrf_t5_1</th>\n",
              "      <th>uswrf_s1_1</th>\n",
              "      <th>uswrf_s2_1</th>\n",
              "      <th>uswrf_s3_1</th>\n",
              "      <th>uswrf_s4_1</th>\n",
              "      <th>uswrf_s5_1</th>\n",
              "    </tr>\n",
              "  </thead>\n",
              "  <tbody>\n",
              "    <tr>\n",
              "      <th>0</th>\n",
              "      <td>12384900.0</td>\n",
              "      <td>low</td>\n",
              "      <td>0.0</td>\n",
              "      <td>0.0</td>\n",
              "      <td>0.000000</td>\n",
              "      <td>0.000000</td>\n",
              "      <td>None</td>\n",
              "      <td>low</td>\n",
              "      <td>251.901758</td>\n",
              "      <td>low</td>\n",
              "      <td>...</td>\n",
              "      <td>0.0</td>\n",
              "      <td>high</td>\n",
              "      <td>high</td>\n",
              "      <td>high</td>\n",
              "      <td>260.522389</td>\n",
              "      <td>NaN</td>\n",
              "      <td>low</td>\n",
              "      <td>49.000000</td>\n",
              "      <td>107.181818</td>\n",
              "      <td>73.545455</td>\n",
              "    </tr>\n",
              "    <tr>\n",
              "      <th>1</th>\n",
              "      <td>11908500.0</td>\n",
              "      <td>low</td>\n",
              "      <td>0.0</td>\n",
              "      <td>0.0</td>\n",
              "      <td>0.017273</td>\n",
              "      <td>0.139091</td>\n",
              "      <td>blue</td>\n",
              "      <td>medium</td>\n",
              "      <td>271.982095</td>\n",
              "      <td>medium</td>\n",
              "      <td>...</td>\n",
              "      <td>0.0</td>\n",
              "      <td>medium</td>\n",
              "      <td>medium</td>\n",
              "      <td>medium</td>\n",
              "      <td>232.871098</td>\n",
              "      <td>NaN</td>\n",
              "      <td>low</td>\n",
              "      <td>35.545455</td>\n",
              "      <td>72.454545</td>\n",
              "      <td>NaN</td>\n",
              "    </tr>\n",
              "  </tbody>\n",
              "</table>\n",
              "<p>2 rows × 76 columns</p>\n",
              "</div>\n",
              "    <div class=\"colab-df-buttons\">\n",
              "\n",
              "  <div class=\"colab-df-container\">\n",
              "    <button class=\"colab-df-convert\" onclick=\"convertToInteractive('df-5d10d515-ac72-48ee-a357-56671b03d369')\"\n",
              "            title=\"Convert this dataframe to an interactive table.\"\n",
              "            style=\"display:none;\">\n",
              "\n",
              "  <svg xmlns=\"http://www.w3.org/2000/svg\" height=\"24px\" viewBox=\"0 -960 960 960\">\n",
              "    <path d=\"M120-120v-720h720v720H120Zm60-500h600v-160H180v160Zm220 220h160v-160H400v160Zm0 220h160v-160H400v160ZM180-400h160v-160H180v160Zm440 0h160v-160H620v160ZM180-180h160v-160H180v160Zm440 0h160v-160H620v160Z\"/>\n",
              "  </svg>\n",
              "    </button>\n",
              "\n",
              "  <style>\n",
              "    .colab-df-container {\n",
              "      display:flex;\n",
              "      gap: 12px;\n",
              "    }\n",
              "\n",
              "    .colab-df-convert {\n",
              "      background-color: #E8F0FE;\n",
              "      border: none;\n",
              "      border-radius: 50%;\n",
              "      cursor: pointer;\n",
              "      display: none;\n",
              "      fill: #1967D2;\n",
              "      height: 32px;\n",
              "      padding: 0 0 0 0;\n",
              "      width: 32px;\n",
              "    }\n",
              "\n",
              "    .colab-df-convert:hover {\n",
              "      background-color: #E2EBFA;\n",
              "      box-shadow: 0px 1px 2px rgba(60, 64, 67, 0.3), 0px 1px 3px 1px rgba(60, 64, 67, 0.15);\n",
              "      fill: #174EA6;\n",
              "    }\n",
              "\n",
              "    .colab-df-buttons div {\n",
              "      margin-bottom: 4px;\n",
              "    }\n",
              "\n",
              "    [theme=dark] .colab-df-convert {\n",
              "      background-color: #3B4455;\n",
              "      fill: #D2E3FC;\n",
              "    }\n",
              "\n",
              "    [theme=dark] .colab-df-convert:hover {\n",
              "      background-color: #434B5C;\n",
              "      box-shadow: 0px 1px 3px 1px rgba(0, 0, 0, 0.15);\n",
              "      filter: drop-shadow(0px 1px 2px rgba(0, 0, 0, 0.3));\n",
              "      fill: #FFFFFF;\n",
              "    }\n",
              "  </style>\n",
              "\n",
              "    <script>\n",
              "      const buttonEl =\n",
              "        document.querySelector('#df-5d10d515-ac72-48ee-a357-56671b03d369 button.colab-df-convert');\n",
              "      buttonEl.style.display =\n",
              "        google.colab.kernel.accessAllowed ? 'block' : 'none';\n",
              "\n",
              "      async function convertToInteractive(key) {\n",
              "        const element = document.querySelector('#df-5d10d515-ac72-48ee-a357-56671b03d369');\n",
              "        const dataTable =\n",
              "          await google.colab.kernel.invokeFunction('convertToInteractive',\n",
              "                                                    [key], {});\n",
              "        if (!dataTable) return;\n",
              "\n",
              "        const docLinkHtml = 'Like what you see? Visit the ' +\n",
              "          '<a target=\"_blank\" href=https://colab.research.google.com/notebooks/data_table.ipynb>data table notebook</a>'\n",
              "          + ' to learn more about interactive tables.';\n",
              "        element.innerHTML = '';\n",
              "        dataTable['output_type'] = 'display_data';\n",
              "        await google.colab.output.renderOutput(dataTable, element);\n",
              "        const docLink = document.createElement('div');\n",
              "        docLink.innerHTML = docLinkHtml;\n",
              "        element.appendChild(docLink);\n",
              "      }\n",
              "    </script>\n",
              "  </div>\n",
              "\n",
              "\n",
              "<div id=\"df-c88e0537-6742-4493-bfd1-924a79f78380\">\n",
              "  <button class=\"colab-df-quickchart\" onclick=\"quickchart('df-c88e0537-6742-4493-bfd1-924a79f78380')\"\n",
              "            title=\"Suggest charts\"\n",
              "            style=\"display:none;\">\n",
              "\n",
              "<svg xmlns=\"http://www.w3.org/2000/svg\" height=\"24px\"viewBox=\"0 0 24 24\"\n",
              "     width=\"24px\">\n",
              "    <g>\n",
              "        <path d=\"M19 3H5c-1.1 0-2 .9-2 2v14c0 1.1.9 2 2 2h14c1.1 0 2-.9 2-2V5c0-1.1-.9-2-2-2zM9 17H7v-7h2v7zm4 0h-2V7h2v10zm4 0h-2v-4h2v4z\"/>\n",
              "    </g>\n",
              "</svg>\n",
              "  </button>\n",
              "\n",
              "<style>\n",
              "  .colab-df-quickchart {\n",
              "      --bg-color: #E8F0FE;\n",
              "      --fill-color: #1967D2;\n",
              "      --hover-bg-color: #E2EBFA;\n",
              "      --hover-fill-color: #174EA6;\n",
              "      --disabled-fill-color: #AAA;\n",
              "      --disabled-bg-color: #DDD;\n",
              "  }\n",
              "\n",
              "  [theme=dark] .colab-df-quickchart {\n",
              "      --bg-color: #3B4455;\n",
              "      --fill-color: #D2E3FC;\n",
              "      --hover-bg-color: #434B5C;\n",
              "      --hover-fill-color: #FFFFFF;\n",
              "      --disabled-bg-color: #3B4455;\n",
              "      --disabled-fill-color: #666;\n",
              "  }\n",
              "\n",
              "  .colab-df-quickchart {\n",
              "    background-color: var(--bg-color);\n",
              "    border: none;\n",
              "    border-radius: 50%;\n",
              "    cursor: pointer;\n",
              "    display: none;\n",
              "    fill: var(--fill-color);\n",
              "    height: 32px;\n",
              "    padding: 0;\n",
              "    width: 32px;\n",
              "  }\n",
              "\n",
              "  .colab-df-quickchart:hover {\n",
              "    background-color: var(--hover-bg-color);\n",
              "    box-shadow: 0 1px 2px rgba(60, 64, 67, 0.3), 0 1px 3px 1px rgba(60, 64, 67, 0.15);\n",
              "    fill: var(--button-hover-fill-color);\n",
              "  }\n",
              "\n",
              "  .colab-df-quickchart-complete:disabled,\n",
              "  .colab-df-quickchart-complete:disabled:hover {\n",
              "    background-color: var(--disabled-bg-color);\n",
              "    fill: var(--disabled-fill-color);\n",
              "    box-shadow: none;\n",
              "  }\n",
              "\n",
              "  .colab-df-spinner {\n",
              "    border: 2px solid var(--fill-color);\n",
              "    border-color: transparent;\n",
              "    border-bottom-color: var(--fill-color);\n",
              "    animation:\n",
              "      spin 1s steps(1) infinite;\n",
              "  }\n",
              "\n",
              "  @keyframes spin {\n",
              "    0% {\n",
              "      border-color: transparent;\n",
              "      border-bottom-color: var(--fill-color);\n",
              "      border-left-color: var(--fill-color);\n",
              "    }\n",
              "    20% {\n",
              "      border-color: transparent;\n",
              "      border-left-color: var(--fill-color);\n",
              "      border-top-color: var(--fill-color);\n",
              "    }\n",
              "    30% {\n",
              "      border-color: transparent;\n",
              "      border-left-color: var(--fill-color);\n",
              "      border-top-color: var(--fill-color);\n",
              "      border-right-color: var(--fill-color);\n",
              "    }\n",
              "    40% {\n",
              "      border-color: transparent;\n",
              "      border-right-color: var(--fill-color);\n",
              "      border-top-color: var(--fill-color);\n",
              "    }\n",
              "    60% {\n",
              "      border-color: transparent;\n",
              "      border-right-color: var(--fill-color);\n",
              "    }\n",
              "    80% {\n",
              "      border-color: transparent;\n",
              "      border-right-color: var(--fill-color);\n",
              "      border-bottom-color: var(--fill-color);\n",
              "    }\n",
              "    90% {\n",
              "      border-color: transparent;\n",
              "      border-bottom-color: var(--fill-color);\n",
              "    }\n",
              "  }\n",
              "</style>\n",
              "\n",
              "  <script>\n",
              "    async function quickchart(key) {\n",
              "      const quickchartButtonEl =\n",
              "        document.querySelector('#' + key + ' button');\n",
              "      quickchartButtonEl.disabled = true;  // To prevent multiple clicks.\n",
              "      quickchartButtonEl.classList.add('colab-df-spinner');\n",
              "      try {\n",
              "        const charts = await google.colab.kernel.invokeFunction(\n",
              "            'suggestCharts', [key], {});\n",
              "      } catch (error) {\n",
              "        console.error('Error during call to suggestCharts:', error);\n",
              "      }\n",
              "      quickchartButtonEl.classList.remove('colab-df-spinner');\n",
              "      quickchartButtonEl.classList.add('colab-df-quickchart-complete');\n",
              "    }\n",
              "    (() => {\n",
              "      let quickchartButtonEl =\n",
              "        document.querySelector('#df-c88e0537-6742-4493-bfd1-924a79f78380 button');\n",
              "      quickchartButtonEl.style.display =\n",
              "        google.colab.kernel.accessAllowed ? 'block' : 'none';\n",
              "    })();\n",
              "  </script>\n",
              "</div>\n",
              "    </div>\n",
              "  </div>\n"
            ]
          },
          "metadata": {},
          "execution_count": 5
        }
      ]
    },
    {
      "cell_type": "markdown",
      "source": [
        "Creamos un dataframe que contenga las fechas desde 1994 hasta 2006."
      ],
      "metadata": {
        "id": "F4yAmoG0yasY"
      }
    },
    {
      "cell_type": "code",
      "source": [
        "fecha_inicial = datetime(1994, 1, 5)\n",
        "fecha_final = datetime(2006, 1, 1)\n",
        "rango_fechas = pd.date_range(start = fecha_inicial, end = fecha_final)\n",
        "fechas = pd.DataFrame({'Fecha': rango_fechas})"
      ],
      "metadata": {
        "id": "LaOQ5DGc8VE0"
      },
      "execution_count": null,
      "outputs": []
    },
    {
      "cell_type": "markdown",
      "source": [
        "## EDA"
      ],
      "metadata": {
        "id": "69zpCRUo_BHw"
      }
    },
    {
      "cell_type": "markdown",
      "source": [
        "Vemos las dimensiones de los datos."
      ],
      "metadata": {
        "id": "IP7b_I8wBDSH"
      }
    },
    {
      "cell_type": "code",
      "source": [
        "datos.shape"
      ],
      "metadata": {
        "colab": {
          "base_uri": "https://localhost:8080/"
        },
        "id": "oM-TPrg2BBi-",
        "outputId": "a29900cf-7cad-48cb-ab1d-ba36ab73e60d"
      },
      "execution_count": null,
      "outputs": [
        {
          "output_type": "execute_result",
          "data": {
            "text/plain": [
              "(4380, 76)"
            ]
          },
          "metadata": {},
          "execution_count": 7
        }
      ]
    },
    {
      "cell_type": "markdown",
      "source": [
        "Vemos los atributos que tenemos."
      ],
      "metadata": {
        "id": "ZVIj01NYD-g9"
      }
    },
    {
      "cell_type": "code",
      "source": [
        "datos.columns"
      ],
      "metadata": {
        "colab": {
          "base_uri": "https://localhost:8080/"
        },
        "id": "2MYGVPR6EAJ-",
        "outputId": "c88d8c9d-d9c0-4710-b081-d5ca72bc89a9"
      },
      "execution_count": null,
      "outputs": [
        {
          "output_type": "execute_result",
          "data": {
            "text/plain": [
              "Index(['salida', 'apcp_sf1_1', 'apcp_sf2_1', 'apcp_sf3_1', 'apcp_sf4_1',\n",
              "       'apcp_sf5_1', 'dlwrf_s1_1', 'dlwrf_s2_1', 'dlwrf_s3_1', 'dlwrf_s4_1',\n",
              "       'dlwrf_s5_1', 'dswrf_s1_1', 'dswrf_s2_1', 'dswrf_s3_1', 'dswrf_s4_1',\n",
              "       'dswrf_s5_1', 'pres_ms1_1', 'pres_ms2_1', 'pres_ms3_1', 'pres_ms4_1',\n",
              "       'pres_ms5_1', 'pwat_ea1_1', 'pwat_ea2_1', 'pwat_ea3_1', 'pwat_ea4_1',\n",
              "       'pwat_ea5_1', 'spfh_2m1_1', 'spfh_2m2_1', 'spfh_2m3_1', 'spfh_2m4_1',\n",
              "       'spfh_2m5_1', 'tcdc_ea1_1', 'tcdc_ea2_1', 'tcdc_ea3_1', 'tcdc_ea4_1',\n",
              "       'tcdc_ea5_1', 'tcolc_e1_1', 'tcolc_e2_1', 'tcolc_e3_1', 'tcolc_e4_1',\n",
              "       'tcolc_e5_1', 'tmax_2m1_1', 'tmax_2m2_1', 'tmax_2m3_1', 'tmax_2m4_1',\n",
              "       'tmax_2m5_1', 'tmin_2m1_1', 'tmin_2m2_1', 'tmin_2m3_1', 'tmin_2m4_1',\n",
              "       'tmin_2m5_1', 'tmp_2m_1_1', 'tmp_2m_2_1', 'tmp_2m_3_1', 'tmp_2m_4_1',\n",
              "       'tmp_2m_5_1', 'tmp_sfc1_1', 'tmp_sfc2_1', 'tmp_sfc3_1', 'tmp_sfc4_1',\n",
              "       'tmp_sfc5_1', 'ulwrf_s1_1', 'ulwrf_s2_1', 'ulwrf_s3_1', 'ulwrf_s4_1',\n",
              "       'ulwrf_s5_1', 'ulwrf_t1_1', 'ulwrf_t2_1', 'ulwrf_t3_1', 'ulwrf_t4_1',\n",
              "       'ulwrf_t5_1', 'uswrf_s1_1', 'uswrf_s2_1', 'uswrf_s3_1', 'uswrf_s4_1',\n",
              "       'uswrf_s5_1'],\n",
              "      dtype='object')"
            ]
          },
          "metadata": {},
          "execution_count": 8
        }
      ]
    },
    {
      "cell_type": "markdown",
      "source": [
        "Vemos el tipo de variables que tenemos (numericas, categoricas, binarias...)"
      ],
      "metadata": {
        "id": "QgeEwl-iBF3W"
      }
    },
    {
      "cell_type": "code",
      "source": [
        "datos.dtypes"
      ],
      "metadata": {
        "colab": {
          "base_uri": "https://localhost:8080/"
        },
        "id": "dfpERTSeA6jc",
        "outputId": "77c5f3e8-5671-4164-d5e5-6956824fbb81"
      },
      "execution_count": null,
      "outputs": [
        {
          "output_type": "execute_result",
          "data": {
            "text/plain": [
              "salida         float64\n",
              "apcp_sf1_1    category\n",
              "apcp_sf2_1     float64\n",
              "apcp_sf3_1     float64\n",
              "apcp_sf4_1     float64\n",
              "                ...   \n",
              "uswrf_s1_1     float64\n",
              "uswrf_s2_1    category\n",
              "uswrf_s3_1     float64\n",
              "uswrf_s4_1     float64\n",
              "uswrf_s5_1     float64\n",
              "Length: 76, dtype: object"
            ]
          },
          "metadata": {},
          "execution_count": 9
        }
      ]
    },
    {
      "cell_type": "markdown",
      "source": [
        "Hacemos un resumen basico de los datos."
      ],
      "metadata": {
        "id": "7haY-4LyD2YC"
      }
    },
    {
      "cell_type": "code",
      "source": [
        "datos.describe()"
      ],
      "metadata": {
        "colab": {
          "base_uri": "https://localhost:8080/",
          "height": 349
        },
        "id": "S_owkciED327",
        "outputId": "0aa9ed23-36d6-4287-970f-552f4b124f61"
      },
      "execution_count": null,
      "outputs": [
        {
          "output_type": "execute_result",
          "data": {
            "text/plain": [
              "             salida   apcp_sf2_1   apcp_sf3_1   apcp_sf4_1   apcp_sf5_1  \\\n",
              "count  4.380000e+03  4380.000000  3504.000000  4380.000000  3767.000000   \n",
              "mean   1.687247e+07     0.241592     0.450221     0.251330     0.467992   \n",
              "std    7.924037e+06     1.062819     1.943508     0.983976     1.713311   \n",
              "min    7.206000e+05     0.000000     0.000000     0.000000     0.000000   \n",
              "25%    1.137892e+07     0.000000     0.000000     0.000000     0.000000   \n",
              "50%    1.695705e+07     0.000000     0.000000     0.000000     0.000000   \n",
              "75%    2.375048e+07     0.033636     0.078182     0.013636     0.045455   \n",
              "max    3.134790e+07    22.546364    32.670000    24.410000    35.470909   \n",
              "\n",
              "        dlwrf_s3_1   dswrf_s1_1   dswrf_s2_1   dswrf_s3_1     pres_ms1_1  ...  \\\n",
              "count  4380.000000  4380.000000  4380.000000  4380.000000    3854.000000  ...   \n",
              "mean    322.404314     0.048817   157.882233   373.804919  101710.505032  ...   \n",
              "std      58.847925     0.225272   109.684711   156.910276     739.955054  ...   \n",
              "min     167.622281     0.000000     0.000000    19.090909   99314.049006  ...   \n",
              "25%     272.924120     0.000000    50.000000   239.090909  101238.119496  ...   \n",
              "50%     325.027765     0.000000   140.000000   382.227273  101641.318537  ...   \n",
              "75%     377.426168     0.000000   258.250000   518.840909  102136.893821  ...   \n",
              "max     430.194341     2.000000   370.000000   634.727273  104711.001420  ...   \n",
              "\n",
              "        tmp_sfc5_1   ulwrf_s2_1   ulwrf_s4_1   ulwrf_s5_1  ulwrf_t1_1  \\\n",
              "count  3767.000000  3898.000000  3854.000000  4380.000000      3854.0   \n",
              "mean    290.876778   382.607421   445.544419   437.516798         0.0   \n",
              "std      10.936917    51.910580    57.538475    58.287767         0.0   \n",
              "min     253.174956   217.530941   280.650185   275.581856         0.0   \n",
              "25%     282.153395   339.246954   399.840394   390.830446         0.0   \n",
              "50%     291.515123   381.992985   444.641027   437.036721         0.0   \n",
              "75%     300.705759   431.114186   494.795769   488.092401         0.0   \n",
              "max     312.978197   476.145333   571.158569   560.144282         0.0   \n",
              "\n",
              "        ulwrf_t5_1  uswrf_s1_1   uswrf_s3_1   uswrf_s4_1   uswrf_s5_1  \n",
              "count  4380.000000       482.0  4380.000000  4380.000000  3811.000000  \n",
              "mean    263.047956         0.0    75.930656   128.743607   101.531237  \n",
              "std      38.679321         0.0    30.180077    39.287358    35.126465  \n",
              "min     121.743743         0.0     2.363636     4.272727     2.727273  \n",
              "25%     244.973457         0.0    53.181818   110.340909    76.909091  \n",
              "50%     270.405656         0.0    79.090909   138.454545   107.454545  \n",
              "75%     291.828192         0.0   102.113636   156.363636   131.363636  \n",
              "max     332.185372         0.0   185.909091   446.272727   313.909091  \n",
              "\n",
              "[8 rows x 46 columns]"
            ],
            "text/html": [
              "\n",
              "  <div id=\"df-2b2e0c13-2f7c-43b7-943a-70db27306206\" class=\"colab-df-container\">\n",
              "    <div>\n",
              "<style scoped>\n",
              "    .dataframe tbody tr th:only-of-type {\n",
              "        vertical-align: middle;\n",
              "    }\n",
              "\n",
              "    .dataframe tbody tr th {\n",
              "        vertical-align: top;\n",
              "    }\n",
              "\n",
              "    .dataframe thead th {\n",
              "        text-align: right;\n",
              "    }\n",
              "</style>\n",
              "<table border=\"1\" class=\"dataframe\">\n",
              "  <thead>\n",
              "    <tr style=\"text-align: right;\">\n",
              "      <th></th>\n",
              "      <th>salida</th>\n",
              "      <th>apcp_sf2_1</th>\n",
              "      <th>apcp_sf3_1</th>\n",
              "      <th>apcp_sf4_1</th>\n",
              "      <th>apcp_sf5_1</th>\n",
              "      <th>dlwrf_s3_1</th>\n",
              "      <th>dswrf_s1_1</th>\n",
              "      <th>dswrf_s2_1</th>\n",
              "      <th>dswrf_s3_1</th>\n",
              "      <th>pres_ms1_1</th>\n",
              "      <th>...</th>\n",
              "      <th>tmp_sfc5_1</th>\n",
              "      <th>ulwrf_s2_1</th>\n",
              "      <th>ulwrf_s4_1</th>\n",
              "      <th>ulwrf_s5_1</th>\n",
              "      <th>ulwrf_t1_1</th>\n",
              "      <th>ulwrf_t5_1</th>\n",
              "      <th>uswrf_s1_1</th>\n",
              "      <th>uswrf_s3_1</th>\n",
              "      <th>uswrf_s4_1</th>\n",
              "      <th>uswrf_s5_1</th>\n",
              "    </tr>\n",
              "  </thead>\n",
              "  <tbody>\n",
              "    <tr>\n",
              "      <th>count</th>\n",
              "      <td>4.380000e+03</td>\n",
              "      <td>4380.000000</td>\n",
              "      <td>3504.000000</td>\n",
              "      <td>4380.000000</td>\n",
              "      <td>3767.000000</td>\n",
              "      <td>4380.000000</td>\n",
              "      <td>4380.000000</td>\n",
              "      <td>4380.000000</td>\n",
              "      <td>4380.000000</td>\n",
              "      <td>3854.000000</td>\n",
              "      <td>...</td>\n",
              "      <td>3767.000000</td>\n",
              "      <td>3898.000000</td>\n",
              "      <td>3854.000000</td>\n",
              "      <td>4380.000000</td>\n",
              "      <td>3854.0</td>\n",
              "      <td>4380.000000</td>\n",
              "      <td>482.0</td>\n",
              "      <td>4380.000000</td>\n",
              "      <td>4380.000000</td>\n",
              "      <td>3811.000000</td>\n",
              "    </tr>\n",
              "    <tr>\n",
              "      <th>mean</th>\n",
              "      <td>1.687247e+07</td>\n",
              "      <td>0.241592</td>\n",
              "      <td>0.450221</td>\n",
              "      <td>0.251330</td>\n",
              "      <td>0.467992</td>\n",
              "      <td>322.404314</td>\n",
              "      <td>0.048817</td>\n",
              "      <td>157.882233</td>\n",
              "      <td>373.804919</td>\n",
              "      <td>101710.505032</td>\n",
              "      <td>...</td>\n",
              "      <td>290.876778</td>\n",
              "      <td>382.607421</td>\n",
              "      <td>445.544419</td>\n",
              "      <td>437.516798</td>\n",
              "      <td>0.0</td>\n",
              "      <td>263.047956</td>\n",
              "      <td>0.0</td>\n",
              "      <td>75.930656</td>\n",
              "      <td>128.743607</td>\n",
              "      <td>101.531237</td>\n",
              "    </tr>\n",
              "    <tr>\n",
              "      <th>std</th>\n",
              "      <td>7.924037e+06</td>\n",
              "      <td>1.062819</td>\n",
              "      <td>1.943508</td>\n",
              "      <td>0.983976</td>\n",
              "      <td>1.713311</td>\n",
              "      <td>58.847925</td>\n",
              "      <td>0.225272</td>\n",
              "      <td>109.684711</td>\n",
              "      <td>156.910276</td>\n",
              "      <td>739.955054</td>\n",
              "      <td>...</td>\n",
              "      <td>10.936917</td>\n",
              "      <td>51.910580</td>\n",
              "      <td>57.538475</td>\n",
              "      <td>58.287767</td>\n",
              "      <td>0.0</td>\n",
              "      <td>38.679321</td>\n",
              "      <td>0.0</td>\n",
              "      <td>30.180077</td>\n",
              "      <td>39.287358</td>\n",
              "      <td>35.126465</td>\n",
              "    </tr>\n",
              "    <tr>\n",
              "      <th>min</th>\n",
              "      <td>7.206000e+05</td>\n",
              "      <td>0.000000</td>\n",
              "      <td>0.000000</td>\n",
              "      <td>0.000000</td>\n",
              "      <td>0.000000</td>\n",
              "      <td>167.622281</td>\n",
              "      <td>0.000000</td>\n",
              "      <td>0.000000</td>\n",
              "      <td>19.090909</td>\n",
              "      <td>99314.049006</td>\n",
              "      <td>...</td>\n",
              "      <td>253.174956</td>\n",
              "      <td>217.530941</td>\n",
              "      <td>280.650185</td>\n",
              "      <td>275.581856</td>\n",
              "      <td>0.0</td>\n",
              "      <td>121.743743</td>\n",
              "      <td>0.0</td>\n",
              "      <td>2.363636</td>\n",
              "      <td>4.272727</td>\n",
              "      <td>2.727273</td>\n",
              "    </tr>\n",
              "    <tr>\n",
              "      <th>25%</th>\n",
              "      <td>1.137892e+07</td>\n",
              "      <td>0.000000</td>\n",
              "      <td>0.000000</td>\n",
              "      <td>0.000000</td>\n",
              "      <td>0.000000</td>\n",
              "      <td>272.924120</td>\n",
              "      <td>0.000000</td>\n",
              "      <td>50.000000</td>\n",
              "      <td>239.090909</td>\n",
              "      <td>101238.119496</td>\n",
              "      <td>...</td>\n",
              "      <td>282.153395</td>\n",
              "      <td>339.246954</td>\n",
              "      <td>399.840394</td>\n",
              "      <td>390.830446</td>\n",
              "      <td>0.0</td>\n",
              "      <td>244.973457</td>\n",
              "      <td>0.0</td>\n",
              "      <td>53.181818</td>\n",
              "      <td>110.340909</td>\n",
              "      <td>76.909091</td>\n",
              "    </tr>\n",
              "    <tr>\n",
              "      <th>50%</th>\n",
              "      <td>1.695705e+07</td>\n",
              "      <td>0.000000</td>\n",
              "      <td>0.000000</td>\n",
              "      <td>0.000000</td>\n",
              "      <td>0.000000</td>\n",
              "      <td>325.027765</td>\n",
              "      <td>0.000000</td>\n",
              "      <td>140.000000</td>\n",
              "      <td>382.227273</td>\n",
              "      <td>101641.318537</td>\n",
              "      <td>...</td>\n",
              "      <td>291.515123</td>\n",
              "      <td>381.992985</td>\n",
              "      <td>444.641027</td>\n",
              "      <td>437.036721</td>\n",
              "      <td>0.0</td>\n",
              "      <td>270.405656</td>\n",
              "      <td>0.0</td>\n",
              "      <td>79.090909</td>\n",
              "      <td>138.454545</td>\n",
              "      <td>107.454545</td>\n",
              "    </tr>\n",
              "    <tr>\n",
              "      <th>75%</th>\n",
              "      <td>2.375048e+07</td>\n",
              "      <td>0.033636</td>\n",
              "      <td>0.078182</td>\n",
              "      <td>0.013636</td>\n",
              "      <td>0.045455</td>\n",
              "      <td>377.426168</td>\n",
              "      <td>0.000000</td>\n",
              "      <td>258.250000</td>\n",
              "      <td>518.840909</td>\n",
              "      <td>102136.893821</td>\n",
              "      <td>...</td>\n",
              "      <td>300.705759</td>\n",
              "      <td>431.114186</td>\n",
              "      <td>494.795769</td>\n",
              "      <td>488.092401</td>\n",
              "      <td>0.0</td>\n",
              "      <td>291.828192</td>\n",
              "      <td>0.0</td>\n",
              "      <td>102.113636</td>\n",
              "      <td>156.363636</td>\n",
              "      <td>131.363636</td>\n",
              "    </tr>\n",
              "    <tr>\n",
              "      <th>max</th>\n",
              "      <td>3.134790e+07</td>\n",
              "      <td>22.546364</td>\n",
              "      <td>32.670000</td>\n",
              "      <td>24.410000</td>\n",
              "      <td>35.470909</td>\n",
              "      <td>430.194341</td>\n",
              "      <td>2.000000</td>\n",
              "      <td>370.000000</td>\n",
              "      <td>634.727273</td>\n",
              "      <td>104711.001420</td>\n",
              "      <td>...</td>\n",
              "      <td>312.978197</td>\n",
              "      <td>476.145333</td>\n",
              "      <td>571.158569</td>\n",
              "      <td>560.144282</td>\n",
              "      <td>0.0</td>\n",
              "      <td>332.185372</td>\n",
              "      <td>0.0</td>\n",
              "      <td>185.909091</td>\n",
              "      <td>446.272727</td>\n",
              "      <td>313.909091</td>\n",
              "    </tr>\n",
              "  </tbody>\n",
              "</table>\n",
              "<p>8 rows × 46 columns</p>\n",
              "</div>\n",
              "    <div class=\"colab-df-buttons\">\n",
              "\n",
              "  <div class=\"colab-df-container\">\n",
              "    <button class=\"colab-df-convert\" onclick=\"convertToInteractive('df-2b2e0c13-2f7c-43b7-943a-70db27306206')\"\n",
              "            title=\"Convert this dataframe to an interactive table.\"\n",
              "            style=\"display:none;\">\n",
              "\n",
              "  <svg xmlns=\"http://www.w3.org/2000/svg\" height=\"24px\" viewBox=\"0 -960 960 960\">\n",
              "    <path d=\"M120-120v-720h720v720H120Zm60-500h600v-160H180v160Zm220 220h160v-160H400v160Zm0 220h160v-160H400v160ZM180-400h160v-160H180v160Zm440 0h160v-160H620v160ZM180-180h160v-160H180v160Zm440 0h160v-160H620v160Z\"/>\n",
              "  </svg>\n",
              "    </button>\n",
              "\n",
              "  <style>\n",
              "    .colab-df-container {\n",
              "      display:flex;\n",
              "      gap: 12px;\n",
              "    }\n",
              "\n",
              "    .colab-df-convert {\n",
              "      background-color: #E8F0FE;\n",
              "      border: none;\n",
              "      border-radius: 50%;\n",
              "      cursor: pointer;\n",
              "      display: none;\n",
              "      fill: #1967D2;\n",
              "      height: 32px;\n",
              "      padding: 0 0 0 0;\n",
              "      width: 32px;\n",
              "    }\n",
              "\n",
              "    .colab-df-convert:hover {\n",
              "      background-color: #E2EBFA;\n",
              "      box-shadow: 0px 1px 2px rgba(60, 64, 67, 0.3), 0px 1px 3px 1px rgba(60, 64, 67, 0.15);\n",
              "      fill: #174EA6;\n",
              "    }\n",
              "\n",
              "    .colab-df-buttons div {\n",
              "      margin-bottom: 4px;\n",
              "    }\n",
              "\n",
              "    [theme=dark] .colab-df-convert {\n",
              "      background-color: #3B4455;\n",
              "      fill: #D2E3FC;\n",
              "    }\n",
              "\n",
              "    [theme=dark] .colab-df-convert:hover {\n",
              "      background-color: #434B5C;\n",
              "      box-shadow: 0px 1px 3px 1px rgba(0, 0, 0, 0.15);\n",
              "      filter: drop-shadow(0px 1px 2px rgba(0, 0, 0, 0.3));\n",
              "      fill: #FFFFFF;\n",
              "    }\n",
              "  </style>\n",
              "\n",
              "    <script>\n",
              "      const buttonEl =\n",
              "        document.querySelector('#df-2b2e0c13-2f7c-43b7-943a-70db27306206 button.colab-df-convert');\n",
              "      buttonEl.style.display =\n",
              "        google.colab.kernel.accessAllowed ? 'block' : 'none';\n",
              "\n",
              "      async function convertToInteractive(key) {\n",
              "        const element = document.querySelector('#df-2b2e0c13-2f7c-43b7-943a-70db27306206');\n",
              "        const dataTable =\n",
              "          await google.colab.kernel.invokeFunction('convertToInteractive',\n",
              "                                                    [key], {});\n",
              "        if (!dataTable) return;\n",
              "\n",
              "        const docLinkHtml = 'Like what you see? Visit the ' +\n",
              "          '<a target=\"_blank\" href=https://colab.research.google.com/notebooks/data_table.ipynb>data table notebook</a>'\n",
              "          + ' to learn more about interactive tables.';\n",
              "        element.innerHTML = '';\n",
              "        dataTable['output_type'] = 'display_data';\n",
              "        await google.colab.output.renderOutput(dataTable, element);\n",
              "        const docLink = document.createElement('div');\n",
              "        docLink.innerHTML = docLinkHtml;\n",
              "        element.appendChild(docLink);\n",
              "      }\n",
              "    </script>\n",
              "  </div>\n",
              "\n",
              "\n",
              "<div id=\"df-4755bd92-9718-4305-bec1-13e09387ec60\">\n",
              "  <button class=\"colab-df-quickchart\" onclick=\"quickchart('df-4755bd92-9718-4305-bec1-13e09387ec60')\"\n",
              "            title=\"Suggest charts\"\n",
              "            style=\"display:none;\">\n",
              "\n",
              "<svg xmlns=\"http://www.w3.org/2000/svg\" height=\"24px\"viewBox=\"0 0 24 24\"\n",
              "     width=\"24px\">\n",
              "    <g>\n",
              "        <path d=\"M19 3H5c-1.1 0-2 .9-2 2v14c0 1.1.9 2 2 2h14c1.1 0 2-.9 2-2V5c0-1.1-.9-2-2-2zM9 17H7v-7h2v7zm4 0h-2V7h2v10zm4 0h-2v-4h2v4z\"/>\n",
              "    </g>\n",
              "</svg>\n",
              "  </button>\n",
              "\n",
              "<style>\n",
              "  .colab-df-quickchart {\n",
              "      --bg-color: #E8F0FE;\n",
              "      --fill-color: #1967D2;\n",
              "      --hover-bg-color: #E2EBFA;\n",
              "      --hover-fill-color: #174EA6;\n",
              "      --disabled-fill-color: #AAA;\n",
              "      --disabled-bg-color: #DDD;\n",
              "  }\n",
              "\n",
              "  [theme=dark] .colab-df-quickchart {\n",
              "      --bg-color: #3B4455;\n",
              "      --fill-color: #D2E3FC;\n",
              "      --hover-bg-color: #434B5C;\n",
              "      --hover-fill-color: #FFFFFF;\n",
              "      --disabled-bg-color: #3B4455;\n",
              "      --disabled-fill-color: #666;\n",
              "  }\n",
              "\n",
              "  .colab-df-quickchart {\n",
              "    background-color: var(--bg-color);\n",
              "    border: none;\n",
              "    border-radius: 50%;\n",
              "    cursor: pointer;\n",
              "    display: none;\n",
              "    fill: var(--fill-color);\n",
              "    height: 32px;\n",
              "    padding: 0;\n",
              "    width: 32px;\n",
              "  }\n",
              "\n",
              "  .colab-df-quickchart:hover {\n",
              "    background-color: var(--hover-bg-color);\n",
              "    box-shadow: 0 1px 2px rgba(60, 64, 67, 0.3), 0 1px 3px 1px rgba(60, 64, 67, 0.15);\n",
              "    fill: var(--button-hover-fill-color);\n",
              "  }\n",
              "\n",
              "  .colab-df-quickchart-complete:disabled,\n",
              "  .colab-df-quickchart-complete:disabled:hover {\n",
              "    background-color: var(--disabled-bg-color);\n",
              "    fill: var(--disabled-fill-color);\n",
              "    box-shadow: none;\n",
              "  }\n",
              "\n",
              "  .colab-df-spinner {\n",
              "    border: 2px solid var(--fill-color);\n",
              "    border-color: transparent;\n",
              "    border-bottom-color: var(--fill-color);\n",
              "    animation:\n",
              "      spin 1s steps(1) infinite;\n",
              "  }\n",
              "\n",
              "  @keyframes spin {\n",
              "    0% {\n",
              "      border-color: transparent;\n",
              "      border-bottom-color: var(--fill-color);\n",
              "      border-left-color: var(--fill-color);\n",
              "    }\n",
              "    20% {\n",
              "      border-color: transparent;\n",
              "      border-left-color: var(--fill-color);\n",
              "      border-top-color: var(--fill-color);\n",
              "    }\n",
              "    30% {\n",
              "      border-color: transparent;\n",
              "      border-left-color: var(--fill-color);\n",
              "      border-top-color: var(--fill-color);\n",
              "      border-right-color: var(--fill-color);\n",
              "    }\n",
              "    40% {\n",
              "      border-color: transparent;\n",
              "      border-right-color: var(--fill-color);\n",
              "      border-top-color: var(--fill-color);\n",
              "    }\n",
              "    60% {\n",
              "      border-color: transparent;\n",
              "      border-right-color: var(--fill-color);\n",
              "    }\n",
              "    80% {\n",
              "      border-color: transparent;\n",
              "      border-right-color: var(--fill-color);\n",
              "      border-bottom-color: var(--fill-color);\n",
              "    }\n",
              "    90% {\n",
              "      border-color: transparent;\n",
              "      border-bottom-color: var(--fill-color);\n",
              "    }\n",
              "  }\n",
              "</style>\n",
              "\n",
              "  <script>\n",
              "    async function quickchart(key) {\n",
              "      const quickchartButtonEl =\n",
              "        document.querySelector('#' + key + ' button');\n",
              "      quickchartButtonEl.disabled = true;  // To prevent multiple clicks.\n",
              "      quickchartButtonEl.classList.add('colab-df-spinner');\n",
              "      try {\n",
              "        const charts = await google.colab.kernel.invokeFunction(\n",
              "            'suggestCharts', [key], {});\n",
              "      } catch (error) {\n",
              "        console.error('Error during call to suggestCharts:', error);\n",
              "      }\n",
              "      quickchartButtonEl.classList.remove('colab-df-spinner');\n",
              "      quickchartButtonEl.classList.add('colab-df-quickchart-complete');\n",
              "    }\n",
              "    (() => {\n",
              "      let quickchartButtonEl =\n",
              "        document.querySelector('#df-4755bd92-9718-4305-bec1-13e09387ec60 button');\n",
              "      quickchartButtonEl.style.display =\n",
              "        google.colab.kernel.accessAllowed ? 'block' : 'none';\n",
              "    })();\n",
              "  </script>\n",
              "</div>\n",
              "    </div>\n",
              "  </div>\n"
            ]
          },
          "metadata": {},
          "execution_count": 10
        }
      ]
    },
    {
      "cell_type": "markdown",
      "source": [
        "Vemos si hay valores faltantes para cada variable."
      ],
      "metadata": {
        "id": "z0rK7vJhCIae"
      }
    },
    {
      "cell_type": "code",
      "source": [
        "suma_na = datos.isna().sum()\n",
        "percent_na = 100 * (suma_na/datos.shape[0])\n",
        "df_na = pd.DataFrame({'Numero NA':suma_na, 'Porcentaje NA': percent_na})\n",
        "df_na.sort_values('Porcentaje NA', ascending = False)[:5]"
      ],
      "metadata": {
        "id": "5GVo9vfFA704",
        "colab": {
          "base_uri": "https://localhost:8080/",
          "height": 206
        },
        "outputId": "9b36f3d9-4167-433b-ede3-e4e71b61d861"
      },
      "execution_count": null,
      "outputs": [
        {
          "output_type": "execute_result",
          "data": {
            "text/plain": [
              "            Numero NA  Porcentaje NA\n",
              "pwat_ea3_1       4030      92.009132\n",
              "uswrf_s1_1       3898      88.995434\n",
              "apcp_sf3_1        876      20.000000\n",
              "tmp_sfc3_1        657      15.000000\n",
              "dlwrf_s5_1        657      15.000000"
            ],
            "text/html": [
              "\n",
              "  <div id=\"df-f67f7a91-227f-4ca9-a9d6-dbdeb5ed1a11\" class=\"colab-df-container\">\n",
              "    <div>\n",
              "<style scoped>\n",
              "    .dataframe tbody tr th:only-of-type {\n",
              "        vertical-align: middle;\n",
              "    }\n",
              "\n",
              "    .dataframe tbody tr th {\n",
              "        vertical-align: top;\n",
              "    }\n",
              "\n",
              "    .dataframe thead th {\n",
              "        text-align: right;\n",
              "    }\n",
              "</style>\n",
              "<table border=\"1\" class=\"dataframe\">\n",
              "  <thead>\n",
              "    <tr style=\"text-align: right;\">\n",
              "      <th></th>\n",
              "      <th>Numero NA</th>\n",
              "      <th>Porcentaje NA</th>\n",
              "    </tr>\n",
              "  </thead>\n",
              "  <tbody>\n",
              "    <tr>\n",
              "      <th>pwat_ea3_1</th>\n",
              "      <td>4030</td>\n",
              "      <td>92.009132</td>\n",
              "    </tr>\n",
              "    <tr>\n",
              "      <th>uswrf_s1_1</th>\n",
              "      <td>3898</td>\n",
              "      <td>88.995434</td>\n",
              "    </tr>\n",
              "    <tr>\n",
              "      <th>apcp_sf3_1</th>\n",
              "      <td>876</td>\n",
              "      <td>20.000000</td>\n",
              "    </tr>\n",
              "    <tr>\n",
              "      <th>tmp_sfc3_1</th>\n",
              "      <td>657</td>\n",
              "      <td>15.000000</td>\n",
              "    </tr>\n",
              "    <tr>\n",
              "      <th>dlwrf_s5_1</th>\n",
              "      <td>657</td>\n",
              "      <td>15.000000</td>\n",
              "    </tr>\n",
              "  </tbody>\n",
              "</table>\n",
              "</div>\n",
              "    <div class=\"colab-df-buttons\">\n",
              "\n",
              "  <div class=\"colab-df-container\">\n",
              "    <button class=\"colab-df-convert\" onclick=\"convertToInteractive('df-f67f7a91-227f-4ca9-a9d6-dbdeb5ed1a11')\"\n",
              "            title=\"Convert this dataframe to an interactive table.\"\n",
              "            style=\"display:none;\">\n",
              "\n",
              "  <svg xmlns=\"http://www.w3.org/2000/svg\" height=\"24px\" viewBox=\"0 -960 960 960\">\n",
              "    <path d=\"M120-120v-720h720v720H120Zm60-500h600v-160H180v160Zm220 220h160v-160H400v160Zm0 220h160v-160H400v160ZM180-400h160v-160H180v160Zm440 0h160v-160H620v160ZM180-180h160v-160H180v160Zm440 0h160v-160H620v160Z\"/>\n",
              "  </svg>\n",
              "    </button>\n",
              "\n",
              "  <style>\n",
              "    .colab-df-container {\n",
              "      display:flex;\n",
              "      gap: 12px;\n",
              "    }\n",
              "\n",
              "    .colab-df-convert {\n",
              "      background-color: #E8F0FE;\n",
              "      border: none;\n",
              "      border-radius: 50%;\n",
              "      cursor: pointer;\n",
              "      display: none;\n",
              "      fill: #1967D2;\n",
              "      height: 32px;\n",
              "      padding: 0 0 0 0;\n",
              "      width: 32px;\n",
              "    }\n",
              "\n",
              "    .colab-df-convert:hover {\n",
              "      background-color: #E2EBFA;\n",
              "      box-shadow: 0px 1px 2px rgba(60, 64, 67, 0.3), 0px 1px 3px 1px rgba(60, 64, 67, 0.15);\n",
              "      fill: #174EA6;\n",
              "    }\n",
              "\n",
              "    .colab-df-buttons div {\n",
              "      margin-bottom: 4px;\n",
              "    }\n",
              "\n",
              "    [theme=dark] .colab-df-convert {\n",
              "      background-color: #3B4455;\n",
              "      fill: #D2E3FC;\n",
              "    }\n",
              "\n",
              "    [theme=dark] .colab-df-convert:hover {\n",
              "      background-color: #434B5C;\n",
              "      box-shadow: 0px 1px 3px 1px rgba(0, 0, 0, 0.15);\n",
              "      filter: drop-shadow(0px 1px 2px rgba(0, 0, 0, 0.3));\n",
              "      fill: #FFFFFF;\n",
              "    }\n",
              "  </style>\n",
              "\n",
              "    <script>\n",
              "      const buttonEl =\n",
              "        document.querySelector('#df-f67f7a91-227f-4ca9-a9d6-dbdeb5ed1a11 button.colab-df-convert');\n",
              "      buttonEl.style.display =\n",
              "        google.colab.kernel.accessAllowed ? 'block' : 'none';\n",
              "\n",
              "      async function convertToInteractive(key) {\n",
              "        const element = document.querySelector('#df-f67f7a91-227f-4ca9-a9d6-dbdeb5ed1a11');\n",
              "        const dataTable =\n",
              "          await google.colab.kernel.invokeFunction('convertToInteractive',\n",
              "                                                    [key], {});\n",
              "        if (!dataTable) return;\n",
              "\n",
              "        const docLinkHtml = 'Like what you see? Visit the ' +\n",
              "          '<a target=\"_blank\" href=https://colab.research.google.com/notebooks/data_table.ipynb>data table notebook</a>'\n",
              "          + ' to learn more about interactive tables.';\n",
              "        element.innerHTML = '';\n",
              "        dataTable['output_type'] = 'display_data';\n",
              "        await google.colab.output.renderOutput(dataTable, element);\n",
              "        const docLink = document.createElement('div');\n",
              "        docLink.innerHTML = docLinkHtml;\n",
              "        element.appendChild(docLink);\n",
              "      }\n",
              "    </script>\n",
              "  </div>\n",
              "\n",
              "\n",
              "<div id=\"df-4c567496-6f69-4cd6-b50e-93415deeaf73\">\n",
              "  <button class=\"colab-df-quickchart\" onclick=\"quickchart('df-4c567496-6f69-4cd6-b50e-93415deeaf73')\"\n",
              "            title=\"Suggest charts\"\n",
              "            style=\"display:none;\">\n",
              "\n",
              "<svg xmlns=\"http://www.w3.org/2000/svg\" height=\"24px\"viewBox=\"0 0 24 24\"\n",
              "     width=\"24px\">\n",
              "    <g>\n",
              "        <path d=\"M19 3H5c-1.1 0-2 .9-2 2v14c0 1.1.9 2 2 2h14c1.1 0 2-.9 2-2V5c0-1.1-.9-2-2-2zM9 17H7v-7h2v7zm4 0h-2V7h2v10zm4 0h-2v-4h2v4z\"/>\n",
              "    </g>\n",
              "</svg>\n",
              "  </button>\n",
              "\n",
              "<style>\n",
              "  .colab-df-quickchart {\n",
              "      --bg-color: #E8F0FE;\n",
              "      --fill-color: #1967D2;\n",
              "      --hover-bg-color: #E2EBFA;\n",
              "      --hover-fill-color: #174EA6;\n",
              "      --disabled-fill-color: #AAA;\n",
              "      --disabled-bg-color: #DDD;\n",
              "  }\n",
              "\n",
              "  [theme=dark] .colab-df-quickchart {\n",
              "      --bg-color: #3B4455;\n",
              "      --fill-color: #D2E3FC;\n",
              "      --hover-bg-color: #434B5C;\n",
              "      --hover-fill-color: #FFFFFF;\n",
              "      --disabled-bg-color: #3B4455;\n",
              "      --disabled-fill-color: #666;\n",
              "  }\n",
              "\n",
              "  .colab-df-quickchart {\n",
              "    background-color: var(--bg-color);\n",
              "    border: none;\n",
              "    border-radius: 50%;\n",
              "    cursor: pointer;\n",
              "    display: none;\n",
              "    fill: var(--fill-color);\n",
              "    height: 32px;\n",
              "    padding: 0;\n",
              "    width: 32px;\n",
              "  }\n",
              "\n",
              "  .colab-df-quickchart:hover {\n",
              "    background-color: var(--hover-bg-color);\n",
              "    box-shadow: 0 1px 2px rgba(60, 64, 67, 0.3), 0 1px 3px 1px rgba(60, 64, 67, 0.15);\n",
              "    fill: var(--button-hover-fill-color);\n",
              "  }\n",
              "\n",
              "  .colab-df-quickchart-complete:disabled,\n",
              "  .colab-df-quickchart-complete:disabled:hover {\n",
              "    background-color: var(--disabled-bg-color);\n",
              "    fill: var(--disabled-fill-color);\n",
              "    box-shadow: none;\n",
              "  }\n",
              "\n",
              "  .colab-df-spinner {\n",
              "    border: 2px solid var(--fill-color);\n",
              "    border-color: transparent;\n",
              "    border-bottom-color: var(--fill-color);\n",
              "    animation:\n",
              "      spin 1s steps(1) infinite;\n",
              "  }\n",
              "\n",
              "  @keyframes spin {\n",
              "    0% {\n",
              "      border-color: transparent;\n",
              "      border-bottom-color: var(--fill-color);\n",
              "      border-left-color: var(--fill-color);\n",
              "    }\n",
              "    20% {\n",
              "      border-color: transparent;\n",
              "      border-left-color: var(--fill-color);\n",
              "      border-top-color: var(--fill-color);\n",
              "    }\n",
              "    30% {\n",
              "      border-color: transparent;\n",
              "      border-left-color: var(--fill-color);\n",
              "      border-top-color: var(--fill-color);\n",
              "      border-right-color: var(--fill-color);\n",
              "    }\n",
              "    40% {\n",
              "      border-color: transparent;\n",
              "      border-right-color: var(--fill-color);\n",
              "      border-top-color: var(--fill-color);\n",
              "    }\n",
              "    60% {\n",
              "      border-color: transparent;\n",
              "      border-right-color: var(--fill-color);\n",
              "    }\n",
              "    80% {\n",
              "      border-color: transparent;\n",
              "      border-right-color: var(--fill-color);\n",
              "      border-bottom-color: var(--fill-color);\n",
              "    }\n",
              "    90% {\n",
              "      border-color: transparent;\n",
              "      border-bottom-color: var(--fill-color);\n",
              "    }\n",
              "  }\n",
              "</style>\n",
              "\n",
              "  <script>\n",
              "    async function quickchart(key) {\n",
              "      const quickchartButtonEl =\n",
              "        document.querySelector('#' + key + ' button');\n",
              "      quickchartButtonEl.disabled = true;  // To prevent multiple clicks.\n",
              "      quickchartButtonEl.classList.add('colab-df-spinner');\n",
              "      try {\n",
              "        const charts = await google.colab.kernel.invokeFunction(\n",
              "            'suggestCharts', [key], {});\n",
              "      } catch (error) {\n",
              "        console.error('Error during call to suggestCharts:', error);\n",
              "      }\n",
              "      quickchartButtonEl.classList.remove('colab-df-spinner');\n",
              "      quickchartButtonEl.classList.add('colab-df-quickchart-complete');\n",
              "    }\n",
              "    (() => {\n",
              "      let quickchartButtonEl =\n",
              "        document.querySelector('#df-4c567496-6f69-4cd6-b50e-93415deeaf73 button');\n",
              "      quickchartButtonEl.style.display =\n",
              "        google.colab.kernel.accessAllowed ? 'block' : 'none';\n",
              "    })();\n",
              "  </script>\n",
              "</div>\n",
              "    </div>\n",
              "  </div>\n"
            ]
          },
          "metadata": {},
          "execution_count": 11
        }
      ]
    },
    {
      "cell_type": "markdown",
      "source": [
        "Vemos si hay variables con atributos constantes."
      ],
      "metadata": {
        "id": "P0qa5h-VCMnq"
      }
    },
    {
      "cell_type": "code",
      "source": [
        "datos.columns[datos.nunique() == 1]"
      ],
      "metadata": {
        "colab": {
          "base_uri": "https://localhost:8080/"
        },
        "id": "2iN4z_jRCPR8",
        "outputId": "828f20ae-5c0b-46cd-db2d-087ca32ce646"
      },
      "execution_count": null,
      "outputs": [
        {
          "output_type": "execute_result",
          "data": {
            "text/plain": [
              "Index(['pwat_ea3_1', 'spfh_2m3_1', 'tcolc_e3_1', 'tmin_2m2_1', 'tmin_2m4_1',\n",
              "       'tmp_2m_3_1', 'ulwrf_t1_1', 'uswrf_s1_1'],\n",
              "      dtype='object')"
            ]
          },
          "metadata": {},
          "execution_count": 12
        }
      ]
    },
    {
      "cell_type": "markdown",
      "source": [
        "Realizamos un grafico de la variable respuesta a lo largo del tiempo."
      ],
      "metadata": {
        "id": "19m5aytTCQmN"
      }
    },
    {
      "cell_type": "code",
      "source": [
        "plt.figure(figsize = (10,6))\n",
        "plt.plot(fechas, datos['salida'])\n",
        "plt.xlabel('Tiempo')\n",
        "plt.ylabel('Salida')\n",
        "plt.title('Serie Temporal de la Salida')\n",
        "plt.show()"
      ],
      "metadata": {
        "id": "U9HLaBhABP2S",
        "colab": {
          "base_uri": "https://localhost:8080/",
          "height": 564
        },
        "outputId": "88d52c8b-4469-43b4-dde1-167a3ce36a50"
      },
      "execution_count": null,
      "outputs": [
        {
          "output_type": "display_data",
          "data": {
            "text/plain": [
              "<Figure size 1000x600 with 1 Axes>"
            ],
            "image/png": "[encoded data removed]"
          },
          "metadata": {}
        }
      ]
    },
    {
      "cell_type": "markdown",
      "source": [
        "## Preproceso"
      ],
      "metadata": {
        "id": "bRVP27m84bzB"
      }
    },
    {
      "cell_type": "markdown",
      "source": [
        "Creamos una funcion que elimine las columnas que tengan >= 80% de missing values, pues estas columnas no nos proporcionan información para el modelo."
      ],
      "metadata": {
        "id": "FPm42ylZoReW"
      }
    },
    {
      "cell_type": "code",
      "source": [
        "datos_na = feather.read_dataframe('/content/drive/MyDrive/Aprendizaje Automatico/Practicas/Practica 2/disp.feather')\n",
        "\n",
        "def eliminar_na(datos_na):\n",
        "  b = df_na.shape[0]\n",
        "  col_datos_na = datos_na.columns\n",
        "  for i in range(b):\n",
        "    if df_na.iloc[i,1] >= 80:\n",
        "      datos_na = datos_na.drop([col_datos_na[i]], axis = 1)\n",
        "  return(datos_na)\n",
        "\n",
        "datos = eliminar_na(datos_na)"
      ],
      "metadata": {
        "id": "xEth-Ni9oTJl"
      },
      "execution_count": null,
      "outputs": []
    },
    {
      "cell_type": "markdown",
      "source": [
        "Dividimos los datos en las variables predictoras X y en la variable respuesta y que es la salida."
      ],
      "metadata": {
        "id": "mRXRWc7zGX46"
      }
    },
    {
      "cell_type": "code",
      "source": [
        "X = datos.drop(['salida'], axis = 1)\n",
        "y = datos['salida']"
      ],
      "metadata": {
        "id": "fOg10sI0GXQz"
      },
      "execution_count": null,
      "outputs": []
    },
    {
      "cell_type": "markdown",
      "source": [
        "Dividimos los datos en entrenamiento y test utilizando un holdout, pero los datos de entrenamiento y los de test no son aleatorios pues tenemos una serie temporal.\n",
        "\n",
        "Por tanto, los 6 primeros años son de entrenamiento y los 3 restantes son de test."
      ],
      "metadata": {
        "id": "vM3xKbkfmwWr"
      }
    },
    {
      "cell_type": "code",
      "source": [
        "tss = TimeSeriesSplit(n_splits = 3)\n",
        "for i_train, i_test in tss.split(X):\n",
        "  X_train, X_test = X.iloc[i_train,:], X.iloc[i_test,:]\n",
        "  y_train, y_test = y[i_train], y[i_test]"
      ],
      "metadata": {
        "id": "GFv00ggSchco"
      },
      "execution_count": null,
      "outputs": []
    },
    {
      "cell_type": "markdown",
      "source": [
        "Definimos un pipeline para variables numericas y otro para variables categoricas.\n",
        "\n",
        "El pipeline para variables numericas trata con las variables con atributos constantes, con la imputación de valores faltantes y con el escalado de los datos.\n",
        "\n",
        "El pipeline para variables categoricas transforma las variables a binarias, trata con las variables con atributos constantes e imputa los valores faltantes.  "
      ],
      "metadata": {
        "id": "5iCrwIVECDVt"
      }
    },
    {
      "cell_type": "code",
      "source": [
        "knn_num = KNeighborsRegressor()\n",
        "knn_cat = KNeighborsClassifier()\n",
        "\n",
        "num_pipeline = Pipeline([('variance_threshold', VarianceThreshold(0)),\n",
        "                         ('imputer', IterativeImputer(knn_num)),\n",
        "                         ('scaler', StandardScaler())])\n",
        "\n",
        "cat_pipeline = Pipeline([('onehot',OneHotEncoder(sparse_output = False, handle_unknown = 'ignore')),\n",
        "                         ('variance_threshold', VarianceThreshold(0)),\n",
        "                         ('imputer', IterativeImputer(knn_cat))])"
      ],
      "metadata": {
        "id": "-EUMpfcOkI83"
      },
      "execution_count": null,
      "outputs": []
    },
    {
      "cell_type": "markdown",
      "source": [
        "Vemos que columnas son categoricas y cuales son numericas para aplicar el pipeline correspondiente y entrenamos el modelo con los datos de entrenamiento."
      ],
      "metadata": {
        "id": "TEBBO9iWnZrp"
      }
    },
    {
      "cell_type": "code",
      "source": [
        "num_cols = X.select_dtypes(include = ['float64']).columns\n",
        "cat_cols = X.select_dtypes(include = ['object','category']).columns\n",
        "\n",
        "preproceso = ColumnTransformer([('num', num_pipeline, num_cols),\n",
        "                                ('cat', cat_pipeline, cat_cols)])\n",
        "\n",
        "preproceso.fit(X_train, y_train)"
      ],
      "metadata": {
        "id": "5aNmPitSnXXy",
        "colab": {
          "base_uri": "https://localhost:8080/",
          "height": 251
        },
        "outputId": "d9df597f-88aa-4637-9bc7-6e06ab49e28f"
      },
      "execution_count": null,
      "outputs": [
        {
          "output_type": "execute_result",
          "data": {
            "text/plain": [
              "ColumnTransformer(transformers=[('num',\n",
              "                                 Pipeline(steps=[('variance_threshold',\n",
              "                                                  VarianceThreshold(threshold=0)),\n",
              "                                                 ('imputer',\n",
              "                                                  IterativeImputer(estimator=KNeighborsRegressor())),\n",
              "                                                 ('scaler', StandardScaler())]),\n",
              "                                 Index(['apcp_sf2_1', 'apcp_sf3_1', 'apcp_sf4_1', 'apcp_sf5_1', 'dlwrf_s3_1',\n",
              "       'dswrf_s1_1', 'dswrf_s2_1', 'dswrf_s3_1', 'pres_ms1_1', 'pres_ms2_1',\n",
              "       'pres_ms3_1'...\n",
              "                                 Index(['apcp_sf1_1', 'dlwrf_s1_1', 'dlwrf_s2_1', 'dlwrf_s4_1', 'dlwrf_s5_1',\n",
              "       'dswrf_s4_1', 'dswrf_s5_1', 'pres_ms5_1', 'pwat_ea1_1', 'pwat_ea5_1',\n",
              "       'tcdc_ea3_1', 'tcdc_ea4_1', 'tcdc_ea5_1', 'tcolc_e2_1', 'tcolc_e4_1',\n",
              "       'tmax_2m1_1', 'tmax_2m2_1', 'tmax_2m3_1', 'tmax_2m4_1', 'tmin_2m1_1',\n",
              "       'tmp_2m_1_1', 'tmp_2m_4_1', 'tmp_sfc2_1', 'tmp_sfc4_1', 'ulwrf_s1_1',\n",
              "       'ulwrf_s3_1', 'ulwrf_t2_1', 'ulwrf_t3_1', 'ulwrf_t4_1', 'uswrf_s2_1'],\n",
              "      dtype='object'))])"
            ],
            "text/html": [
              "<style>#sk-container-id-1 {color: black;background-color: white;}#sk-container-id-1 pre{padding: 0;}#sk-container-id-1 div.sk-toggleable {background-color: white;}#sk-container-id-1 label.sk-toggleable__label {cursor: pointer;display: block;width: 100%;margin-bottom: 0;padding: 0.3em;box-sizing: border-box;text-align: center;}#sk-container-id-1 label.sk-toggleable__label-arrow:before {content: \"▸\";float: left;margin-right: 0.25em;color: #696969;}#sk-container-id-1 label.sk-toggleable__label-arrow:hover:before {color: black;}#sk-container-id-1 div.sk-estimator:hover label.sk-toggleable__label-arrow:before {color: black;}#sk-container-id-1 div.sk-toggleable__content {max-height: 0;max-width: 0;overflow: hidden;text-align: left;background-color: #f0f8ff;}#sk-container-id-1 div.sk-toggleable__content pre {margin: 0.2em;color: black;border-radius: 0.25em;background-color: #f0f8ff;}#sk-container-id-1 input.sk-toggleable__control:checked~div.sk-toggleable__content {max-height: 200px;max-width: 100%;overflow: auto;}#sk-container-id-1 input.sk-toggleable__control:checked~label.sk-toggleable__label-arrow:before {content: \"▾\";}#sk-container-id-1 div.sk-estimator input.sk-toggleable__control:checked~label.sk-toggleable__label {background-color: #d4ebff;}#sk-container-id-1 div.sk-label input.sk-toggleable__control:checked~label.sk-toggleable__label {background-color: #d4ebff;}#sk-container-id-1 input.sk-hidden--visually {border: 0;clip: rect(1px 1px 1px 1px);clip: rect(1px, 1px, 1px, 1px);height: 1px;margin: -1px;overflow: hidden;padding: 0;position: absolute;width: 1px;}#sk-container-id-1 div.sk-estimator {font-family: monospace;background-color: #f0f8ff;border: 1px dotted black;border-radius: 0.25em;box-sizing: border-box;margin-bottom: 0.5em;}#sk-container-id-1 div.sk-estimator:hover {background-color: #d4ebff;}#sk-container-id-1 div.sk-parallel-item::after {content: \"\";width: 100%;border-bottom: 1px solid gray;flex-grow: 1;}#sk-container-id-1 div.sk-label:hover label.sk-toggleable__label {background-color: #d4ebff;}#sk-container-id-1 div.sk-serial::before {content: \"\";position: absolute;border-left: 1px solid gray;box-sizing: border-box;top: 0;bottom: 0;left: 50%;z-index: 0;}#sk-container-id-1 div.sk-serial {display: flex;flex-direction: column;align-items: center;background-color: white;padding-right: 0.2em;padding-left: 0.2em;position: relative;}#sk-container-id-1 div.sk-item {position: relative;z-index: 1;}#sk-container-id-1 div.sk-parallel {display: flex;align-items: stretch;justify-content: center;background-color: white;position: relative;}#sk-container-id-1 div.sk-item::before, #sk-container-id-1 div.sk-parallel-item::before {content: \"\";position: absolute;border-left: 1px solid gray;box-sizing: border-box;top: 0;bottom: 0;left: 50%;z-index: -1;}#sk-container-id-1 div.sk-parallel-item {display: flex;flex-direction: column;z-index: 1;position: relative;background-color: white;}#sk-container-id-1 div.sk-parallel-item:first-child::after {align-self: flex-end;width: 50%;}#sk-container-id-1 div.sk-parallel-item:last-child::after {align-self: flex-start;width: 50%;}#sk-container-id-1 div.sk-parallel-item:only-child::after {width: 0;}#sk-container-id-1 div.sk-dashed-wrapped {border: 1px dashed gray;margin: 0 0.4em 0.5em 0.4em;box-sizing: border-box;padding-bottom: 0.4em;background-color: white;}#sk-container-id-1 div.sk-label label {font-family: monospace;font-weight: bold;display: inline-block;line-height: 1.2em;}#sk-container-id-1 div.sk-label-container {text-align: center;}#sk-container-id-1 div.sk-container {/* jupyter's `normalize.less` sets `[hidden] { display: none; }` but bootstrap.min.css set `[hidden] { display: none !important; }` so we also need the `!important` here to be able to override the default hidden behavior on the sphinx rendered scikit-learn.org. See: https://github.com/scikit-learn/scikit-learn/issues/21755 */display: inline-block !important;position: relative;}#sk-container-id-1 div.sk-text-repr-fallback {display: none;}</style><div id=\"sk-container-id-1\" class=\"sk-top-container\"><div class=\"sk-text-repr-fallback\"><pre>ColumnTransformer(transformers=[(&#x27;num&#x27;,\n",
              "                                 Pipeline(steps=[(&#x27;variance_threshold&#x27;,\n",
              "                                                  VarianceThreshold(threshold=0)),\n",
              "                                                 (&#x27;imputer&#x27;,\n",
              "                                                  IterativeImputer(estimator=KNeighborsRegressor())),\n",
              "                                                 (&#x27;scaler&#x27;, StandardScaler())]),\n",
              "                                 Index([&#x27;apcp_sf2_1&#x27;, &#x27;apcp_sf3_1&#x27;, &#x27;apcp_sf4_1&#x27;, &#x27;apcp_sf5_1&#x27;, &#x27;dlwrf_s3_1&#x27;,\n",
              "       &#x27;dswrf_s1_1&#x27;, &#x27;dswrf_s2_1&#x27;, &#x27;dswrf_s3_1&#x27;, &#x27;pres_ms1_1&#x27;, &#x27;pres_ms2_1&#x27;,\n",
              "       &#x27;pres_ms3_1&#x27;...\n",
              "                                 Index([&#x27;apcp_sf1_1&#x27;, &#x27;dlwrf_s1_1&#x27;, &#x27;dlwrf_s2_1&#x27;, &#x27;dlwrf_s4_1&#x27;, &#x27;dlwrf_s5_1&#x27;,\n",
              "       &#x27;dswrf_s4_1&#x27;, &#x27;dswrf_s5_1&#x27;, &#x27;pres_ms5_1&#x27;, &#x27;pwat_ea1_1&#x27;, &#x27;pwat_ea5_1&#x27;,\n",
              "       &#x27;tcdc_ea3_1&#x27;, &#x27;tcdc_ea4_1&#x27;, &#x27;tcdc_ea5_1&#x27;, &#x27;tcolc_e2_1&#x27;, &#x27;tcolc_e4_1&#x27;,\n",
              "       &#x27;tmax_2m1_1&#x27;, &#x27;tmax_2m2_1&#x27;, &#x27;tmax_2m3_1&#x27;, &#x27;tmax_2m4_1&#x27;, &#x27;tmin_2m1_1&#x27;,\n",
              "       &#x27;tmp_2m_1_1&#x27;, &#x27;tmp_2m_4_1&#x27;, &#x27;tmp_sfc2_1&#x27;, &#x27;tmp_sfc4_1&#x27;, &#x27;ulwrf_s1_1&#x27;,\n",
              "       &#x27;ulwrf_s3_1&#x27;, &#x27;ulwrf_t2_1&#x27;, &#x27;ulwrf_t3_1&#x27;, &#x27;ulwrf_t4_1&#x27;, &#x27;uswrf_s2_1&#x27;],\n",
              "      dtype=&#x27;object&#x27;))])</pre><b>In a Jupyter environment, please rerun this cell to show the HTML representation or trust the notebook. <br />On GitHub, the HTML representation is unable to render, please try loading this page with nbviewer.org.</b></div><div class=\"sk-container\" hidden><div class=\"sk-item sk-dashed-wrapped\"><div class=\"sk-label-container\"><div class=\"sk-label sk-toggleable\"><input class=\"sk-toggleable__control sk-hidden--visually\" id=\"sk-estimator-id-1\" type=\"checkbox\" ><label for=\"sk-estimator-id-1\" class=\"sk-toggleable__label sk-toggleable__label-arrow\">ColumnTransformer</label><div class=\"sk-toggleable__content\"><pre>ColumnTransformer(transformers=[(&#x27;num&#x27;,\n",
              "                                 Pipeline(steps=[(&#x27;variance_threshold&#x27;,\n",
              "                                                  VarianceThreshold(threshold=0)),\n",
              "                                                 (&#x27;imputer&#x27;,\n",
              "                                                  IterativeImputer(estimator=KNeighborsRegressor())),\n",
              "                                                 (&#x27;scaler&#x27;, StandardScaler())]),\n",
              "                                 Index([&#x27;apcp_sf2_1&#x27;, &#x27;apcp_sf3_1&#x27;, &#x27;apcp_sf4_1&#x27;, &#x27;apcp_sf5_1&#x27;, &#x27;dlwrf_s3_1&#x27;,\n",
              "       &#x27;dswrf_s1_1&#x27;, &#x27;dswrf_s2_1&#x27;, &#x27;dswrf_s3_1&#x27;, &#x27;pres_ms1_1&#x27;, &#x27;pres_ms2_1&#x27;,\n",
              "       &#x27;pres_ms3_1&#x27;...\n",
              "                                 Index([&#x27;apcp_sf1_1&#x27;, &#x27;dlwrf_s1_1&#x27;, &#x27;dlwrf_s2_1&#x27;, &#x27;dlwrf_s4_1&#x27;, &#x27;dlwrf_s5_1&#x27;,\n",
              "       &#x27;dswrf_s4_1&#x27;, &#x27;dswrf_s5_1&#x27;, &#x27;pres_ms5_1&#x27;, &#x27;pwat_ea1_1&#x27;, &#x27;pwat_ea5_1&#x27;,\n",
              "       &#x27;tcdc_ea3_1&#x27;, &#x27;tcdc_ea4_1&#x27;, &#x27;tcdc_ea5_1&#x27;, &#x27;tcolc_e2_1&#x27;, &#x27;tcolc_e4_1&#x27;,\n",
              "       &#x27;tmax_2m1_1&#x27;, &#x27;tmax_2m2_1&#x27;, &#x27;tmax_2m3_1&#x27;, &#x27;tmax_2m4_1&#x27;, &#x27;tmin_2m1_1&#x27;,\n",
              "       &#x27;tmp_2m_1_1&#x27;, &#x27;tmp_2m_4_1&#x27;, &#x27;tmp_sfc2_1&#x27;, &#x27;tmp_sfc4_1&#x27;, &#x27;ulwrf_s1_1&#x27;,\n",
              "       &#x27;ulwrf_s3_1&#x27;, &#x27;ulwrf_t2_1&#x27;, &#x27;ulwrf_t3_1&#x27;, &#x27;ulwrf_t4_1&#x27;, &#x27;uswrf_s2_1&#x27;],\n",
              "      dtype=&#x27;object&#x27;))])</pre></div></div></div><div class=\"sk-parallel\"><div class=\"sk-parallel-item\"><div class=\"sk-item\"><div class=\"sk-label-container\"><div class=\"sk-label sk-toggleable\"><input class=\"sk-toggleable__control sk-hidden--visually\" id=\"sk-estimator-id-2\" type=\"checkbox\" ><label for=\"sk-estimator-id-2\" class=\"sk-toggleable__label sk-toggleable__label-arrow\">num</label><div class=\"sk-toggleable__content\"><pre>Index([&#x27;apcp_sf2_1&#x27;, &#x27;apcp_sf3_1&#x27;, &#x27;apcp_sf4_1&#x27;, &#x27;apcp_sf5_1&#x27;, &#x27;dlwrf_s3_1&#x27;,\n",
              "       &#x27;dswrf_s1_1&#x27;, &#x27;dswrf_s2_1&#x27;, &#x27;dswrf_s3_1&#x27;, &#x27;pres_ms1_1&#x27;, &#x27;pres_ms2_1&#x27;,\n",
              "       &#x27;pres_ms3_1&#x27;, &#x27;pres_ms4_1&#x27;, &#x27;pwat_ea2_1&#x27;, &#x27;pwat_ea4_1&#x27;, &#x27;spfh_2m1_1&#x27;,\n",
              "       &#x27;spfh_2m2_1&#x27;, &#x27;spfh_2m3_1&#x27;, &#x27;spfh_2m4_1&#x27;, &#x27;spfh_2m5_1&#x27;, &#x27;tcdc_ea1_1&#x27;,\n",
              "       &#x27;tcdc_ea2_1&#x27;, &#x27;tcolc_e1_1&#x27;, &#x27;tcolc_e3_1&#x27;, &#x27;tcolc_e5_1&#x27;, &#x27;tmax_2m5_1&#x27;,\n",
              "       &#x27;tmin_2m2_1&#x27;, &#x27;tmin_2m3_1&#x27;, &#x27;tmin_2m4_1&#x27;, &#x27;tmin_2m5_1&#x27;, &#x27;tmp_2m_2_1&#x27;,\n",
              "       &#x27;tmp_2m_3_1&#x27;, &#x27;tmp_2m_5_1&#x27;, &#x27;tmp_sfc1_1&#x27;, &#x27;tmp_sfc3_1&#x27;, &#x27;tmp_sfc5_1&#x27;,\n",
              "       &#x27;ulwrf_s2_1&#x27;, &#x27;ulwrf_s4_1&#x27;, &#x27;ulwrf_s5_1&#x27;, &#x27;ulwrf_t1_1&#x27;, &#x27;ulwrf_t5_1&#x27;,\n",
              "       &#x27;uswrf_s3_1&#x27;, &#x27;uswrf_s4_1&#x27;, &#x27;uswrf_s5_1&#x27;],\n",
              "      dtype=&#x27;object&#x27;)</pre></div></div></div><div class=\"sk-serial\"><div class=\"sk-item\"><div class=\"sk-serial\"><div class=\"sk-item\"><div class=\"sk-estimator sk-toggleable\"><input class=\"sk-toggleable__control sk-hidden--visually\" id=\"sk-estimator-id-3\" type=\"checkbox\" ><label for=\"sk-estimator-id-3\" class=\"sk-toggleable__label sk-toggleable__label-arrow\">VarianceThreshold</label><div class=\"sk-toggleable__content\"><pre>VarianceThreshold(threshold=0)</pre></div></div></div><div class=\"sk-item sk-dashed-wrapped\"><div class=\"sk-label-container\"><div class=\"sk-label sk-toggleable\"><input class=\"sk-toggleable__control sk-hidden--visually\" id=\"sk-estimator-id-4\" type=\"checkbox\" ><label for=\"sk-estimator-id-4\" class=\"sk-toggleable__label sk-toggleable__label-arrow\">imputer: IterativeImputer</label><div class=\"sk-toggleable__content\"><pre>IterativeImputer(estimator=KNeighborsRegressor())</pre></div></div></div><div class=\"sk-parallel\"><div class=\"sk-parallel-item\"><div class=\"sk-item\"><div class=\"sk-label-container\"><div class=\"sk-label sk-toggleable\"><input class=\"sk-toggleable__control sk-hidden--visually\" id=\"sk-estimator-id-5\" type=\"checkbox\" ><label for=\"sk-estimator-id-5\" class=\"sk-toggleable__label sk-toggleable__label-arrow\">estimator: KNeighborsRegressor</label><div class=\"sk-toggleable__content\"><pre>KNeighborsRegressor()</pre></div></div></div><div class=\"sk-serial\"><div class=\"sk-item\"><div class=\"sk-estimator sk-toggleable\"><input class=\"sk-toggleable__control sk-hidden--visually\" id=\"sk-estimator-id-6\" type=\"checkbox\" ><label for=\"sk-estimator-id-6\" class=\"sk-toggleable__label sk-toggleable__label-arrow\">KNeighborsRegressor</label><div class=\"sk-toggleable__content\"><pre>KNeighborsRegressor()</pre></div></div></div></div></div></div></div></div><div class=\"sk-item\"><div class=\"sk-estimator sk-toggleable\"><input class=\"sk-toggleable__control sk-hidden--visually\" id=\"sk-estimator-id-7\" type=\"checkbox\" ><label for=\"sk-estimator-id-7\" class=\"sk-toggleable__label sk-toggleable__label-arrow\">StandardScaler</label><div class=\"sk-toggleable__content\"><pre>StandardScaler()</pre></div></div></div></div></div></div></div></div><div class=\"sk-parallel-item\"><div class=\"sk-item\"><div class=\"sk-label-container\"><div class=\"sk-label sk-toggleable\"><input class=\"sk-toggleable__control sk-hidden--visually\" id=\"sk-estimator-id-8\" type=\"checkbox\" ><label for=\"sk-estimator-id-8\" class=\"sk-toggleable__label sk-toggleable__label-arrow\">cat</label><div class=\"sk-toggleable__content\"><pre>Index([&#x27;apcp_sf1_1&#x27;, &#x27;dlwrf_s1_1&#x27;, &#x27;dlwrf_s2_1&#x27;, &#x27;dlwrf_s4_1&#x27;, &#x27;dlwrf_s5_1&#x27;,\n",
              "       &#x27;dswrf_s4_1&#x27;, &#x27;dswrf_s5_1&#x27;, &#x27;pres_ms5_1&#x27;, &#x27;pwat_ea1_1&#x27;, &#x27;pwat_ea5_1&#x27;,\n",
              "       &#x27;tcdc_ea3_1&#x27;, &#x27;tcdc_ea4_1&#x27;, &#x27;tcdc_ea5_1&#x27;, &#x27;tcolc_e2_1&#x27;, &#x27;tcolc_e4_1&#x27;,\n",
              "       &#x27;tmax_2m1_1&#x27;, &#x27;tmax_2m2_1&#x27;, &#x27;tmax_2m3_1&#x27;, &#x27;tmax_2m4_1&#x27;, &#x27;tmin_2m1_1&#x27;,\n",
              "       &#x27;tmp_2m_1_1&#x27;, &#x27;tmp_2m_4_1&#x27;, &#x27;tmp_sfc2_1&#x27;, &#x27;tmp_sfc4_1&#x27;, &#x27;ulwrf_s1_1&#x27;,\n",
              "       &#x27;ulwrf_s3_1&#x27;, &#x27;ulwrf_t2_1&#x27;, &#x27;ulwrf_t3_1&#x27;, &#x27;ulwrf_t4_1&#x27;, &#x27;uswrf_s2_1&#x27;],\n",
              "      dtype=&#x27;object&#x27;)</pre></div></div></div><div class=\"sk-serial\"><div class=\"sk-item\"><div class=\"sk-serial\"><div class=\"sk-item\"><div class=\"sk-estimator sk-toggleable\"><input class=\"sk-toggleable__control sk-hidden--visually\" id=\"sk-estimator-id-9\" type=\"checkbox\" ><label for=\"sk-estimator-id-9\" class=\"sk-toggleable__label sk-toggleable__label-arrow\">OneHotEncoder</label><div class=\"sk-toggleable__content\"><pre>OneHotEncoder(handle_unknown=&#x27;ignore&#x27;, sparse_output=False)</pre></div></div></div><div class=\"sk-item\"><div class=\"sk-estimator sk-toggleable\"><input class=\"sk-toggleable__control sk-hidden--visually\" id=\"sk-estimator-id-10\" type=\"checkbox\" ><label for=\"sk-estimator-id-10\" class=\"sk-toggleable__label sk-toggleable__label-arrow\">VarianceThreshold</label><div class=\"sk-toggleable__content\"><pre>VarianceThreshold(threshold=0)</pre></div></div></div><div class=\"sk-item sk-dashed-wrapped\"><div class=\"sk-label-container\"><div class=\"sk-label sk-toggleable\"><input class=\"sk-toggleable__control sk-hidden--visually\" id=\"sk-estimator-id-11\" type=\"checkbox\" ><label for=\"sk-estimator-id-11\" class=\"sk-toggleable__label sk-toggleable__label-arrow\">imputer: IterativeImputer</label><div class=\"sk-toggleable__content\"><pre>IterativeImputer(estimator=KNeighborsClassifier())</pre></div></div></div><div class=\"sk-parallel\"><div class=\"sk-parallel-item\"><div class=\"sk-item\"><div class=\"sk-label-container\"><div class=\"sk-label sk-toggleable\"><input class=\"sk-toggleable__control sk-hidden--visually\" id=\"sk-estimator-id-12\" type=\"checkbox\" ><label for=\"sk-estimator-id-12\" class=\"sk-toggleable__label sk-toggleable__label-arrow\">estimator: KNeighborsClassifier</label><div class=\"sk-toggleable__content\"><pre>KNeighborsClassifier()</pre></div></div></div><div class=\"sk-serial\"><div class=\"sk-item\"><div class=\"sk-estimator sk-toggleable\"><input class=\"sk-toggleable__control sk-hidden--visually\" id=\"sk-estimator-id-13\" type=\"checkbox\" ><label for=\"sk-estimator-id-13\" class=\"sk-toggleable__label sk-toggleable__label-arrow\">KNeighborsClassifier</label><div class=\"sk-toggleable__content\"><pre>KNeighborsClassifier()</pre></div></div></div></div></div></div></div></div></div></div></div></div></div></div></div></div></div>"
            ]
          },
          "metadata": {},
          "execution_count": 18
        }
      ]
    },
    {
      "cell_type": "markdown",
      "source": [
        "Ajustamos los hiperparametros del preproceso con un metodo knn.\n",
        "\n",
        "Ajustamos hiperparametros para el escalado, considerando el StandardScaler, el MinMaxScaler y el MaxAbsScaler para variables numericas.\n",
        "\n",
        "Ajustamos hiperparametros para la imputacion, considerando el knn para regresion y la media para variables numericas, y el knn para clasificacion y la moda para variables categoricas.\n",
        "\n",
        "Realizamos validacion interna con holdout y como metrica de evaluacion consideramos el R2."
      ],
      "metadata": {
        "id": "sNf9g6yd0t5W"
      }
    },
    {
      "cell_type": "code",
      "source": [
        "param_preproceso = {'preproceso__num__scaler': [StandardScaler(), MinMaxScaler(), MaxAbsScaler()],\n",
        "                    'preproceso__num__imputer': [IterativeImputer(estimator = knn_num), SimpleImputer(strategy = 'mean')],\n",
        "                    'preproceso__cat__imputer': [IterativeImputer(estimator = knn_cat), SimpleImputer(strategy = 'most_frequent')]}\n",
        "\n",
        "pipeline_knn = Pipeline([('preproceso', preproceso),\n",
        "                         ('knn', KNeighborsRegressor())])\n",
        "\n",
        "tss = TimeSeriesSplit(n_splits = 3)\n",
        "grid_search_knn = GridSearchCV(pipeline_knn, param_preproceso, cv = tss, scoring = 'r2')"
      ],
      "metadata": {
        "id": "0yiHr5fEy8Mp"
      },
      "execution_count": null,
      "outputs": []
    },
    {
      "cell_type": "markdown",
      "source": [
        "Realizamos el entrenamiento del modelo con la validacion externa que es un holdout no aleatorio de los datos."
      ],
      "metadata": {
        "id": "tij7R6rV1VBu"
      }
    },
    {
      "cell_type": "code",
      "source": [
        "grid_search_knn.fit(X_train, y_train)"
      ],
      "metadata": {
        "colab": {
          "base_uri": "https://localhost:8080/",
          "height": 351
        },
        "id": "8Amu36he08Au",
        "outputId": "c763f41e-28d3-48e8-cf9b-02aea99027c8"
      },
      "execution_count": null,
      "outputs": [
        {
          "output_type": "execute_result",
          "data": {
            "text/plain": [
              "GridSearchCV(cv=TimeSeriesSplit(gap=0, max_train_size=None, n_splits=3, test_size=None),\n",
              "             estimator=Pipeline(steps=[('preproceso',\n",
              "                                        ColumnTransformer(transformers=[('num',\n",
              "                                                                         Pipeline(steps=[('variance_threshold',\n",
              "                                                                                          VarianceThreshold(threshold=0)),\n",
              "                                                                                         ('imputer',\n",
              "                                                                                          IterativeImputer(estimator=KNeighborsRegressor())),\n",
              "                                                                                         ('scaler',\n",
              "                                                                                          StandardScaler())]),\n",
              "                                                                         Index(['apcp_sf2_1', 'apc...\n",
              "      dtype='object'))])),\n",
              "                                       ('knn', KNeighborsRegressor())]),\n",
              "             param_grid={'preproceso__cat__imputer': [IterativeImputer(estimator=KNeighborsClassifier()),\n",
              "                                                      SimpleImputer(strategy='most_frequent')],\n",
              "                         'preproceso__num__imputer': [IterativeImputer(estimator=KNeighborsRegressor()),\n",
              "                                                      SimpleImputer()],\n",
              "                         'preproceso__num__scaler': [StandardScaler(),\n",
              "                                                     MinMaxScaler(),\n",
              "                                                     MaxAbsScaler()]},\n",
              "             scoring='r2')"
            ],
            "text/html": [
              "<style>#sk-container-id-2 {color: black;background-color: white;}#sk-container-id-2 pre{padding: 0;}#sk-container-id-2 div.sk-toggleable {background-color: white;}#sk-container-id-2 label.sk-toggleable__label {cursor: pointer;display: block;width: 100%;margin-bottom: 0;padding: 0.3em;box-sizing: border-box;text-align: center;}#sk-container-id-2 label.sk-toggleable__label-arrow:before {content: \"▸\";float: left;margin-right: 0.25em;color: #696969;}#sk-container-id-2 label.sk-toggleable__label-arrow:hover:before {color: black;}#sk-container-id-2 div.sk-estimator:hover label.sk-toggleable__label-arrow:before {color: black;}#sk-container-id-2 div.sk-toggleable__content {max-height: 0;max-width: 0;overflow: hidden;text-align: left;background-color: #f0f8ff;}#sk-container-id-2 div.sk-toggleable__content pre {margin: 0.2em;color: black;border-radius: 0.25em;background-color: #f0f8ff;}#sk-container-id-2 input.sk-toggleable__control:checked~div.sk-toggleable__content {max-height: 200px;max-width: 100%;overflow: auto;}#sk-container-id-2 input.sk-toggleable__control:checked~label.sk-toggleable__label-arrow:before {content: \"▾\";}#sk-container-id-2 div.sk-estimator input.sk-toggleable__control:checked~label.sk-toggleable__label {background-color: #d4ebff;}#sk-container-id-2 div.sk-label input.sk-toggleable__control:checked~label.sk-toggleable__label {background-color: #d4ebff;}#sk-container-id-2 input.sk-hidden--visually {border: 0;clip: rect(1px 1px 1px 1px);clip: rect(1px, 1px, 1px, 1px);height: 1px;margin: -1px;overflow: hidden;padding: 0;position: absolute;width: 1px;}#sk-container-id-2 div.sk-estimator {font-family: monospace;background-color: #f0f8ff;border: 1px dotted black;border-radius: 0.25em;box-sizing: border-box;margin-bottom: 0.5em;}#sk-container-id-2 div.sk-estimator:hover {background-color: #d4ebff;}#sk-container-id-2 div.sk-parallel-item::after {content: \"\";width: 100%;border-bottom: 1px solid gray;flex-grow: 1;}#sk-container-id-2 div.sk-label:hover label.sk-toggleable__label {background-color: #d4ebff;}#sk-container-id-2 div.sk-serial::before {content: \"\";position: absolute;border-left: 1px solid gray;box-sizing: border-box;top: 0;bottom: 0;left: 50%;z-index: 0;}#sk-container-id-2 div.sk-serial {display: flex;flex-direction: column;align-items: center;background-color: white;padding-right: 0.2em;padding-left: 0.2em;position: relative;}#sk-container-id-2 div.sk-item {position: relative;z-index: 1;}#sk-container-id-2 div.sk-parallel {display: flex;align-items: stretch;justify-content: center;background-color: white;position: relative;}#sk-container-id-2 div.sk-item::before, #sk-container-id-2 div.sk-parallel-item::before {content: \"\";position: absolute;border-left: 1px solid gray;box-sizing: border-box;top: 0;bottom: 0;left: 50%;z-index: -1;}#sk-container-id-2 div.sk-parallel-item {display: flex;flex-direction: column;z-index: 1;position: relative;background-color: white;}#sk-container-id-2 div.sk-parallel-item:first-child::after {align-self: flex-end;width: 50%;}#sk-container-id-2 div.sk-parallel-item:last-child::after {align-self: flex-start;width: 50%;}#sk-container-id-2 div.sk-parallel-item:only-child::after {width: 0;}#sk-container-id-2 div.sk-dashed-wrapped {border: 1px dashed gray;margin: 0 0.4em 0.5em 0.4em;box-sizing: border-box;padding-bottom: 0.4em;background-color: white;}#sk-container-id-2 div.sk-label label {font-family: monospace;font-weight: bold;display: inline-block;line-height: 1.2em;}#sk-container-id-2 div.sk-label-container {text-align: center;}#sk-container-id-2 div.sk-container {/* jupyter's `normalize.less` sets `[hidden] { display: none; }` but bootstrap.min.css set `[hidden] { display: none !important; }` so we also need the `!important` here to be able to override the default hidden behavior on the sphinx rendered scikit-learn.org. See: https://github.com/scikit-learn/scikit-learn/issues/21755 */display: inline-block !important;position: relative;}#sk-container-id-2 div.sk-text-repr-fallback {display: none;}</style><div id=\"sk-container-id-2\" class=\"sk-top-container\"><div class=\"sk-text-repr-fallback\"><pre>GridSearchCV(cv=TimeSeriesSplit(gap=0, max_train_size=None, n_splits=3, test_size=None),\n",
              "             estimator=Pipeline(steps=[(&#x27;preproceso&#x27;,\n",
              "                                        ColumnTransformer(transformers=[(&#x27;num&#x27;,\n",
              "                                                                         Pipeline(steps=[(&#x27;variance_threshold&#x27;,\n",
              "                                                                                          VarianceThreshold(threshold=0)),\n",
              "                                                                                         (&#x27;imputer&#x27;,\n",
              "                                                                                          IterativeImputer(estimator=KNeighborsRegressor())),\n",
              "                                                                                         (&#x27;scaler&#x27;,\n",
              "                                                                                          StandardScaler())]),\n",
              "                                                                         Index([&#x27;apcp_sf2_1&#x27;, &#x27;apc...\n",
              "      dtype=&#x27;object&#x27;))])),\n",
              "                                       (&#x27;knn&#x27;, KNeighborsRegressor())]),\n",
              "             param_grid={&#x27;preproceso__cat__imputer&#x27;: [IterativeImputer(estimator=KNeighborsClassifier()),\n",
              "                                                      SimpleImputer(strategy=&#x27;most_frequent&#x27;)],\n",
              "                         &#x27;preproceso__num__imputer&#x27;: [IterativeImputer(estimator=KNeighborsRegressor()),\n",
              "                                                      SimpleImputer()],\n",
              "                         &#x27;preproceso__num__scaler&#x27;: [StandardScaler(),\n",
              "                                                     MinMaxScaler(),\n",
              "                                                     MaxAbsScaler()]},\n",
              "             scoring=&#x27;r2&#x27;)</pre><b>In a Jupyter environment, please rerun this cell to show the HTML representation or trust the notebook. <br />On GitHub, the HTML representation is unable to render, please try loading this page with nbviewer.org.</b></div><div class=\"sk-container\" hidden><div class=\"sk-item sk-dashed-wrapped\"><div class=\"sk-label-container\"><div class=\"sk-label sk-toggleable\"><input class=\"sk-toggleable__control sk-hidden--visually\" id=\"sk-estimator-id-14\" type=\"checkbox\" ><label for=\"sk-estimator-id-14\" class=\"sk-toggleable__label sk-toggleable__label-arrow\">GridSearchCV</label><div class=\"sk-toggleable__content\"><pre>GridSearchCV(cv=TimeSeriesSplit(gap=0, max_train_size=None, n_splits=3, test_size=None),\n",
              "             estimator=Pipeline(steps=[(&#x27;preproceso&#x27;,\n",
              "                                        ColumnTransformer(transformers=[(&#x27;num&#x27;,\n",
              "                                                                         Pipeline(steps=[(&#x27;variance_threshold&#x27;,\n",
              "                                                                                          VarianceThreshold(threshold=0)),\n",
              "                                                                                         (&#x27;imputer&#x27;,\n",
              "                                                                                          IterativeImputer(estimator=KNeighborsRegressor())),\n",
              "                                                                                         (&#x27;scaler&#x27;,\n",
              "                                                                                          StandardScaler())]),\n",
              "                                                                         Index([&#x27;apcp_sf2_1&#x27;, &#x27;apc...\n",
              "      dtype=&#x27;object&#x27;))])),\n",
              "                                       (&#x27;knn&#x27;, KNeighborsRegressor())]),\n",
              "             param_grid={&#x27;preproceso__cat__imputer&#x27;: [IterativeImputer(estimator=KNeighborsClassifier()),\n",
              "                                                      SimpleImputer(strategy=&#x27;most_frequent&#x27;)],\n",
              "                         &#x27;preproceso__num__imputer&#x27;: [IterativeImputer(estimator=KNeighborsRegressor()),\n",
              "                                                      SimpleImputer()],\n",
              "                         &#x27;preproceso__num__scaler&#x27;: [StandardScaler(),\n",
              "                                                     MinMaxScaler(),\n",
              "                                                     MaxAbsScaler()]},\n",
              "             scoring=&#x27;r2&#x27;)</pre></div></div></div><div class=\"sk-parallel\"><div class=\"sk-parallel-item\"><div class=\"sk-item\"><div class=\"sk-label-container\"><div class=\"sk-label sk-toggleable\"><input class=\"sk-toggleable__control sk-hidden--visually\" id=\"sk-estimator-id-15\" type=\"checkbox\" ><label for=\"sk-estimator-id-15\" class=\"sk-toggleable__label sk-toggleable__label-arrow\">estimator: Pipeline</label><div class=\"sk-toggleable__content\"><pre>Pipeline(steps=[(&#x27;preproceso&#x27;,\n",
              "                 ColumnTransformer(transformers=[(&#x27;num&#x27;,\n",
              "                                                  Pipeline(steps=[(&#x27;variance_threshold&#x27;,\n",
              "                                                                   VarianceThreshold(threshold=0)),\n",
              "                                                                  (&#x27;imputer&#x27;,\n",
              "                                                                   IterativeImputer(estimator=KNeighborsRegressor())),\n",
              "                                                                  (&#x27;scaler&#x27;,\n",
              "                                                                   StandardScaler())]),\n",
              "                                                  Index([&#x27;apcp_sf2_1&#x27;, &#x27;apcp_sf3_1&#x27;, &#x27;apcp_sf4_1&#x27;, &#x27;apcp_sf5_1&#x27;, &#x27;dlwrf_s3_1&#x27;,\n",
              "       &#x27;dswrf_s1_1&#x27;, &#x27;dswrf_s2_1&#x27;, &#x27;dswrf_s3_1&#x27;, &#x27;pres_ms...\n",
              "       &#x27;dswrf_s4_1&#x27;, &#x27;dswrf_s5_1&#x27;, &#x27;pres_ms5_1&#x27;, &#x27;pwat_ea1_1&#x27;, &#x27;pwat_ea5_1&#x27;,\n",
              "       &#x27;tcdc_ea3_1&#x27;, &#x27;tcdc_ea4_1&#x27;, &#x27;tcdc_ea5_1&#x27;, &#x27;tcolc_e2_1&#x27;, &#x27;tcolc_e4_1&#x27;,\n",
              "       &#x27;tmax_2m1_1&#x27;, &#x27;tmax_2m2_1&#x27;, &#x27;tmax_2m3_1&#x27;, &#x27;tmax_2m4_1&#x27;, &#x27;tmin_2m1_1&#x27;,\n",
              "       &#x27;tmp_2m_1_1&#x27;, &#x27;tmp_2m_4_1&#x27;, &#x27;tmp_sfc2_1&#x27;, &#x27;tmp_sfc4_1&#x27;, &#x27;ulwrf_s1_1&#x27;,\n",
              "       &#x27;ulwrf_s3_1&#x27;, &#x27;ulwrf_t2_1&#x27;, &#x27;ulwrf_t3_1&#x27;, &#x27;ulwrf_t4_1&#x27;, &#x27;uswrf_s2_1&#x27;],\n",
              "      dtype=&#x27;object&#x27;))])),\n",
              "                (&#x27;knn&#x27;, KNeighborsRegressor())])</pre></div></div></div><div class=\"sk-serial\"><div class=\"sk-item\"><div class=\"sk-serial\"><div class=\"sk-item sk-dashed-wrapped\"><div class=\"sk-label-container\"><div class=\"sk-label sk-toggleable\"><input class=\"sk-toggleable__control sk-hidden--visually\" id=\"sk-estimator-id-16\" type=\"checkbox\" ><label for=\"sk-estimator-id-16\" class=\"sk-toggleable__label sk-toggleable__label-arrow\">preproceso: ColumnTransformer</label><div class=\"sk-toggleable__content\"><pre>ColumnTransformer(transformers=[(&#x27;num&#x27;,\n",
              "                                 Pipeline(steps=[(&#x27;variance_threshold&#x27;,\n",
              "                                                  VarianceThreshold(threshold=0)),\n",
              "                                                 (&#x27;imputer&#x27;,\n",
              "                                                  IterativeImputer(estimator=KNeighborsRegressor())),\n",
              "                                                 (&#x27;scaler&#x27;, StandardScaler())]),\n",
              "                                 Index([&#x27;apcp_sf2_1&#x27;, &#x27;apcp_sf3_1&#x27;, &#x27;apcp_sf4_1&#x27;, &#x27;apcp_sf5_1&#x27;, &#x27;dlwrf_s3_1&#x27;,\n",
              "       &#x27;dswrf_s1_1&#x27;, &#x27;dswrf_s2_1&#x27;, &#x27;dswrf_s3_1&#x27;, &#x27;pres_ms1_1&#x27;, &#x27;pres_ms2_1&#x27;,\n",
              "       &#x27;pres_ms3_1&#x27;...\n",
              "                                 Index([&#x27;apcp_sf1_1&#x27;, &#x27;dlwrf_s1_1&#x27;, &#x27;dlwrf_s2_1&#x27;, &#x27;dlwrf_s4_1&#x27;, &#x27;dlwrf_s5_1&#x27;,\n",
              "       &#x27;dswrf_s4_1&#x27;, &#x27;dswrf_s5_1&#x27;, &#x27;pres_ms5_1&#x27;, &#x27;pwat_ea1_1&#x27;, &#x27;pwat_ea5_1&#x27;,\n",
              "       &#x27;tcdc_ea3_1&#x27;, &#x27;tcdc_ea4_1&#x27;, &#x27;tcdc_ea5_1&#x27;, &#x27;tcolc_e2_1&#x27;, &#x27;tcolc_e4_1&#x27;,\n",
              "       &#x27;tmax_2m1_1&#x27;, &#x27;tmax_2m2_1&#x27;, &#x27;tmax_2m3_1&#x27;, &#x27;tmax_2m4_1&#x27;, &#x27;tmin_2m1_1&#x27;,\n",
              "       &#x27;tmp_2m_1_1&#x27;, &#x27;tmp_2m_4_1&#x27;, &#x27;tmp_sfc2_1&#x27;, &#x27;tmp_sfc4_1&#x27;, &#x27;ulwrf_s1_1&#x27;,\n",
              "       &#x27;ulwrf_s3_1&#x27;, &#x27;ulwrf_t2_1&#x27;, &#x27;ulwrf_t3_1&#x27;, &#x27;ulwrf_t4_1&#x27;, &#x27;uswrf_s2_1&#x27;],\n",
              "      dtype=&#x27;object&#x27;))])</pre></div></div></div><div class=\"sk-parallel\"><div class=\"sk-parallel-item\"><div class=\"sk-item\"><div class=\"sk-label-container\"><div class=\"sk-label sk-toggleable\"><input class=\"sk-toggleable__control sk-hidden--visually\" id=\"sk-estimator-id-17\" type=\"checkbox\" ><label for=\"sk-estimator-id-17\" class=\"sk-toggleable__label sk-toggleable__label-arrow\">num</label><div class=\"sk-toggleable__content\"><pre>Index([&#x27;apcp_sf2_1&#x27;, &#x27;apcp_sf3_1&#x27;, &#x27;apcp_sf4_1&#x27;, &#x27;apcp_sf5_1&#x27;, &#x27;dlwrf_s3_1&#x27;,\n",
              "       &#x27;dswrf_s1_1&#x27;, &#x27;dswrf_s2_1&#x27;, &#x27;dswrf_s3_1&#x27;, &#x27;pres_ms1_1&#x27;, &#x27;pres_ms2_1&#x27;,\n",
              "       &#x27;pres_ms3_1&#x27;, &#x27;pres_ms4_1&#x27;, &#x27;pwat_ea2_1&#x27;, &#x27;pwat_ea4_1&#x27;, &#x27;spfh_2m1_1&#x27;,\n",
              "       &#x27;spfh_2m2_1&#x27;, &#x27;spfh_2m3_1&#x27;, &#x27;spfh_2m4_1&#x27;, &#x27;spfh_2m5_1&#x27;, &#x27;tcdc_ea1_1&#x27;,\n",
              "       &#x27;tcdc_ea2_1&#x27;, &#x27;tcolc_e1_1&#x27;, &#x27;tcolc_e3_1&#x27;, &#x27;tcolc_e5_1&#x27;, &#x27;tmax_2m5_1&#x27;,\n",
              "       &#x27;tmin_2m2_1&#x27;, &#x27;tmin_2m3_1&#x27;, &#x27;tmin_2m4_1&#x27;, &#x27;tmin_2m5_1&#x27;, &#x27;tmp_2m_2_1&#x27;,\n",
              "       &#x27;tmp_2m_3_1&#x27;, &#x27;tmp_2m_5_1&#x27;, &#x27;tmp_sfc1_1&#x27;, &#x27;tmp_sfc3_1&#x27;, &#x27;tmp_sfc5_1&#x27;,\n",
              "       &#x27;ulwrf_s2_1&#x27;, &#x27;ulwrf_s4_1&#x27;, &#x27;ulwrf_s5_1&#x27;, &#x27;ulwrf_t1_1&#x27;, &#x27;ulwrf_t5_1&#x27;,\n",
              "       &#x27;uswrf_s3_1&#x27;, &#x27;uswrf_s4_1&#x27;, &#x27;uswrf_s5_1&#x27;],\n",
              "      dtype=&#x27;object&#x27;)</pre></div></div></div><div class=\"sk-serial\"><div class=\"sk-item\"><div class=\"sk-serial\"><div class=\"sk-item\"><div class=\"sk-estimator sk-toggleable\"><input class=\"sk-toggleable__control sk-hidden--visually\" id=\"sk-estimator-id-18\" type=\"checkbox\" ><label for=\"sk-estimator-id-18\" class=\"sk-toggleable__label sk-toggleable__label-arrow\">VarianceThreshold</label><div class=\"sk-toggleable__content\"><pre>VarianceThreshold(threshold=0)</pre></div></div></div><div class=\"sk-item sk-dashed-wrapped\"><div class=\"sk-label-container\"><div class=\"sk-label sk-toggleable\"><input class=\"sk-toggleable__control sk-hidden--visually\" id=\"sk-estimator-id-19\" type=\"checkbox\" ><label for=\"sk-estimator-id-19\" class=\"sk-toggleable__label sk-toggleable__label-arrow\">imputer: IterativeImputer</label><div class=\"sk-toggleable__content\"><pre>IterativeImputer(estimator=KNeighborsRegressor())</pre></div></div></div><div class=\"sk-parallel\"><div class=\"sk-parallel-item\"><div class=\"sk-item\"><div class=\"sk-label-container\"><div class=\"sk-label sk-toggleable\"><input class=\"sk-toggleable__control sk-hidden--visually\" id=\"sk-estimator-id-20\" type=\"checkbox\" ><label for=\"sk-estimator-id-20\" class=\"sk-toggleable__label sk-toggleable__label-arrow\">estimator: KNeighborsRegressor</label><div class=\"sk-toggleable__content\"><pre>KNeighborsRegressor()</pre></div></div></div><div class=\"sk-serial\"><div class=\"sk-item\"><div class=\"sk-estimator sk-toggleable\"><input class=\"sk-toggleable__control sk-hidden--visually\" id=\"sk-estimator-id-21\" type=\"checkbox\" ><label for=\"sk-estimator-id-21\" class=\"sk-toggleable__label sk-toggleable__label-arrow\">KNeighborsRegressor</label><div class=\"sk-toggleable__content\"><pre>KNeighborsRegressor()</pre></div></div></div></div></div></div></div></div><div class=\"sk-item\"><div class=\"sk-estimator sk-toggleable\"><input class=\"sk-toggleable__control sk-hidden--visually\" id=\"sk-estimator-id-22\" type=\"checkbox\" ><label for=\"sk-estimator-id-22\" class=\"sk-toggleable__label sk-toggleable__label-arrow\">StandardScaler</label><div class=\"sk-toggleable__content\"><pre>StandardScaler()</pre></div></div></div></div></div></div></div></div><div class=\"sk-parallel-item\"><div class=\"sk-item\"><div class=\"sk-label-container\"><div class=\"sk-label sk-toggleable\"><input class=\"sk-toggleable__control sk-hidden--visually\" id=\"sk-estimator-id-23\" type=\"checkbox\" ><label for=\"sk-estimator-id-23\" class=\"sk-toggleable__label sk-toggleable__label-arrow\">cat</label><div class=\"sk-toggleable__content\"><pre>Index([&#x27;apcp_sf1_1&#x27;, &#x27;dlwrf_s1_1&#x27;, &#x27;dlwrf_s2_1&#x27;, &#x27;dlwrf_s4_1&#x27;, &#x27;dlwrf_s5_1&#x27;,\n",
              "       &#x27;dswrf_s4_1&#x27;, &#x27;dswrf_s5_1&#x27;, &#x27;pres_ms5_1&#x27;, &#x27;pwat_ea1_1&#x27;, &#x27;pwat_ea5_1&#x27;,\n",
              "       &#x27;tcdc_ea3_1&#x27;, &#x27;tcdc_ea4_1&#x27;, &#x27;tcdc_ea5_1&#x27;, &#x27;tcolc_e2_1&#x27;, &#x27;tcolc_e4_1&#x27;,\n",
              "       &#x27;tmax_2m1_1&#x27;, &#x27;tmax_2m2_1&#x27;, &#x27;tmax_2m3_1&#x27;, &#x27;tmax_2m4_1&#x27;, &#x27;tmin_2m1_1&#x27;,\n",
              "       &#x27;tmp_2m_1_1&#x27;, &#x27;tmp_2m_4_1&#x27;, &#x27;tmp_sfc2_1&#x27;, &#x27;tmp_sfc4_1&#x27;, &#x27;ulwrf_s1_1&#x27;,\n",
              "       &#x27;ulwrf_s3_1&#x27;, &#x27;ulwrf_t2_1&#x27;, &#x27;ulwrf_t3_1&#x27;, &#x27;ulwrf_t4_1&#x27;, &#x27;uswrf_s2_1&#x27;],\n",
              "      dtype=&#x27;object&#x27;)</pre></div></div></div><div class=\"sk-serial\"><div class=\"sk-item\"><div class=\"sk-serial\"><div class=\"sk-item\"><div class=\"sk-estimator sk-toggleable\"><input class=\"sk-toggleable__control sk-hidden--visually\" id=\"sk-estimator-id-24\" type=\"checkbox\" ><label for=\"sk-estimator-id-24\" class=\"sk-toggleable__label sk-toggleable__label-arrow\">OneHotEncoder</label><div class=\"sk-toggleable__content\"><pre>OneHotEncoder(handle_unknown=&#x27;ignore&#x27;, sparse_output=False)</pre></div></div></div><div class=\"sk-item\"><div class=\"sk-estimator sk-toggleable\"><input class=\"sk-toggleable__control sk-hidden--visually\" id=\"sk-estimator-id-25\" type=\"checkbox\" ><label for=\"sk-estimator-id-25\" class=\"sk-toggleable__label sk-toggleable__label-arrow\">VarianceThreshold</label><div class=\"sk-toggleable__content\"><pre>VarianceThreshold(threshold=0)</pre></div></div></div><div class=\"sk-item sk-dashed-wrapped\"><div class=\"sk-label-container\"><div class=\"sk-label sk-toggleable\"><input class=\"sk-toggleable__control sk-hidden--visually\" id=\"sk-estimator-id-26\" type=\"checkbox\" ><label for=\"sk-estimator-id-26\" class=\"sk-toggleable__label sk-toggleable__label-arrow\">imputer: IterativeImputer</label><div class=\"sk-toggleable__content\"><pre>IterativeImputer(estimator=KNeighborsClassifier())</pre></div></div></div><div class=\"sk-parallel\"><div class=\"sk-parallel-item\"><div class=\"sk-item\"><div class=\"sk-label-container\"><div class=\"sk-label sk-toggleable\"><input class=\"sk-toggleable__control sk-hidden--visually\" id=\"sk-estimator-id-27\" type=\"checkbox\" ><label for=\"sk-estimator-id-27\" class=\"sk-toggleable__label sk-toggleable__label-arrow\">estimator: KNeighborsClassifier</label><div class=\"sk-toggleable__content\"><pre>KNeighborsClassifier()</pre></div></div></div><div class=\"sk-serial\"><div class=\"sk-item\"><div class=\"sk-estimator sk-toggleable\"><input class=\"sk-toggleable__control sk-hidden--visually\" id=\"sk-estimator-id-28\" type=\"checkbox\" ><label for=\"sk-estimator-id-28\" class=\"sk-toggleable__label sk-toggleable__label-arrow\">KNeighborsClassifier</label><div class=\"sk-toggleable__content\"><pre>KNeighborsClassifier()</pre></div></div></div></div></div></div></div></div></div></div></div></div></div></div></div><div class=\"sk-item\"><div class=\"sk-estimator sk-toggleable\"><input class=\"sk-toggleable__control sk-hidden--visually\" id=\"sk-estimator-id-29\" type=\"checkbox\" ><label for=\"sk-estimator-id-29\" class=\"sk-toggleable__label sk-toggleable__label-arrow\">KNeighborsRegressor</label><div class=\"sk-toggleable__content\"><pre>KNeighborsRegressor()</pre></div></div></div></div></div></div></div></div></div></div></div></div>"
            ]
          },
          "metadata": {},
          "execution_count": 20
        }
      ]
    },
    {
      "cell_type": "markdown",
      "source": [
        "A lo largo de toda la practica, vamos a utilizar tanto validacion interna como validacion externa con holdout sin aleatoriedad."
      ],
      "metadata": {
        "id": "S1PDpADgMUi5"
      }
    },
    {
      "cell_type": "markdown",
      "source": [
        "Una vez entrenado el modelo, obtenemos los mejores valores de los hiperparametros del preproceso."
      ],
      "metadata": {
        "id": "FORc1pIH9CXk"
      }
    },
    {
      "cell_type": "code",
      "source": [
        "mejores_params_knn = grid_search_knn.best_params_\n",
        "print(mejores_params_knn)"
      ],
      "metadata": {
        "id": "UHThDqbZ9BtC",
        "colab": {
          "base_uri": "https://localhost:8080/"
        },
        "outputId": "c0875b1a-cdfc-4dc8-ff58-e53e8dbf7dd7"
      },
      "execution_count": null,
      "outputs": [
        {
          "output_type": "stream",
          "name": "stdout",
          "text": [
            "{'preproceso__cat__imputer': IterativeImputer(estimator=KNeighborsClassifier()), 'preproceso__num__imputer': IterativeImputer(estimator=KNeighborsRegressor()), 'preproceso__num__scaler': StandardScaler()}\n"
          ]
        }
      ]
    },
    {
      "cell_type": "markdown",
      "source": [
        "Obtenemos el mejor score para los datos de entrenamiento."
      ],
      "metadata": {
        "id": "ndh32CP49sH0"
      }
    },
    {
      "cell_type": "code",
      "source": [
        "score_knn = grid_search_knn.best_score_\n",
        "print(f'El mejor valor del r2 para los datos de entrenamiento es r2 = {score_knn}')"
      ],
      "metadata": {
        "id": "zoZyOTHp9sQn",
        "colab": {
          "base_uri": "https://localhost:8080/"
        },
        "outputId": "36a8b894-3242-48a3-aa56-5a9c2cc2be42"
      },
      "execution_count": null,
      "outputs": [
        {
          "output_type": "stream",
          "name": "stdout",
          "text": [
            "El mejor valor del r2 para los datos de entrenamiento es r2 = 0.7881002805257419\n"
          ]
        }
      ]
    },
    {
      "cell_type": "markdown",
      "source": [
        "Determinamos el mejor modelo que sera aquel que incluya los mejores valores de los hiperparametros del preproceso.\n",
        "\n",
        "Con este modelo obtenemos las predicciones con los datos de test y calculamos el score para datos de test."
      ],
      "metadata": {
        "id": "hghMTDIA9_NX"
      }
    },
    {
      "cell_type": "code",
      "source": [
        "mejor_modelo_knn = grid_search_knn.best_estimator_\n",
        "y_pred_test_knn = mejor_modelo_knn.predict(X_test)\n",
        "r2_knn = r2_score(y_test, y_pred_test_knn)\n",
        "print(f'El mejor valor del r2 para los datos de test es r2 = {r2_knn}')"
      ],
      "metadata": {
        "id": "xy9DLxP89_US",
        "colab": {
          "base_uri": "https://localhost:8080/"
        },
        "outputId": "96df301f-48f5-49e5-8611-d36f1626a2d7"
      },
      "execution_count": null,
      "outputs": [
        {
          "output_type": "stream",
          "name": "stdout",
          "text": [
            "El mejor valor del r2 para los datos de test es r2 = 0.7500853881453912\n"
          ]
        }
      ]
    },
    {
      "cell_type": "markdown",
      "source": [
        "Definimos el regresor que incluye los mejores hiperparametros del preproceso y que es el pipeline que utilizamos para toda la practica."
      ],
      "metadata": {
        "id": "9KgKzCY0_smR"
      }
    },
    {
      "cell_type": "code",
      "source": [
        "regresor = Pipeline([('preproceso', preproceso),\n",
        "                     ('regresor', KNeighborsRegressor())])"
      ],
      "metadata": {
        "id": "2WsmvCmE_tv6"
      },
      "execution_count": null,
      "outputs": []
    },
    {
      "cell_type": "markdown",
      "source": [
        "## No Ensembles Sin Ajuste HP"
      ],
      "metadata": {
        "id": "81gUpNGKQ5O5"
      }
    },
    {
      "cell_type": "markdown",
      "source": [
        "El primer caso de la practica que vamos a considerar son los metodos no ensembles sin ajuste de hiperparametros.\n",
        "\n",
        "Los metodos que se utilizan son: KNN, Arbol, SVM lineal y SVM kernel."
      ],
      "metadata": {
        "id": "u0b9O_OXQ_Na"
      }
    },
    {
      "cell_type": "code",
      "source": [
        "param_grid = {'regresor': [KNeighborsRegressor(), DecisionTreeRegressor(), SVR(kernel = 'linear'), SVR(kernel = 'rbf')]}\n",
        "\n",
        "tss = TimeSeriesSplit(n_splits = 3)\n",
        "grid_search_ne = GridSearchCV(regresor, param_grid, cv = tss, scoring = 'r2')"
      ],
      "metadata": {
        "id": "OO87aR6ZDCvR"
      },
      "execution_count": null,
      "outputs": []
    },
    {
      "cell_type": "markdown",
      "source": [
        "Entrenamos el modelo."
      ],
      "metadata": {
        "id": "fyoYe2WuK5HQ"
      }
    },
    {
      "cell_type": "code",
      "source": [
        "grid_search_ne.fit(X_train,y_train)"
      ],
      "metadata": {
        "id": "sNB2_9cNPa2w",
        "colab": {
          "base_uri": "https://localhost:8080/",
          "height": 351
        },
        "outputId": "271d24c9-8864-4ad3-8a74-7d0aadd329ef"
      },
      "execution_count": null,
      "outputs": [
        {
          "output_type": "execute_result",
          "data": {
            "text/plain": [
              "GridSearchCV(cv=TimeSeriesSplit(gap=0, max_train_size=None, n_splits=3, test_size=None),\n",
              "             estimator=Pipeline(steps=[('preproceso',\n",
              "                                        ColumnTransformer(transformers=[('num',\n",
              "                                                                         Pipeline(steps=[('variance_threshold',\n",
              "                                                                                          VarianceThreshold(threshold=0)),\n",
              "                                                                                         ('imputer',\n",
              "                                                                                          IterativeImputer(estimator=KNeighborsRegressor())),\n",
              "                                                                                         ('scaler',\n",
              "                                                                                          StandardScaler())]),\n",
              "                                                                         Index(['apcp_sf2_1', 'apc...\n",
              "       'tmax_2m1_1', 'tmax_2m2_1', 'tmax_2m3_1', 'tmax_2m4_1', 'tmin_2m1_1',\n",
              "       'tmp_2m_1_1', 'tmp_2m_4_1', 'tmp_sfc2_1', 'tmp_sfc4_1', 'ulwrf_s1_1',\n",
              "       'ulwrf_s3_1', 'ulwrf_t2_1', 'ulwrf_t3_1', 'ulwrf_t4_1', 'uswrf_s2_1'],\n",
              "      dtype='object'))])),\n",
              "                                       ('regresor', KNeighborsRegressor())]),\n",
              "             param_grid={'regresor': [KNeighborsRegressor(),\n",
              "                                      DecisionTreeRegressor(),\n",
              "                                      SVR(kernel='linear'), SVR()]},\n",
              "             scoring='r2')"
            ],
            "text/html": [
              "<style>#sk-container-id-3 {color: black;background-color: white;}#sk-container-id-3 pre{padding: 0;}#sk-container-id-3 div.sk-toggleable {background-color: white;}#sk-container-id-3 label.sk-toggleable__label {cursor: pointer;display: block;width: 100%;margin-bottom: 0;padding: 0.3em;box-sizing: border-box;text-align: center;}#sk-container-id-3 label.sk-toggleable__label-arrow:before {content: \"▸\";float: left;margin-right: 0.25em;color: #696969;}#sk-container-id-3 label.sk-toggleable__label-arrow:hover:before {color: black;}#sk-container-id-3 div.sk-estimator:hover label.sk-toggleable__label-arrow:before {color: black;}#sk-container-id-3 div.sk-toggleable__content {max-height: 0;max-width: 0;overflow: hidden;text-align: left;background-color: #f0f8ff;}#sk-container-id-3 div.sk-toggleable__content pre {margin: 0.2em;color: black;border-radius: 0.25em;background-color: #f0f8ff;}#sk-container-id-3 input.sk-toggleable__control:checked~div.sk-toggleable__content {max-height: 200px;max-width: 100%;overflow: auto;}#sk-container-id-3 input.sk-toggleable__control:checked~label.sk-toggleable__label-arrow:before {content: \"▾\";}#sk-container-id-3 div.sk-estimator input.sk-toggleable__control:checked~label.sk-toggleable__label {background-color: #d4ebff;}#sk-container-id-3 div.sk-label input.sk-toggleable__control:checked~label.sk-toggleable__label {background-color: #d4ebff;}#sk-container-id-3 input.sk-hidden--visually {border: 0;clip: rect(1px 1px 1px 1px);clip: rect(1px, 1px, 1px, 1px);height: 1px;margin: -1px;overflow: hidden;padding: 0;position: absolute;width: 1px;}#sk-container-id-3 div.sk-estimator {font-family: monospace;background-color: #f0f8ff;border: 1px dotted black;border-radius: 0.25em;box-sizing: border-box;margin-bottom: 0.5em;}#sk-container-id-3 div.sk-estimator:hover {background-color: #d4ebff;}#sk-container-id-3 div.sk-parallel-item::after {content: \"\";width: 100%;border-bottom: 1px solid gray;flex-grow: 1;}#sk-container-id-3 div.sk-label:hover label.sk-toggleable__label {background-color: #d4ebff;}#sk-container-id-3 div.sk-serial::before {content: \"\";position: absolute;border-left: 1px solid gray;box-sizing: border-box;top: 0;bottom: 0;left: 50%;z-index: 0;}#sk-container-id-3 div.sk-serial {display: flex;flex-direction: column;align-items: center;background-color: white;padding-right: 0.2em;padding-left: 0.2em;position: relative;}#sk-container-id-3 div.sk-item {position: relative;z-index: 1;}#sk-container-id-3 div.sk-parallel {display: flex;align-items: stretch;justify-content: center;background-color: white;position: relative;}#sk-container-id-3 div.sk-item::before, #sk-container-id-3 div.sk-parallel-item::before {content: \"\";position: absolute;border-left: 1px solid gray;box-sizing: border-box;top: 0;bottom: 0;left: 50%;z-index: -1;}#sk-container-id-3 div.sk-parallel-item {display: flex;flex-direction: column;z-index: 1;position: relative;background-color: white;}#sk-container-id-3 div.sk-parallel-item:first-child::after {align-self: flex-end;width: 50%;}#sk-container-id-3 div.sk-parallel-item:last-child::after {align-self: flex-start;width: 50%;}#sk-container-id-3 div.sk-parallel-item:only-child::after {width: 0;}#sk-container-id-3 div.sk-dashed-wrapped {border: 1px dashed gray;margin: 0 0.4em 0.5em 0.4em;box-sizing: border-box;padding-bottom: 0.4em;background-color: white;}#sk-container-id-3 div.sk-label label {font-family: monospace;font-weight: bold;display: inline-block;line-height: 1.2em;}#sk-container-id-3 div.sk-label-container {text-align: center;}#sk-container-id-3 div.sk-container {/* jupyter's `normalize.less` sets `[hidden] { display: none; }` but bootstrap.min.css set `[hidden] { display: none !important; }` so we also need the `!important` here to be able to override the default hidden behavior on the sphinx rendered scikit-learn.org. See: https://github.com/scikit-learn/scikit-learn/issues/21755 */display: inline-block !important;position: relative;}#sk-container-id-3 div.sk-text-repr-fallback {display: none;}</style><div id=\"sk-container-id-3\" class=\"sk-top-container\"><div class=\"sk-text-repr-fallback\"><pre>GridSearchCV(cv=TimeSeriesSplit(gap=0, max_train_size=None, n_splits=3, test_size=None),\n",
              "             estimator=Pipeline(steps=[(&#x27;preproceso&#x27;,\n",
              "                                        ColumnTransformer(transformers=[(&#x27;num&#x27;,\n",
              "                                                                         Pipeline(steps=[(&#x27;variance_threshold&#x27;,\n",
              "                                                                                          VarianceThreshold(threshold=0)),\n",
              "                                                                                         (&#x27;imputer&#x27;,\n",
              "                                                                                          IterativeImputer(estimator=KNeighborsRegressor())),\n",
              "                                                                                         (&#x27;scaler&#x27;,\n",
              "                                                                                          StandardScaler())]),\n",
              "                                                                         Index([&#x27;apcp_sf2_1&#x27;, &#x27;apc...\n",
              "       &#x27;tmax_2m1_1&#x27;, &#x27;tmax_2m2_1&#x27;, &#x27;tmax_2m3_1&#x27;, &#x27;tmax_2m4_1&#x27;, &#x27;tmin_2m1_1&#x27;,\n",
              "       &#x27;tmp_2m_1_1&#x27;, &#x27;tmp_2m_4_1&#x27;, &#x27;tmp_sfc2_1&#x27;, &#x27;tmp_sfc4_1&#x27;, &#x27;ulwrf_s1_1&#x27;,\n",
              "       &#x27;ulwrf_s3_1&#x27;, &#x27;ulwrf_t2_1&#x27;, &#x27;ulwrf_t3_1&#x27;, &#x27;ulwrf_t4_1&#x27;, &#x27;uswrf_s2_1&#x27;],\n",
              "      dtype=&#x27;object&#x27;))])),\n",
              "                                       (&#x27;regresor&#x27;, KNeighborsRegressor())]),\n",
              "             param_grid={&#x27;regresor&#x27;: [KNeighborsRegressor(),\n",
              "                                      DecisionTreeRegressor(),\n",
              "                                      SVR(kernel=&#x27;linear&#x27;), SVR()]},\n",
              "             scoring=&#x27;r2&#x27;)</pre><b>In a Jupyter environment, please rerun this cell to show the HTML representation or trust the notebook. <br />On GitHub, the HTML representation is unable to render, please try loading this page with nbviewer.org.</b></div><div class=\"sk-container\" hidden><div class=\"sk-item sk-dashed-wrapped\"><div class=\"sk-label-container\"><div class=\"sk-label sk-toggleable\"><input class=\"sk-toggleable__control sk-hidden--visually\" id=\"sk-estimator-id-30\" type=\"checkbox\" ><label for=\"sk-estimator-id-30\" class=\"sk-toggleable__label sk-toggleable__label-arrow\">GridSearchCV</label><div class=\"sk-toggleable__content\"><pre>GridSearchCV(cv=TimeSeriesSplit(gap=0, max_train_size=None, n_splits=3, test_size=None),\n",
              "             estimator=Pipeline(steps=[(&#x27;preproceso&#x27;,\n",
              "                                        ColumnTransformer(transformers=[(&#x27;num&#x27;,\n",
              "                                                                         Pipeline(steps=[(&#x27;variance_threshold&#x27;,\n",
              "                                                                                          VarianceThreshold(threshold=0)),\n",
              "                                                                                         (&#x27;imputer&#x27;,\n",
              "                                                                                          IterativeImputer(estimator=KNeighborsRegressor())),\n",
              "                                                                                         (&#x27;scaler&#x27;,\n",
              "                                                                                          StandardScaler())]),\n",
              "                                                                         Index([&#x27;apcp_sf2_1&#x27;, &#x27;apc...\n",
              "       &#x27;tmax_2m1_1&#x27;, &#x27;tmax_2m2_1&#x27;, &#x27;tmax_2m3_1&#x27;, &#x27;tmax_2m4_1&#x27;, &#x27;tmin_2m1_1&#x27;,\n",
              "       &#x27;tmp_2m_1_1&#x27;, &#x27;tmp_2m_4_1&#x27;, &#x27;tmp_sfc2_1&#x27;, &#x27;tmp_sfc4_1&#x27;, &#x27;ulwrf_s1_1&#x27;,\n",
              "       &#x27;ulwrf_s3_1&#x27;, &#x27;ulwrf_t2_1&#x27;, &#x27;ulwrf_t3_1&#x27;, &#x27;ulwrf_t4_1&#x27;, &#x27;uswrf_s2_1&#x27;],\n",
              "      dtype=&#x27;object&#x27;))])),\n",
              "                                       (&#x27;regresor&#x27;, KNeighborsRegressor())]),\n",
              "             param_grid={&#x27;regresor&#x27;: [KNeighborsRegressor(),\n",
              "                                      DecisionTreeRegressor(),\n",
              "                                      SVR(kernel=&#x27;linear&#x27;), SVR()]},\n",
              "             scoring=&#x27;r2&#x27;)</pre></div></div></div><div class=\"sk-parallel\"><div class=\"sk-parallel-item\"><div class=\"sk-item\"><div class=\"sk-label-container\"><div class=\"sk-label sk-toggleable\"><input class=\"sk-toggleable__control sk-hidden--visually\" id=\"sk-estimator-id-31\" type=\"checkbox\" ><label for=\"sk-estimator-id-31\" class=\"sk-toggleable__label sk-toggleable__label-arrow\">estimator: Pipeline</label><div class=\"sk-toggleable__content\"><pre>Pipeline(steps=[(&#x27;preproceso&#x27;,\n",
              "                 ColumnTransformer(transformers=[(&#x27;num&#x27;,\n",
              "                                                  Pipeline(steps=[(&#x27;variance_threshold&#x27;,\n",
              "                                                                   VarianceThreshold(threshold=0)),\n",
              "                                                                  (&#x27;imputer&#x27;,\n",
              "                                                                   IterativeImputer(estimator=KNeighborsRegressor())),\n",
              "                                                                  (&#x27;scaler&#x27;,\n",
              "                                                                   StandardScaler())]),\n",
              "                                                  Index([&#x27;apcp_sf2_1&#x27;, &#x27;apcp_sf3_1&#x27;, &#x27;apcp_sf4_1&#x27;, &#x27;apcp_sf5_1&#x27;, &#x27;dlwrf_s3_1&#x27;,\n",
              "       &#x27;dswrf_s1_1&#x27;, &#x27;dswrf_s2_1&#x27;, &#x27;dswrf_s3_1&#x27;, &#x27;pres_ms...\n",
              "       &#x27;dswrf_s4_1&#x27;, &#x27;dswrf_s5_1&#x27;, &#x27;pres_ms5_1&#x27;, &#x27;pwat_ea1_1&#x27;, &#x27;pwat_ea5_1&#x27;,\n",
              "       &#x27;tcdc_ea3_1&#x27;, &#x27;tcdc_ea4_1&#x27;, &#x27;tcdc_ea5_1&#x27;, &#x27;tcolc_e2_1&#x27;, &#x27;tcolc_e4_1&#x27;,\n",
              "       &#x27;tmax_2m1_1&#x27;, &#x27;tmax_2m2_1&#x27;, &#x27;tmax_2m3_1&#x27;, &#x27;tmax_2m4_1&#x27;, &#x27;tmin_2m1_1&#x27;,\n",
              "       &#x27;tmp_2m_1_1&#x27;, &#x27;tmp_2m_4_1&#x27;, &#x27;tmp_sfc2_1&#x27;, &#x27;tmp_sfc4_1&#x27;, &#x27;ulwrf_s1_1&#x27;,\n",
              "       &#x27;ulwrf_s3_1&#x27;, &#x27;ulwrf_t2_1&#x27;, &#x27;ulwrf_t3_1&#x27;, &#x27;ulwrf_t4_1&#x27;, &#x27;uswrf_s2_1&#x27;],\n",
              "      dtype=&#x27;object&#x27;))])),\n",
              "                (&#x27;regresor&#x27;, KNeighborsRegressor())])</pre></div></div></div><div class=\"sk-serial\"><div class=\"sk-item\"><div class=\"sk-serial\"><div class=\"sk-item sk-dashed-wrapped\"><div class=\"sk-label-container\"><div class=\"sk-label sk-toggleable\"><input class=\"sk-toggleable__control sk-hidden--visually\" id=\"sk-estimator-id-32\" type=\"checkbox\" ><label for=\"sk-estimator-id-32\" class=\"sk-toggleable__label sk-toggleable__label-arrow\">preproceso: ColumnTransformer</label><div class=\"sk-toggleable__content\"><pre>ColumnTransformer(transformers=[(&#x27;num&#x27;,\n",
              "                                 Pipeline(steps=[(&#x27;variance_threshold&#x27;,\n",
              "                                                  VarianceThreshold(threshold=0)),\n",
              "                                                 (&#x27;imputer&#x27;,\n",
              "                                                  IterativeImputer(estimator=KNeighborsRegressor())),\n",
              "                                                 (&#x27;scaler&#x27;, StandardScaler())]),\n",
              "                                 Index([&#x27;apcp_sf2_1&#x27;, &#x27;apcp_sf3_1&#x27;, &#x27;apcp_sf4_1&#x27;, &#x27;apcp_sf5_1&#x27;, &#x27;dlwrf_s3_1&#x27;,\n",
              "       &#x27;dswrf_s1_1&#x27;, &#x27;dswrf_s2_1&#x27;, &#x27;dswrf_s3_1&#x27;, &#x27;pres_ms1_1&#x27;, &#x27;pres_ms2_1&#x27;,\n",
              "       &#x27;pres_ms3_1&#x27;...\n",
              "                                 Index([&#x27;apcp_sf1_1&#x27;, &#x27;dlwrf_s1_1&#x27;, &#x27;dlwrf_s2_1&#x27;, &#x27;dlwrf_s4_1&#x27;, &#x27;dlwrf_s5_1&#x27;,\n",
              "       &#x27;dswrf_s4_1&#x27;, &#x27;dswrf_s5_1&#x27;, &#x27;pres_ms5_1&#x27;, &#x27;pwat_ea1_1&#x27;, &#x27;pwat_ea5_1&#x27;,\n",
              "       &#x27;tcdc_ea3_1&#x27;, &#x27;tcdc_ea4_1&#x27;, &#x27;tcdc_ea5_1&#x27;, &#x27;tcolc_e2_1&#x27;, &#x27;tcolc_e4_1&#x27;,\n",
              "       &#x27;tmax_2m1_1&#x27;, &#x27;tmax_2m2_1&#x27;, &#x27;tmax_2m3_1&#x27;, &#x27;tmax_2m4_1&#x27;, &#x27;tmin_2m1_1&#x27;,\n",
              "       &#x27;tmp_2m_1_1&#x27;, &#x27;tmp_2m_4_1&#x27;, &#x27;tmp_sfc2_1&#x27;, &#x27;tmp_sfc4_1&#x27;, &#x27;ulwrf_s1_1&#x27;,\n",
              "       &#x27;ulwrf_s3_1&#x27;, &#x27;ulwrf_t2_1&#x27;, &#x27;ulwrf_t3_1&#x27;, &#x27;ulwrf_t4_1&#x27;, &#x27;uswrf_s2_1&#x27;],\n",
              "      dtype=&#x27;object&#x27;))])</pre></div></div></div><div class=\"sk-parallel\"><div class=\"sk-parallel-item\"><div class=\"sk-item\"><div class=\"sk-label-container\"><div class=\"sk-label sk-toggleable\"><input class=\"sk-toggleable__control sk-hidden--visually\" id=\"sk-estimator-id-33\" type=\"checkbox\" ><label for=\"sk-estimator-id-33\" class=\"sk-toggleable__label sk-toggleable__label-arrow\">num</label><div class=\"sk-toggleable__content\"><pre>Index([&#x27;apcp_sf2_1&#x27;, &#x27;apcp_sf3_1&#x27;, &#x27;apcp_sf4_1&#x27;, &#x27;apcp_sf5_1&#x27;, &#x27;dlwrf_s3_1&#x27;,\n",
              "       &#x27;dswrf_s1_1&#x27;, &#x27;dswrf_s2_1&#x27;, &#x27;dswrf_s3_1&#x27;, &#x27;pres_ms1_1&#x27;, &#x27;pres_ms2_1&#x27;,\n",
              "       &#x27;pres_ms3_1&#x27;, &#x27;pres_ms4_1&#x27;, &#x27;pwat_ea2_1&#x27;, &#x27;pwat_ea4_1&#x27;, &#x27;spfh_2m1_1&#x27;,\n",
              "       &#x27;spfh_2m2_1&#x27;, &#x27;spfh_2m3_1&#x27;, &#x27;spfh_2m4_1&#x27;, &#x27;spfh_2m5_1&#x27;, &#x27;tcdc_ea1_1&#x27;,\n",
              "       &#x27;tcdc_ea2_1&#x27;, &#x27;tcolc_e1_1&#x27;, &#x27;tcolc_e3_1&#x27;, &#x27;tcolc_e5_1&#x27;, &#x27;tmax_2m5_1&#x27;,\n",
              "       &#x27;tmin_2m2_1&#x27;, &#x27;tmin_2m3_1&#x27;, &#x27;tmin_2m4_1&#x27;, &#x27;tmin_2m5_1&#x27;, &#x27;tmp_2m_2_1&#x27;,\n",
              "       &#x27;tmp_2m_3_1&#x27;, &#x27;tmp_2m_5_1&#x27;, &#x27;tmp_sfc1_1&#x27;, &#x27;tmp_sfc3_1&#x27;, &#x27;tmp_sfc5_1&#x27;,\n",
              "       &#x27;ulwrf_s2_1&#x27;, &#x27;ulwrf_s4_1&#x27;, &#x27;ulwrf_s5_1&#x27;, &#x27;ulwrf_t1_1&#x27;, &#x27;ulwrf_t5_1&#x27;,\n",
              "       &#x27;uswrf_s3_1&#x27;, &#x27;uswrf_s4_1&#x27;, &#x27;uswrf_s5_1&#x27;],\n",
              "      dtype=&#x27;object&#x27;)</pre></div></div></div><div class=\"sk-serial\"><div class=\"sk-item\"><div class=\"sk-serial\"><div class=\"sk-item\"><div class=\"sk-estimator sk-toggleable\"><input class=\"sk-toggleable__control sk-hidden--visually\" id=\"sk-estimator-id-34\" type=\"checkbox\" ><label for=\"sk-estimator-id-34\" class=\"sk-toggleable__label sk-toggleable__label-arrow\">VarianceThreshold</label><div class=\"sk-toggleable__content\"><pre>VarianceThreshold(threshold=0)</pre></div></div></div><div class=\"sk-item sk-dashed-wrapped\"><div class=\"sk-label-container\"><div class=\"sk-label sk-toggleable\"><input class=\"sk-toggleable__control sk-hidden--visually\" id=\"sk-estimator-id-35\" type=\"checkbox\" ><label for=\"sk-estimator-id-35\" class=\"sk-toggleable__label sk-toggleable__label-arrow\">imputer: IterativeImputer</label><div class=\"sk-toggleable__content\"><pre>IterativeImputer(estimator=KNeighborsRegressor())</pre></div></div></div><div class=\"sk-parallel\"><div class=\"sk-parallel-item\"><div class=\"sk-item\"><div class=\"sk-label-container\"><div class=\"sk-label sk-toggleable\"><input class=\"sk-toggleable__control sk-hidden--visually\" id=\"sk-estimator-id-36\" type=\"checkbox\" ><label for=\"sk-estimator-id-36\" class=\"sk-toggleable__label sk-toggleable__label-arrow\">estimator: KNeighborsRegressor</label><div class=\"sk-toggleable__content\"><pre>KNeighborsRegressor()</pre></div></div></div><div class=\"sk-serial\"><div class=\"sk-item\"><div class=\"sk-estimator sk-toggleable\"><input class=\"sk-toggleable__control sk-hidden--visually\" id=\"sk-estimator-id-37\" type=\"checkbox\" ><label for=\"sk-estimator-id-37\" class=\"sk-toggleable__label sk-toggleable__label-arrow\">KNeighborsRegressor</label><div class=\"sk-toggleable__content\"><pre>KNeighborsRegressor()</pre></div></div></div></div></div></div></div></div><div class=\"sk-item\"><div class=\"sk-estimator sk-toggleable\"><input class=\"sk-toggleable__control sk-hidden--visually\" id=\"sk-estimator-id-38\" type=\"checkbox\" ><label for=\"sk-estimator-id-38\" class=\"sk-toggleable__label sk-toggleable__label-arrow\">StandardScaler</label><div class=\"sk-toggleable__content\"><pre>StandardScaler()</pre></div></div></div></div></div></div></div></div><div class=\"sk-parallel-item\"><div class=\"sk-item\"><div class=\"sk-label-container\"><div class=\"sk-label sk-toggleable\"><input class=\"sk-toggleable__control sk-hidden--visually\" id=\"sk-estimator-id-39\" type=\"checkbox\" ><label for=\"sk-estimator-id-39\" class=\"sk-toggleable__label sk-toggleable__label-arrow\">cat</label><div class=\"sk-toggleable__content\"><pre>Index([&#x27;apcp_sf1_1&#x27;, &#x27;dlwrf_s1_1&#x27;, &#x27;dlwrf_s2_1&#x27;, &#x27;dlwrf_s4_1&#x27;, &#x27;dlwrf_s5_1&#x27;,\n",
              "       &#x27;dswrf_s4_1&#x27;, &#x27;dswrf_s5_1&#x27;, &#x27;pres_ms5_1&#x27;, &#x27;pwat_ea1_1&#x27;, &#x27;pwat_ea5_1&#x27;,\n",
              "       &#x27;tcdc_ea3_1&#x27;, &#x27;tcdc_ea4_1&#x27;, &#x27;tcdc_ea5_1&#x27;, &#x27;tcolc_e2_1&#x27;, &#x27;tcolc_e4_1&#x27;,\n",
              "       &#x27;tmax_2m1_1&#x27;, &#x27;tmax_2m2_1&#x27;, &#x27;tmax_2m3_1&#x27;, &#x27;tmax_2m4_1&#x27;, &#x27;tmin_2m1_1&#x27;,\n",
              "       &#x27;tmp_2m_1_1&#x27;, &#x27;tmp_2m_4_1&#x27;, &#x27;tmp_sfc2_1&#x27;, &#x27;tmp_sfc4_1&#x27;, &#x27;ulwrf_s1_1&#x27;,\n",
              "       &#x27;ulwrf_s3_1&#x27;, &#x27;ulwrf_t2_1&#x27;, &#x27;ulwrf_t3_1&#x27;, &#x27;ulwrf_t4_1&#x27;, &#x27;uswrf_s2_1&#x27;],\n",
              "      dtype=&#x27;object&#x27;)</pre></div></div></div><div class=\"sk-serial\"><div class=\"sk-item\"><div class=\"sk-serial\"><div class=\"sk-item\"><div class=\"sk-estimator sk-toggleable\"><input class=\"sk-toggleable__control sk-hidden--visually\" id=\"sk-estimator-id-40\" type=\"checkbox\" ><label for=\"sk-estimator-id-40\" class=\"sk-toggleable__label sk-toggleable__label-arrow\">OneHotEncoder</label><div class=\"sk-toggleable__content\"><pre>OneHotEncoder(handle_unknown=&#x27;ignore&#x27;, sparse_output=False)</pre></div></div></div><div class=\"sk-item\"><div class=\"sk-estimator sk-toggleable\"><input class=\"sk-toggleable__control sk-hidden--visually\" id=\"sk-estimator-id-41\" type=\"checkbox\" ><label for=\"sk-estimator-id-41\" class=\"sk-toggleable__label sk-toggleable__label-arrow\">VarianceThreshold</label><div class=\"sk-toggleable__content\"><pre>VarianceThreshold(threshold=0)</pre></div></div></div><div class=\"sk-item sk-dashed-wrapped\"><div class=\"sk-label-container\"><div class=\"sk-label sk-toggleable\"><input class=\"sk-toggleable__control sk-hidden--visually\" id=\"sk-estimator-id-42\" type=\"checkbox\" ><label for=\"sk-estimator-id-42\" class=\"sk-toggleable__label sk-toggleable__label-arrow\">imputer: IterativeImputer</label><div class=\"sk-toggleable__content\"><pre>IterativeImputer(estimator=KNeighborsClassifier())</pre></div></div></div><div class=\"sk-parallel\"><div class=\"sk-parallel-item\"><div class=\"sk-item\"><div class=\"sk-label-container\"><div class=\"sk-label sk-toggleable\"><input class=\"sk-toggleable__control sk-hidden--visually\" id=\"sk-estimator-id-43\" type=\"checkbox\" ><label for=\"sk-estimator-id-43\" class=\"sk-toggleable__label sk-toggleable__label-arrow\">estimator: KNeighborsClassifier</label><div class=\"sk-toggleable__content\"><pre>KNeighborsClassifier()</pre></div></div></div><div class=\"sk-serial\"><div class=\"sk-item\"><div class=\"sk-estimator sk-toggleable\"><input class=\"sk-toggleable__control sk-hidden--visually\" id=\"sk-estimator-id-44\" type=\"checkbox\" ><label for=\"sk-estimator-id-44\" class=\"sk-toggleable__label sk-toggleable__label-arrow\">KNeighborsClassifier</label><div class=\"sk-toggleable__content\"><pre>KNeighborsClassifier()</pre></div></div></div></div></div></div></div></div></div></div></div></div></div></div></div><div class=\"sk-item\"><div class=\"sk-estimator sk-toggleable\"><input class=\"sk-toggleable__control sk-hidden--visually\" id=\"sk-estimator-id-45\" type=\"checkbox\" ><label for=\"sk-estimator-id-45\" class=\"sk-toggleable__label sk-toggleable__label-arrow\">KNeighborsRegressor</label><div class=\"sk-toggleable__content\"><pre>KNeighborsRegressor()</pre></div></div></div></div></div></div></div></div></div></div></div></div>"
            ]
          },
          "metadata": {},
          "execution_count": 25
        }
      ]
    },
    {
      "cell_type": "markdown",
      "source": [
        "Obtenemos el mejor método no ensemble."
      ],
      "metadata": {
        "id": "B8SiyEWAKnwX"
      }
    },
    {
      "cell_type": "code",
      "source": [
        "mejores_params_ne = grid_search_ne.best_params_\n",
        "print(mejores_params_ne)"
      ],
      "metadata": {
        "colab": {
          "base_uri": "https://localhost:8080/"
        },
        "id": "h-TlZvpEKU12",
        "outputId": "1c729cd6-b88d-4de1-ebc4-be83dab53e21"
      },
      "execution_count": null,
      "outputs": [
        {
          "output_type": "stream",
          "name": "stdout",
          "text": [
            "{'regresor': KNeighborsRegressor()}\n"
          ]
        }
      ]
    },
    {
      "cell_type": "markdown",
      "source": [
        "Obtenemos el mejor score para los datos de entrenamiento."
      ],
      "metadata": {
        "id": "qY6kzFDSKuJ-"
      }
    },
    {
      "cell_type": "code",
      "source": [
        "score_ne = grid_search_ne.best_score_\n",
        "print(f'El mejor valor del r2 para los datos de entrenamiento es r2 = {score_ne}')"
      ],
      "metadata": {
        "colab": {
          "base_uri": "https://localhost:8080/"
        },
        "id": "XQrTrzvQKXWH",
        "outputId": "522420a4-7cb6-43a7-a166-bc2c5302d546"
      },
      "execution_count": null,
      "outputs": [
        {
          "output_type": "stream",
          "name": "stdout",
          "text": [
            "El mejor valor del r2 para los datos de entrenamiento es r2 = 0.7881002805257419\n"
          ]
        }
      ]
    },
    {
      "cell_type": "markdown",
      "source": [
        "Obtenemos el mejor modelo, realizamos las predicciones para los datos de test y obtenemos la metrica de evaluacion del modelo R2 para los datos de test."
      ],
      "metadata": {
        "id": "fHkRm9NMKzOs"
      }
    },
    {
      "cell_type": "code",
      "source": [
        "mejor_modelo_ne = grid_search_ne.best_estimator_\n",
        "y_pred_test_ne = mejor_modelo_ne.predict(X_test)\n",
        "r2_ne = r2_score(y_test, y_pred_test_ne)\n",
        "print(f'El mejor valor del r2 para los datos de test es r2 = {r2_ne}')"
      ],
      "metadata": {
        "colab": {
          "base_uri": "https://localhost:8080/"
        },
        "id": "1qch6b9wKaSJ",
        "outputId": "6c8209bc-38f3-47cb-9b49-2628508a5ecf"
      },
      "execution_count": null,
      "outputs": [
        {
          "output_type": "stream",
          "name": "stdout",
          "text": [
            "El mejor valor del r2 para los datos de test es r2 = 0.7500853881453912\n"
          ]
        }
      ]
    },
    {
      "cell_type": "markdown",
      "source": [
        "## No Ensembles Con Ajuste HP"
      ],
      "metadata": {
        "id": "7vmR_XdkRHp9"
      }
    },
    {
      "cell_type": "markdown",
      "source": [
        "El segundo caso de la practica que consideramos son los metodos no ensembles con ajuste de hiperparametros."
      ],
      "metadata": {
        "id": "SCVhVA0MM6HH"
      }
    },
    {
      "cell_type": "markdown",
      "source": [
        "Son los mismos metodos: KNN, Arbol, SVM lineal y SVM kernel con ajuste de hiperparametros.\n",
        "\n",
        "Para el KNN ajustamos el hiperparametro numero de vecinos.\n",
        "\n",
        "Para el arbol ajustamos la maxima profundida del arbol y el numero de instancias necesarias para dividir el arbol.\n",
        "\n",
        "Para el SVM lineal utilizamos el hiperparametro C, que controla el peso de los datos de entrenamiento que han sido bien clasificados.  \n",
        "\n",
        "Para el SVM radial ajustamos los hiperparametros C y gamma, el parametro gamma controla la influencia que tienen las instancias de entrenamiento en el modelo."
      ],
      "metadata": {
        "id": "jA2ntoOhM-Df"
      }
    },
    {
      "cell_type": "code",
      "source": [
        "param_grid = [{'regresor': [KNeighborsRegressor()],\n",
        "               'regresor__n_neighbors': [3,5,7,9]},\n",
        "\n",
        "              {'regresor': [DecisionTreeRegressor()],\n",
        "               'regresor__max_depth': range(3,11),\n",
        "               'regresor__min_samples_split': range(5,11)},\n",
        "\n",
        "              {'regresor': [SVR(kernel = 'linear')],\n",
        "               'regresor__C': [0.01, 0.10, 1, 10, 100]},\n",
        "\n",
        "              {'regresor': [SVR(kernel = 'rbf')],\n",
        "               'regresor__C': [0.01, 0.10, 1, 10, 100],\n",
        "               'regresor__gamma':np.logspace(-2, 2, 10)}]\n",
        "\n",
        "tss = TimeSeriesSplit(n_splits = 3)\n",
        "grid_search_ne_hp = GridSearchCV(regresor, param_grid, cv = tss, scoring = 'r2')"
      ],
      "metadata": {
        "id": "OB7q_dTILKj7"
      },
      "execution_count": null,
      "outputs": []
    },
    {
      "cell_type": "markdown",
      "source": [
        "Entrenamiento del modelo."
      ],
      "metadata": {
        "id": "dEB6A4Zc4LdJ"
      }
    },
    {
      "cell_type": "code",
      "source": [
        "grid_search_ne_hp.fit(X_train, y_train)"
      ],
      "metadata": {
        "id": "JEqNY0duRWRX",
        "colab": {
          "base_uri": "https://localhost:8080/",
          "height": 351
        },
        "outputId": "30a4fbe2-7baf-450b-9ad5-745d99285237"
      },
      "execution_count": null,
      "outputs": [
        {
          "output_type": "execute_result",
          "data": {
            "text/plain": [
              "GridSearchCV(cv=TimeSeriesSplit(gap=0, max_train_size=None, n_splits=3, test_size=None),\n",
              "             estimator=Pipeline(steps=[('preproceso',\n",
              "                                        ColumnTransformer(transformers=[('num',\n",
              "                                                                         Pipeline(steps=[('variance_threshold',\n",
              "                                                                                          VarianceThreshold(threshold=0)),\n",
              "                                                                                         ('imputer',\n",
              "                                                                                          IterativeImputer(estimator=KNeighborsRegressor())),\n",
              "                                                                                         ('scaler',\n",
              "                                                                                          StandardScaler())]),\n",
              "                                                                         Index(['apcp_sf2_1', 'apc...\n",
              "                          'regresor__min_samples_split': range(5, 11)},\n",
              "                         {'regresor': [SVR(kernel='linear')],\n",
              "                          'regresor__C': [0.01, 0.1, 1, 10, 100]},\n",
              "                         {'regresor': [SVR()],\n",
              "                          'regresor__C': [0.01, 0.1, 1, 10, 100],\n",
              "                          'regresor__gamma': array([1.00000000e-02, 2.78255940e-02, 7.74263683e-02, 2.15443469e-01,\n",
              "       5.99484250e-01, 1.66810054e+00, 4.64158883e+00, 1.29154967e+01,\n",
              "       3.59381366e+01, 1.00000000e+02])}],\n",
              "             scoring='r2')"
            ],
            "text/html": [
              "<style>#sk-container-id-4 {color: black;background-color: white;}#sk-container-id-4 pre{padding: 0;}#sk-container-id-4 div.sk-toggleable {background-color: white;}#sk-container-id-4 label.sk-toggleable__label {cursor: pointer;display: block;width: 100%;margin-bottom: 0;padding: 0.3em;box-sizing: border-box;text-align: center;}#sk-container-id-4 label.sk-toggleable__label-arrow:before {content: \"▸\";float: left;margin-right: 0.25em;color: #696969;}#sk-container-id-4 label.sk-toggleable__label-arrow:hover:before {color: black;}#sk-container-id-4 div.sk-estimator:hover label.sk-toggleable__label-arrow:before {color: black;}#sk-container-id-4 div.sk-toggleable__content {max-height: 0;max-width: 0;overflow: hidden;text-align: left;background-color: #f0f8ff;}#sk-container-id-4 div.sk-toggleable__content pre {margin: 0.2em;color: black;border-radius: 0.25em;background-color: #f0f8ff;}#sk-container-id-4 input.sk-toggleable__control:checked~div.sk-toggleable__content {max-height: 200px;max-width: 100%;overflow: auto;}#sk-container-id-4 input.sk-toggleable__control:checked~label.sk-toggleable__label-arrow:before {content: \"▾\";}#sk-container-id-4 div.sk-estimator input.sk-toggleable__control:checked~label.sk-toggleable__label {background-color: #d4ebff;}#sk-container-id-4 div.sk-label input.sk-toggleable__control:checked~label.sk-toggleable__label {background-color: #d4ebff;}#sk-container-id-4 input.sk-hidden--visually {border: 0;clip: rect(1px 1px 1px 1px);clip: rect(1px, 1px, 1px, 1px);height: 1px;margin: -1px;overflow: hidden;padding: 0;position: absolute;width: 1px;}#sk-container-id-4 div.sk-estimator {font-family: monospace;background-color: #f0f8ff;border: 1px dotted black;border-radius: 0.25em;box-sizing: border-box;margin-bottom: 0.5em;}#sk-container-id-4 div.sk-estimator:hover {background-color: #d4ebff;}#sk-container-id-4 div.sk-parallel-item::after {content: \"\";width: 100%;border-bottom: 1px solid gray;flex-grow: 1;}#sk-container-id-4 div.sk-label:hover label.sk-toggleable__label {background-color: #d4ebff;}#sk-container-id-4 div.sk-serial::before {content: \"\";position: absolute;border-left: 1px solid gray;box-sizing: border-box;top: 0;bottom: 0;left: 50%;z-index: 0;}#sk-container-id-4 div.sk-serial {display: flex;flex-direction: column;align-items: center;background-color: white;padding-right: 0.2em;padding-left: 0.2em;position: relative;}#sk-container-id-4 div.sk-item {position: relative;z-index: 1;}#sk-container-id-4 div.sk-parallel {display: flex;align-items: stretch;justify-content: center;background-color: white;position: relative;}#sk-container-id-4 div.sk-item::before, #sk-container-id-4 div.sk-parallel-item::before {content: \"\";position: absolute;border-left: 1px solid gray;box-sizing: border-box;top: 0;bottom: 0;left: 50%;z-index: -1;}#sk-container-id-4 div.sk-parallel-item {display: flex;flex-direction: column;z-index: 1;position: relative;background-color: white;}#sk-container-id-4 div.sk-parallel-item:first-child::after {align-self: flex-end;width: 50%;}#sk-container-id-4 div.sk-parallel-item:last-child::after {align-self: flex-start;width: 50%;}#sk-container-id-4 div.sk-parallel-item:only-child::after {width: 0;}#sk-container-id-4 div.sk-dashed-wrapped {border: 1px dashed gray;margin: 0 0.4em 0.5em 0.4em;box-sizing: border-box;padding-bottom: 0.4em;background-color: white;}#sk-container-id-4 div.sk-label label {font-family: monospace;font-weight: bold;display: inline-block;line-height: 1.2em;}#sk-container-id-4 div.sk-label-container {text-align: center;}#sk-container-id-4 div.sk-container {/* jupyter's `normalize.less` sets `[hidden] { display: none; }` but bootstrap.min.css set `[hidden] { display: none !important; }` so we also need the `!important` here to be able to override the default hidden behavior on the sphinx rendered scikit-learn.org. See: https://github.com/scikit-learn/scikit-learn/issues/21755 */display: inline-block !important;position: relative;}#sk-container-id-4 div.sk-text-repr-fallback {display: none;}</style><div id=\"sk-container-id-4\" class=\"sk-top-container\"><div class=\"sk-text-repr-fallback\"><pre>GridSearchCV(cv=TimeSeriesSplit(gap=0, max_train_size=None, n_splits=3, test_size=None),\n",
              "             estimator=Pipeline(steps=[(&#x27;preproceso&#x27;,\n",
              "                                        ColumnTransformer(transformers=[(&#x27;num&#x27;,\n",
              "                                                                         Pipeline(steps=[(&#x27;variance_threshold&#x27;,\n",
              "                                                                                          VarianceThreshold(threshold=0)),\n",
              "                                                                                         (&#x27;imputer&#x27;,\n",
              "                                                                                          IterativeImputer(estimator=KNeighborsRegressor())),\n",
              "                                                                                         (&#x27;scaler&#x27;,\n",
              "                                                                                          StandardScaler())]),\n",
              "                                                                         Index([&#x27;apcp_sf2_1&#x27;, &#x27;apc...\n",
              "                          &#x27;regresor__min_samples_split&#x27;: range(5, 11)},\n",
              "                         {&#x27;regresor&#x27;: [SVR(kernel=&#x27;linear&#x27;)],\n",
              "                          &#x27;regresor__C&#x27;: [0.01, 0.1, 1, 10, 100]},\n",
              "                         {&#x27;regresor&#x27;: [SVR()],\n",
              "                          &#x27;regresor__C&#x27;: [0.01, 0.1, 1, 10, 100],\n",
              "                          &#x27;regresor__gamma&#x27;: array([1.00000000e-02, 2.78255940e-02, 7.74263683e-02, 2.15443469e-01,\n",
              "       5.99484250e-01, 1.66810054e+00, 4.64158883e+00, 1.29154967e+01,\n",
              "       3.59381366e+01, 1.00000000e+02])}],\n",
              "             scoring=&#x27;r2&#x27;)</pre><b>In a Jupyter environment, please rerun this cell to show the HTML representation or trust the notebook. <br />On GitHub, the HTML representation is unable to render, please try loading this page with nbviewer.org.</b></div><div class=\"sk-container\" hidden><div class=\"sk-item sk-dashed-wrapped\"><div class=\"sk-label-container\"><div class=\"sk-label sk-toggleable\"><input class=\"sk-toggleable__control sk-hidden--visually\" id=\"sk-estimator-id-46\" type=\"checkbox\" ><label for=\"sk-estimator-id-46\" class=\"sk-toggleable__label sk-toggleable__label-arrow\">GridSearchCV</label><div class=\"sk-toggleable__content\"><pre>GridSearchCV(cv=TimeSeriesSplit(gap=0, max_train_size=None, n_splits=3, test_size=None),\n",
              "             estimator=Pipeline(steps=[(&#x27;preproceso&#x27;,\n",
              "                                        ColumnTransformer(transformers=[(&#x27;num&#x27;,\n",
              "                                                                         Pipeline(steps=[(&#x27;variance_threshold&#x27;,\n",
              "                                                                                          VarianceThreshold(threshold=0)),\n",
              "                                                                                         (&#x27;imputer&#x27;,\n",
              "                                                                                          IterativeImputer(estimator=KNeighborsRegressor())),\n",
              "                                                                                         (&#x27;scaler&#x27;,\n",
              "                                                                                          StandardScaler())]),\n",
              "                                                                         Index([&#x27;apcp_sf2_1&#x27;, &#x27;apc...\n",
              "                          &#x27;regresor__min_samples_split&#x27;: range(5, 11)},\n",
              "                         {&#x27;regresor&#x27;: [SVR(kernel=&#x27;linear&#x27;)],\n",
              "                          &#x27;regresor__C&#x27;: [0.01, 0.1, 1, 10, 100]},\n",
              "                         {&#x27;regresor&#x27;: [SVR()],\n",
              "                          &#x27;regresor__C&#x27;: [0.01, 0.1, 1, 10, 100],\n",
              "                          &#x27;regresor__gamma&#x27;: array([1.00000000e-02, 2.78255940e-02, 7.74263683e-02, 2.15443469e-01,\n",
              "       5.99484250e-01, 1.66810054e+00, 4.64158883e+00, 1.29154967e+01,\n",
              "       3.59381366e+01, 1.00000000e+02])}],\n",
              "             scoring=&#x27;r2&#x27;)</pre></div></div></div><div class=\"sk-parallel\"><div class=\"sk-parallel-item\"><div class=\"sk-item\"><div class=\"sk-label-container\"><div class=\"sk-label sk-toggleable\"><input class=\"sk-toggleable__control sk-hidden--visually\" id=\"sk-estimator-id-47\" type=\"checkbox\" ><label for=\"sk-estimator-id-47\" class=\"sk-toggleable__label sk-toggleable__label-arrow\">estimator: Pipeline</label><div class=\"sk-toggleable__content\"><pre>Pipeline(steps=[(&#x27;preproceso&#x27;,\n",
              "                 ColumnTransformer(transformers=[(&#x27;num&#x27;,\n",
              "                                                  Pipeline(steps=[(&#x27;variance_threshold&#x27;,\n",
              "                                                                   VarianceThreshold(threshold=0)),\n",
              "                                                                  (&#x27;imputer&#x27;,\n",
              "                                                                   IterativeImputer(estimator=KNeighborsRegressor())),\n",
              "                                                                  (&#x27;scaler&#x27;,\n",
              "                                                                   StandardScaler())]),\n",
              "                                                  Index([&#x27;apcp_sf2_1&#x27;, &#x27;apcp_sf3_1&#x27;, &#x27;apcp_sf4_1&#x27;, &#x27;apcp_sf5_1&#x27;, &#x27;dlwrf_s3_1&#x27;,\n",
              "       &#x27;dswrf_s1_1&#x27;, &#x27;dswrf_s2_1&#x27;, &#x27;dswrf_s3_1&#x27;, &#x27;pres_ms...\n",
              "       &#x27;dswrf_s4_1&#x27;, &#x27;dswrf_s5_1&#x27;, &#x27;pres_ms5_1&#x27;, &#x27;pwat_ea1_1&#x27;, &#x27;pwat_ea5_1&#x27;,\n",
              "       &#x27;tcdc_ea3_1&#x27;, &#x27;tcdc_ea4_1&#x27;, &#x27;tcdc_ea5_1&#x27;, &#x27;tcolc_e2_1&#x27;, &#x27;tcolc_e4_1&#x27;,\n",
              "       &#x27;tmax_2m1_1&#x27;, &#x27;tmax_2m2_1&#x27;, &#x27;tmax_2m3_1&#x27;, &#x27;tmax_2m4_1&#x27;, &#x27;tmin_2m1_1&#x27;,\n",
              "       &#x27;tmp_2m_1_1&#x27;, &#x27;tmp_2m_4_1&#x27;, &#x27;tmp_sfc2_1&#x27;, &#x27;tmp_sfc4_1&#x27;, &#x27;ulwrf_s1_1&#x27;,\n",
              "       &#x27;ulwrf_s3_1&#x27;, &#x27;ulwrf_t2_1&#x27;, &#x27;ulwrf_t3_1&#x27;, &#x27;ulwrf_t4_1&#x27;, &#x27;uswrf_s2_1&#x27;],\n",
              "      dtype=&#x27;object&#x27;))])),\n",
              "                (&#x27;regresor&#x27;, KNeighborsRegressor())])</pre></div></div></div><div class=\"sk-serial\"><div class=\"sk-item\"><div class=\"sk-serial\"><div class=\"sk-item sk-dashed-wrapped\"><div class=\"sk-label-container\"><div class=\"sk-label sk-toggleable\"><input class=\"sk-toggleable__control sk-hidden--visually\" id=\"sk-estimator-id-48\" type=\"checkbox\" ><label for=\"sk-estimator-id-48\" class=\"sk-toggleable__label sk-toggleable__label-arrow\">preproceso: ColumnTransformer</label><div class=\"sk-toggleable__content\"><pre>ColumnTransformer(transformers=[(&#x27;num&#x27;,\n",
              "                                 Pipeline(steps=[(&#x27;variance_threshold&#x27;,\n",
              "                                                  VarianceThreshold(threshold=0)),\n",
              "                                                 (&#x27;imputer&#x27;,\n",
              "                                                  IterativeImputer(estimator=KNeighborsRegressor())),\n",
              "                                                 (&#x27;scaler&#x27;, StandardScaler())]),\n",
              "                                 Index([&#x27;apcp_sf2_1&#x27;, &#x27;apcp_sf3_1&#x27;, &#x27;apcp_sf4_1&#x27;, &#x27;apcp_sf5_1&#x27;, &#x27;dlwrf_s3_1&#x27;,\n",
              "       &#x27;dswrf_s1_1&#x27;, &#x27;dswrf_s2_1&#x27;, &#x27;dswrf_s3_1&#x27;, &#x27;pres_ms1_1&#x27;, &#x27;pres_ms2_1&#x27;,\n",
              "       &#x27;pres_ms3_1&#x27;...\n",
              "                                 Index([&#x27;apcp_sf1_1&#x27;, &#x27;dlwrf_s1_1&#x27;, &#x27;dlwrf_s2_1&#x27;, &#x27;dlwrf_s4_1&#x27;, &#x27;dlwrf_s5_1&#x27;,\n",
              "       &#x27;dswrf_s4_1&#x27;, &#x27;dswrf_s5_1&#x27;, &#x27;pres_ms5_1&#x27;, &#x27;pwat_ea1_1&#x27;, &#x27;pwat_ea5_1&#x27;,\n",
              "       &#x27;tcdc_ea3_1&#x27;, &#x27;tcdc_ea4_1&#x27;, &#x27;tcdc_ea5_1&#x27;, &#x27;tcolc_e2_1&#x27;, &#x27;tcolc_e4_1&#x27;,\n",
              "       &#x27;tmax_2m1_1&#x27;, &#x27;tmax_2m2_1&#x27;, &#x27;tmax_2m3_1&#x27;, &#x27;tmax_2m4_1&#x27;, &#x27;tmin_2m1_1&#x27;,\n",
              "       &#x27;tmp_2m_1_1&#x27;, &#x27;tmp_2m_4_1&#x27;, &#x27;tmp_sfc2_1&#x27;, &#x27;tmp_sfc4_1&#x27;, &#x27;ulwrf_s1_1&#x27;,\n",
              "       &#x27;ulwrf_s3_1&#x27;, &#x27;ulwrf_t2_1&#x27;, &#x27;ulwrf_t3_1&#x27;, &#x27;ulwrf_t4_1&#x27;, &#x27;uswrf_s2_1&#x27;],\n",
              "      dtype=&#x27;object&#x27;))])</pre></div></div></div><div class=\"sk-parallel\"><div class=\"sk-parallel-item\"><div class=\"sk-item\"><div class=\"sk-label-container\"><div class=\"sk-label sk-toggleable\"><input class=\"sk-toggleable__control sk-hidden--visually\" id=\"sk-estimator-id-49\" type=\"checkbox\" ><label for=\"sk-estimator-id-49\" class=\"sk-toggleable__label sk-toggleable__label-arrow\">num</label><div class=\"sk-toggleable__content\"><pre>Index([&#x27;apcp_sf2_1&#x27;, &#x27;apcp_sf3_1&#x27;, &#x27;apcp_sf4_1&#x27;, &#x27;apcp_sf5_1&#x27;, &#x27;dlwrf_s3_1&#x27;,\n",
              "       &#x27;dswrf_s1_1&#x27;, &#x27;dswrf_s2_1&#x27;, &#x27;dswrf_s3_1&#x27;, &#x27;pres_ms1_1&#x27;, &#x27;pres_ms2_1&#x27;,\n",
              "       &#x27;pres_ms3_1&#x27;, &#x27;pres_ms4_1&#x27;, &#x27;pwat_ea2_1&#x27;, &#x27;pwat_ea4_1&#x27;, &#x27;spfh_2m1_1&#x27;,\n",
              "       &#x27;spfh_2m2_1&#x27;, &#x27;spfh_2m3_1&#x27;, &#x27;spfh_2m4_1&#x27;, &#x27;spfh_2m5_1&#x27;, &#x27;tcdc_ea1_1&#x27;,\n",
              "       &#x27;tcdc_ea2_1&#x27;, &#x27;tcolc_e1_1&#x27;, &#x27;tcolc_e3_1&#x27;, &#x27;tcolc_e5_1&#x27;, &#x27;tmax_2m5_1&#x27;,\n",
              "       &#x27;tmin_2m2_1&#x27;, &#x27;tmin_2m3_1&#x27;, &#x27;tmin_2m4_1&#x27;, &#x27;tmin_2m5_1&#x27;, &#x27;tmp_2m_2_1&#x27;,\n",
              "       &#x27;tmp_2m_3_1&#x27;, &#x27;tmp_2m_5_1&#x27;, &#x27;tmp_sfc1_1&#x27;, &#x27;tmp_sfc3_1&#x27;, &#x27;tmp_sfc5_1&#x27;,\n",
              "       &#x27;ulwrf_s2_1&#x27;, &#x27;ulwrf_s4_1&#x27;, &#x27;ulwrf_s5_1&#x27;, &#x27;ulwrf_t1_1&#x27;, &#x27;ulwrf_t5_1&#x27;,\n",
              "       &#x27;uswrf_s3_1&#x27;, &#x27;uswrf_s4_1&#x27;, &#x27;uswrf_s5_1&#x27;],\n",
              "      dtype=&#x27;object&#x27;)</pre></div></div></div><div class=\"sk-serial\"><div class=\"sk-item\"><div class=\"sk-serial\"><div class=\"sk-item\"><div class=\"sk-estimator sk-toggleable\"><input class=\"sk-toggleable__control sk-hidden--visually\" id=\"sk-estimator-id-50\" type=\"checkbox\" ><label for=\"sk-estimator-id-50\" class=\"sk-toggleable__label sk-toggleable__label-arrow\">VarianceThreshold</label><div class=\"sk-toggleable__content\"><pre>VarianceThreshold(threshold=0)</pre></div></div></div><div class=\"sk-item sk-dashed-wrapped\"><div class=\"sk-label-container\"><div class=\"sk-label sk-toggleable\"><input class=\"sk-toggleable__control sk-hidden--visually\" id=\"sk-estimator-id-51\" type=\"checkbox\" ><label for=\"sk-estimator-id-51\" class=\"sk-toggleable__label sk-toggleable__label-arrow\">imputer: IterativeImputer</label><div class=\"sk-toggleable__content\"><pre>IterativeImputer(estimator=KNeighborsRegressor())</pre></div></div></div><div class=\"sk-parallel\"><div class=\"sk-parallel-item\"><div class=\"sk-item\"><div class=\"sk-label-container\"><div class=\"sk-label sk-toggleable\"><input class=\"sk-toggleable__control sk-hidden--visually\" id=\"sk-estimator-id-52\" type=\"checkbox\" ><label for=\"sk-estimator-id-52\" class=\"sk-toggleable__label sk-toggleable__label-arrow\">estimator: KNeighborsRegressor</label><div class=\"sk-toggleable__content\"><pre>KNeighborsRegressor()</pre></div></div></div><div class=\"sk-serial\"><div class=\"sk-item\"><div class=\"sk-estimator sk-toggleable\"><input class=\"sk-toggleable__control sk-hidden--visually\" id=\"sk-estimator-id-53\" type=\"checkbox\" ><label for=\"sk-estimator-id-53\" class=\"sk-toggleable__label sk-toggleable__label-arrow\">KNeighborsRegressor</label><div class=\"sk-toggleable__content\"><pre>KNeighborsRegressor()</pre></div></div></div></div></div></div></div></div><div class=\"sk-item\"><div class=\"sk-estimator sk-toggleable\"><input class=\"sk-toggleable__control sk-hidden--visually\" id=\"sk-estimator-id-54\" type=\"checkbox\" ><label for=\"sk-estimator-id-54\" class=\"sk-toggleable__label sk-toggleable__label-arrow\">StandardScaler</label><div class=\"sk-toggleable__content\"><pre>StandardScaler()</pre></div></div></div></div></div></div></div></div><div class=\"sk-parallel-item\"><div class=\"sk-item\"><div class=\"sk-label-container\"><div class=\"sk-label sk-toggleable\"><input class=\"sk-toggleable__control sk-hidden--visually\" id=\"sk-estimator-id-55\" type=\"checkbox\" ><label for=\"sk-estimator-id-55\" class=\"sk-toggleable__label sk-toggleable__label-arrow\">cat</label><div class=\"sk-toggleable__content\"><pre>Index([&#x27;apcp_sf1_1&#x27;, &#x27;dlwrf_s1_1&#x27;, &#x27;dlwrf_s2_1&#x27;, &#x27;dlwrf_s4_1&#x27;, &#x27;dlwrf_s5_1&#x27;,\n",
              "       &#x27;dswrf_s4_1&#x27;, &#x27;dswrf_s5_1&#x27;, &#x27;pres_ms5_1&#x27;, &#x27;pwat_ea1_1&#x27;, &#x27;pwat_ea5_1&#x27;,\n",
              "       &#x27;tcdc_ea3_1&#x27;, &#x27;tcdc_ea4_1&#x27;, &#x27;tcdc_ea5_1&#x27;, &#x27;tcolc_e2_1&#x27;, &#x27;tcolc_e4_1&#x27;,\n",
              "       &#x27;tmax_2m1_1&#x27;, &#x27;tmax_2m2_1&#x27;, &#x27;tmax_2m3_1&#x27;, &#x27;tmax_2m4_1&#x27;, &#x27;tmin_2m1_1&#x27;,\n",
              "       &#x27;tmp_2m_1_1&#x27;, &#x27;tmp_2m_4_1&#x27;, &#x27;tmp_sfc2_1&#x27;, &#x27;tmp_sfc4_1&#x27;, &#x27;ulwrf_s1_1&#x27;,\n",
              "       &#x27;ulwrf_s3_1&#x27;, &#x27;ulwrf_t2_1&#x27;, &#x27;ulwrf_t3_1&#x27;, &#x27;ulwrf_t4_1&#x27;, &#x27;uswrf_s2_1&#x27;],\n",
              "      dtype=&#x27;object&#x27;)</pre></div></div></div><div class=\"sk-serial\"><div class=\"sk-item\"><div class=\"sk-serial\"><div class=\"sk-item\"><div class=\"sk-estimator sk-toggleable\"><input class=\"sk-toggleable__control sk-hidden--visually\" id=\"sk-estimator-id-56\" type=\"checkbox\" ><label for=\"sk-estimator-id-56\" class=\"sk-toggleable__label sk-toggleable__label-arrow\">OneHotEncoder</label><div class=\"sk-toggleable__content\"><pre>OneHotEncoder(handle_unknown=&#x27;ignore&#x27;, sparse_output=False)</pre></div></div></div><div class=\"sk-item\"><div class=\"sk-estimator sk-toggleable\"><input class=\"sk-toggleable__control sk-hidden--visually\" id=\"sk-estimator-id-57\" type=\"checkbox\" ><label for=\"sk-estimator-id-57\" class=\"sk-toggleable__label sk-toggleable__label-arrow\">VarianceThreshold</label><div class=\"sk-toggleable__content\"><pre>VarianceThreshold(threshold=0)</pre></div></div></div><div class=\"sk-item sk-dashed-wrapped\"><div class=\"sk-label-container\"><div class=\"sk-label sk-toggleable\"><input class=\"sk-toggleable__control sk-hidden--visually\" id=\"sk-estimator-id-58\" type=\"checkbox\" ><label for=\"sk-estimator-id-58\" class=\"sk-toggleable__label sk-toggleable__label-arrow\">imputer: IterativeImputer</label><div class=\"sk-toggleable__content\"><pre>IterativeImputer(estimator=KNeighborsClassifier())</pre></div></div></div><div class=\"sk-parallel\"><div class=\"sk-parallel-item\"><div class=\"sk-item\"><div class=\"sk-label-container\"><div class=\"sk-label sk-toggleable\"><input class=\"sk-toggleable__control sk-hidden--visually\" id=\"sk-estimator-id-59\" type=\"checkbox\" ><label for=\"sk-estimator-id-59\" class=\"sk-toggleable__label sk-toggleable__label-arrow\">estimator: KNeighborsClassifier</label><div class=\"sk-toggleable__content\"><pre>KNeighborsClassifier()</pre></div></div></div><div class=\"sk-serial\"><div class=\"sk-item\"><div class=\"sk-estimator sk-toggleable\"><input class=\"sk-toggleable__control sk-hidden--visually\" id=\"sk-estimator-id-60\" type=\"checkbox\" ><label for=\"sk-estimator-id-60\" class=\"sk-toggleable__label sk-toggleable__label-arrow\">KNeighborsClassifier</label><div class=\"sk-toggleable__content\"><pre>KNeighborsClassifier()</pre></div></div></div></div></div></div></div></div></div></div></div></div></div></div></div><div class=\"sk-item\"><div class=\"sk-estimator sk-toggleable\"><input class=\"sk-toggleable__control sk-hidden--visually\" id=\"sk-estimator-id-61\" type=\"checkbox\" ><label for=\"sk-estimator-id-61\" class=\"sk-toggleable__label sk-toggleable__label-arrow\">KNeighborsRegressor</label><div class=\"sk-toggleable__content\"><pre>KNeighborsRegressor()</pre></div></div></div></div></div></div></div></div></div></div></div></div>"
            ]
          },
          "metadata": {},
          "execution_count": 30
        }
      ]
    },
    {
      "cell_type": "markdown",
      "source": [
        "Obtenemos el mejor metodo y los mejores hiperparametros."
      ],
      "metadata": {
        "id": "NVpDtaoZOunQ"
      }
    },
    {
      "cell_type": "code",
      "source": [
        "mejores_hp_ne_hp = grid_search_ne_hp.best_params_\n",
        "print(mejores_hp_ne_hp)"
      ],
      "metadata": {
        "id": "U3xNmoBMRWTz",
        "colab": {
          "base_uri": "https://localhost:8080/"
        },
        "outputId": "56be874b-eca5-469d-81d4-1ea430378344"
      },
      "execution_count": null,
      "outputs": [
        {
          "output_type": "stream",
          "name": "stdout",
          "text": [
            "{'regresor': KNeighborsRegressor(n_neighbors=9), 'regresor__n_neighbors': 9}\n"
          ]
        }
      ]
    },
    {
      "cell_type": "markdown",
      "source": [
        "Obtenemos el mejor score para los datos de entrenamiento."
      ],
      "metadata": {
        "id": "BQ4A3nRcGDWW"
      }
    },
    {
      "cell_type": "code",
      "source": [
        "score_ne_hp = grid_search_ne_hp.best_score_\n",
        "print(f'El mejor score para el conjunto de entrenamiento es r2 = {score_ne_hp}')"
      ],
      "metadata": {
        "colab": {
          "base_uri": "https://localhost:8080/"
        },
        "id": "mfbFTYi0GFRU",
        "outputId": "47464545-385f-4a56-b205-fd6a39e934fa"
      },
      "execution_count": null,
      "outputs": [
        {
          "output_type": "stream",
          "name": "stdout",
          "text": [
            "El mejor score para el conjunto de entrenamiento es r2 = 0.8004843819124673\n"
          ]
        }
      ]
    },
    {
      "cell_type": "markdown",
      "source": [
        "Ajustamos el mejor modelo y calculamos las predicciones y el R2 para los datos de test."
      ],
      "metadata": {
        "id": "5XT2qoQn4mK8"
      }
    },
    {
      "cell_type": "code",
      "source": [
        "mejor_modelo_ne_hp = grid_search_ne_hp.best_estimator_\n",
        "y_pred_test_ne_hp = mejor_modelo_ne_hp.predict(X_test)\n",
        "r2_ne_hp = r2_score(y_test, y_pred_test_ne_hp)\n",
        "print(f'El score para el conjunto de test es r2 = {r2_ne_hp}')"
      ],
      "metadata": {
        "id": "8yo2mP524ZbY",
        "colab": {
          "base_uri": "https://localhost:8080/"
        },
        "outputId": "85034732-46f1-4161-97b0-e43c419ea96a"
      },
      "execution_count": null,
      "outputs": [
        {
          "output_type": "stream",
          "name": "stdout",
          "text": [
            "El score para el conjunto de test es r2 = 0.7655926046362399\n"
          ]
        }
      ]
    },
    {
      "cell_type": "markdown",
      "source": [
        "## Ensembles Sin Ajuste HP"
      ],
      "metadata": {
        "id": "A-14X4oaRXYg"
      }
    },
    {
      "cell_type": "markdown",
      "source": [
        "El tercer caso de la practica son los metodos ensembles sin ajuste de hiperparametros."
      ],
      "metadata": {
        "id": "i6JgQuzGNmu8"
      }
    },
    {
      "cell_type": "markdown",
      "source": [
        "Los metodos ensembles que se consideran son: Random Forest y Gradient Boosting sin ajuste de hiperparametros."
      ],
      "metadata": {
        "id": "i8HoH--CRaD1"
      }
    },
    {
      "cell_type": "code",
      "source": [
        "param_grid= {'regresor': [RandomForestRegressor(random_state = 129), XGBRegressor(random_state = 129)]}\n",
        "\n",
        "tss = TimeSeriesSplit(n_splits = 3)\n",
        "random_search_e = RandomizedSearchCV(regresor, param_grid, cv = tss, scoring = 'r2')"
      ],
      "metadata": {
        "id": "4-DJnpHoPGjl"
      },
      "execution_count": null,
      "outputs": []
    },
    {
      "cell_type": "markdown",
      "source": [
        "Entrenamiento del modelo."
      ],
      "metadata": {
        "id": "Ma8kK9APPchD"
      }
    },
    {
      "cell_type": "code",
      "source": [
        "random_search_e.fit(X_train, y_train)"
      ],
      "metadata": {
        "id": "uRw6xs0xPeNn",
        "colab": {
          "base_uri": "https://localhost:8080/",
          "height": 405
        },
        "outputId": "105f94ab-4345-4a5a-e8d5-d8270541675f"
      },
      "execution_count": null,
      "outputs": [
        {
          "output_type": "stream",
          "name": "stderr",
          "text": [
            "/usr/local/lib/python3.10/dist-packages/sklearn/model_selection/_search.py:305: UserWarning: The total space of parameters 2 is smaller than n_iter=10. Running 2 iterations. For exhaustive searches, use GridSearchCV.\n",
            "  warnings.warn(\n"
          ]
        },
        {
          "output_type": "execute_result",
          "data": {
            "text/plain": [
              "RandomizedSearchCV(cv=TimeSeriesSplit(gap=0, max_train_size=None, n_splits=3, test_size=None),\n",
              "                   estimator=Pipeline(steps=[('preproceso',\n",
              "                                              ColumnTransformer(transformers=[('num',\n",
              "                                                                               Pipeline(steps=[('variance_threshold',\n",
              "                                                                                                VarianceThreshold(threshold=0)),\n",
              "                                                                                               ('imputer',\n",
              "                                                                                                IterativeImputer(estimator=KNeighborsRegressor())),\n",
              "                                                                                               ('scaler',\n",
              "                                                                                                StandardScaler())]),\n",
              "                                                                               Index(['apcp_sf2_1...\n",
              "                                                                  grow_policy=None,\n",
              "                                                                  importance_type=None,\n",
              "                                                                  interaction_constraints=None,\n",
              "                                                                  learning_rate=None,\n",
              "                                                                  max_bin=None,\n",
              "                                                                  max_cat_threshold=None,\n",
              "                                                                  max_cat_to_onehot=None,\n",
              "                                                                  max_delta_step=None,\n",
              "                                                                  max_depth=None,\n",
              "                                                                  max_leaves=None,\n",
              "                                                                  min_child_weight=None,\n",
              "                                                                  missing=nan,\n",
              "                                                                  monotone_constraints=None,\n",
              "                                                                  multi_strategy=None,\n",
              "                                                                  n_estimators=None,\n",
              "                                                                  n_jobs=None,\n",
              "                                                                  num_parallel_tree=None,\n",
              "                                                                  random_state=129, ...)]},\n",
              "                   scoring='r2')"
            ],
            "text/html": [
              "<style>#sk-container-id-5 {color: black;background-color: white;}#sk-container-id-5 pre{padding: 0;}#sk-container-id-5 div.sk-toggleable {background-color: white;}#sk-container-id-5 label.sk-toggleable__label {cursor: pointer;display: block;width: 100%;margin-bottom: 0;padding: 0.3em;box-sizing: border-box;text-align: center;}#sk-container-id-5 label.sk-toggleable__label-arrow:before {content: \"▸\";float: left;margin-right: 0.25em;color: #696969;}#sk-container-id-5 label.sk-toggleable__label-arrow:hover:before {color: black;}#sk-container-id-5 div.sk-estimator:hover label.sk-toggleable__label-arrow:before {color: black;}#sk-container-id-5 div.sk-toggleable__content {max-height: 0;max-width: 0;overflow: hidden;text-align: left;background-color: #f0f8ff;}#sk-container-id-5 div.sk-toggleable__content pre {margin: 0.2em;color: black;border-radius: 0.25em;background-color: #f0f8ff;}#sk-container-id-5 input.sk-toggleable__control:checked~div.sk-toggleable__content {max-height: 200px;max-width: 100%;overflow: auto;}#sk-container-id-5 input.sk-toggleable__control:checked~label.sk-toggleable__label-arrow:before {content: \"▾\";}#sk-container-id-5 div.sk-estimator input.sk-toggleable__control:checked~label.sk-toggleable__label {background-color: #d4ebff;}#sk-container-id-5 div.sk-label input.sk-toggleable__control:checked~label.sk-toggleable__label {background-color: #d4ebff;}#sk-container-id-5 input.sk-hidden--visually {border: 0;clip: rect(1px 1px 1px 1px);clip: rect(1px, 1px, 1px, 1px);height: 1px;margin: -1px;overflow: hidden;padding: 0;position: absolute;width: 1px;}#sk-container-id-5 div.sk-estimator {font-family: monospace;background-color: #f0f8ff;border: 1px dotted black;border-radius: 0.25em;box-sizing: border-box;margin-bottom: 0.5em;}#sk-container-id-5 div.sk-estimator:hover {background-color: #d4ebff;}#sk-container-id-5 div.sk-parallel-item::after {content: \"\";width: 100%;border-bottom: 1px solid gray;flex-grow: 1;}#sk-container-id-5 div.sk-label:hover label.sk-toggleable__label {background-color: #d4ebff;}#sk-container-id-5 div.sk-serial::before {content: \"\";position: absolute;border-left: 1px solid gray;box-sizing: border-box;top: 0;bottom: 0;left: 50%;z-index: 0;}#sk-container-id-5 div.sk-serial {display: flex;flex-direction: column;align-items: center;background-color: white;padding-right: 0.2em;padding-left: 0.2em;position: relative;}#sk-container-id-5 div.sk-item {position: relative;z-index: 1;}#sk-container-id-5 div.sk-parallel {display: flex;align-items: stretch;justify-content: center;background-color: white;position: relative;}#sk-container-id-5 div.sk-item::before, #sk-container-id-5 div.sk-parallel-item::before {content: \"\";position: absolute;border-left: 1px solid gray;box-sizing: border-box;top: 0;bottom: 0;left: 50%;z-index: -1;}#sk-container-id-5 div.sk-parallel-item {display: flex;flex-direction: column;z-index: 1;position: relative;background-color: white;}#sk-container-id-5 div.sk-parallel-item:first-child::after {align-self: flex-end;width: 50%;}#sk-container-id-5 div.sk-parallel-item:last-child::after {align-self: flex-start;width: 50%;}#sk-container-id-5 div.sk-parallel-item:only-child::after {width: 0;}#sk-container-id-5 div.sk-dashed-wrapped {border: 1px dashed gray;margin: 0 0.4em 0.5em 0.4em;box-sizing: border-box;padding-bottom: 0.4em;background-color: white;}#sk-container-id-5 div.sk-label label {font-family: monospace;font-weight: bold;display: inline-block;line-height: 1.2em;}#sk-container-id-5 div.sk-label-container {text-align: center;}#sk-container-id-5 div.sk-container {/* jupyter's `normalize.less` sets `[hidden] { display: none; }` but bootstrap.min.css set `[hidden] { display: none !important; }` so we also need the `!important` here to be able to override the default hidden behavior on the sphinx rendered scikit-learn.org. See: https://github.com/scikit-learn/scikit-learn/issues/21755 */display: inline-block !important;position: relative;}#sk-container-id-5 div.sk-text-repr-fallback {display: none;}</style><div id=\"sk-container-id-5\" class=\"sk-top-container\"><div class=\"sk-text-repr-fallback\"><pre>RandomizedSearchCV(cv=TimeSeriesSplit(gap=0, max_train_size=None, n_splits=3, test_size=None),\n",
              "                   estimator=Pipeline(steps=[(&#x27;preproceso&#x27;,\n",
              "                                              ColumnTransformer(transformers=[(&#x27;num&#x27;,\n",
              "                                                                               Pipeline(steps=[(&#x27;variance_threshold&#x27;,\n",
              "                                                                                                VarianceThreshold(threshold=0)),\n",
              "                                                                                               (&#x27;imputer&#x27;,\n",
              "                                                                                                IterativeImputer(estimator=KNeighborsRegressor())),\n",
              "                                                                                               (&#x27;scaler&#x27;,\n",
              "                                                                                                StandardScaler())]),\n",
              "                                                                               Index([&#x27;apcp_sf2_1...\n",
              "                                                                  grow_policy=None,\n",
              "                                                                  importance_type=None,\n",
              "                                                                  interaction_constraints=None,\n",
              "                                                                  learning_rate=None,\n",
              "                                                                  max_bin=None,\n",
              "                                                                  max_cat_threshold=None,\n",
              "                                                                  max_cat_to_onehot=None,\n",
              "                                                                  max_delta_step=None,\n",
              "                                                                  max_depth=None,\n",
              "                                                                  max_leaves=None,\n",
              "                                                                  min_child_weight=None,\n",
              "                                                                  missing=nan,\n",
              "                                                                  monotone_constraints=None,\n",
              "                                                                  multi_strategy=None,\n",
              "                                                                  n_estimators=None,\n",
              "                                                                  n_jobs=None,\n",
              "                                                                  num_parallel_tree=None,\n",
              "                                                                  random_state=129, ...)]},\n",
              "                   scoring=&#x27;r2&#x27;)</pre><b>In a Jupyter environment, please rerun this cell to show the HTML representation or trust the notebook. <br />On GitHub, the HTML representation is unable to render, please try loading this page with nbviewer.org.</b></div><div class=\"sk-container\" hidden><div class=\"sk-item sk-dashed-wrapped\"><div class=\"sk-label-container\"><div class=\"sk-label sk-toggleable\"><input class=\"sk-toggleable__control sk-hidden--visually\" id=\"sk-estimator-id-62\" type=\"checkbox\" ><label for=\"sk-estimator-id-62\" class=\"sk-toggleable__label sk-toggleable__label-arrow\">RandomizedSearchCV</label><div class=\"sk-toggleable__content\"><pre>RandomizedSearchCV(cv=TimeSeriesSplit(gap=0, max_train_size=None, n_splits=3, test_size=None),\n",
              "                   estimator=Pipeline(steps=[(&#x27;preproceso&#x27;,\n",
              "                                              ColumnTransformer(transformers=[(&#x27;num&#x27;,\n",
              "                                                                               Pipeline(steps=[(&#x27;variance_threshold&#x27;,\n",
              "                                                                                                VarianceThreshold(threshold=0)),\n",
              "                                                                                               (&#x27;imputer&#x27;,\n",
              "                                                                                                IterativeImputer(estimator=KNeighborsRegressor())),\n",
              "                                                                                               (&#x27;scaler&#x27;,\n",
              "                                                                                                StandardScaler())]),\n",
              "                                                                               Index([&#x27;apcp_sf2_1...\n",
              "                                                                  grow_policy=None,\n",
              "                                                                  importance_type=None,\n",
              "                                                                  interaction_constraints=None,\n",
              "                                                                  learning_rate=None,\n",
              "                                                                  max_bin=None,\n",
              "                                                                  max_cat_threshold=None,\n",
              "                                                                  max_cat_to_onehot=None,\n",
              "                                                                  max_delta_step=None,\n",
              "                                                                  max_depth=None,\n",
              "                                                                  max_leaves=None,\n",
              "                                                                  min_child_weight=None,\n",
              "                                                                  missing=nan,\n",
              "                                                                  monotone_constraints=None,\n",
              "                                                                  multi_strategy=None,\n",
              "                                                                  n_estimators=None,\n",
              "                                                                  n_jobs=None,\n",
              "                                                                  num_parallel_tree=None,\n",
              "                                                                  random_state=129, ...)]},\n",
              "                   scoring=&#x27;r2&#x27;)</pre></div></div></div><div class=\"sk-parallel\"><div class=\"sk-parallel-item\"><div class=\"sk-item\"><div class=\"sk-label-container\"><div class=\"sk-label sk-toggleable\"><input class=\"sk-toggleable__control sk-hidden--visually\" id=\"sk-estimator-id-63\" type=\"checkbox\" ><label for=\"sk-estimator-id-63\" class=\"sk-toggleable__label sk-toggleable__label-arrow\">estimator: Pipeline</label><div class=\"sk-toggleable__content\"><pre>Pipeline(steps=[(&#x27;preproceso&#x27;,\n",
              "                 ColumnTransformer(transformers=[(&#x27;num&#x27;,\n",
              "                                                  Pipeline(steps=[(&#x27;variance_threshold&#x27;,\n",
              "                                                                   VarianceThreshold(threshold=0)),\n",
              "                                                                  (&#x27;imputer&#x27;,\n",
              "                                                                   IterativeImputer(estimator=KNeighborsRegressor())),\n",
              "                                                                  (&#x27;scaler&#x27;,\n",
              "                                                                   StandardScaler())]),\n",
              "                                                  Index([&#x27;apcp_sf2_1&#x27;, &#x27;apcp_sf3_1&#x27;, &#x27;apcp_sf4_1&#x27;, &#x27;apcp_sf5_1&#x27;, &#x27;dlwrf_s3_1&#x27;,\n",
              "       &#x27;dswrf_s1_1&#x27;, &#x27;dswrf_s2_1&#x27;, &#x27;dswrf_s3_1&#x27;, &#x27;pres_ms...\n",
              "       &#x27;dswrf_s4_1&#x27;, &#x27;dswrf_s5_1&#x27;, &#x27;pres_ms5_1&#x27;, &#x27;pwat_ea1_1&#x27;, &#x27;pwat_ea5_1&#x27;,\n",
              "       &#x27;tcdc_ea3_1&#x27;, &#x27;tcdc_ea4_1&#x27;, &#x27;tcdc_ea5_1&#x27;, &#x27;tcolc_e2_1&#x27;, &#x27;tcolc_e4_1&#x27;,\n",
              "       &#x27;tmax_2m1_1&#x27;, &#x27;tmax_2m2_1&#x27;, &#x27;tmax_2m3_1&#x27;, &#x27;tmax_2m4_1&#x27;, &#x27;tmin_2m1_1&#x27;,\n",
              "       &#x27;tmp_2m_1_1&#x27;, &#x27;tmp_2m_4_1&#x27;, &#x27;tmp_sfc2_1&#x27;, &#x27;tmp_sfc4_1&#x27;, &#x27;ulwrf_s1_1&#x27;,\n",
              "       &#x27;ulwrf_s3_1&#x27;, &#x27;ulwrf_t2_1&#x27;, &#x27;ulwrf_t3_1&#x27;, &#x27;ulwrf_t4_1&#x27;, &#x27;uswrf_s2_1&#x27;],\n",
              "      dtype=&#x27;object&#x27;))])),\n",
              "                (&#x27;regresor&#x27;, KNeighborsRegressor())])</pre></div></div></div><div class=\"sk-serial\"><div class=\"sk-item\"><div class=\"sk-serial\"><div class=\"sk-item sk-dashed-wrapped\"><div class=\"sk-label-container\"><div class=\"sk-label sk-toggleable\"><input class=\"sk-toggleable__control sk-hidden--visually\" id=\"sk-estimator-id-64\" type=\"checkbox\" ><label for=\"sk-estimator-id-64\" class=\"sk-toggleable__label sk-toggleable__label-arrow\">preproceso: ColumnTransformer</label><div class=\"sk-toggleable__content\"><pre>ColumnTransformer(transformers=[(&#x27;num&#x27;,\n",
              "                                 Pipeline(steps=[(&#x27;variance_threshold&#x27;,\n",
              "                                                  VarianceThreshold(threshold=0)),\n",
              "                                                 (&#x27;imputer&#x27;,\n",
              "                                                  IterativeImputer(estimator=KNeighborsRegressor())),\n",
              "                                                 (&#x27;scaler&#x27;, StandardScaler())]),\n",
              "                                 Index([&#x27;apcp_sf2_1&#x27;, &#x27;apcp_sf3_1&#x27;, &#x27;apcp_sf4_1&#x27;, &#x27;apcp_sf5_1&#x27;, &#x27;dlwrf_s3_1&#x27;,\n",
              "       &#x27;dswrf_s1_1&#x27;, &#x27;dswrf_s2_1&#x27;, &#x27;dswrf_s3_1&#x27;, &#x27;pres_ms1_1&#x27;, &#x27;pres_ms2_1&#x27;,\n",
              "       &#x27;pres_ms3_1&#x27;...\n",
              "                                 Index([&#x27;apcp_sf1_1&#x27;, &#x27;dlwrf_s1_1&#x27;, &#x27;dlwrf_s2_1&#x27;, &#x27;dlwrf_s4_1&#x27;, &#x27;dlwrf_s5_1&#x27;,\n",
              "       &#x27;dswrf_s4_1&#x27;, &#x27;dswrf_s5_1&#x27;, &#x27;pres_ms5_1&#x27;, &#x27;pwat_ea1_1&#x27;, &#x27;pwat_ea5_1&#x27;,\n",
              "       &#x27;tcdc_ea3_1&#x27;, &#x27;tcdc_ea4_1&#x27;, &#x27;tcdc_ea5_1&#x27;, &#x27;tcolc_e2_1&#x27;, &#x27;tcolc_e4_1&#x27;,\n",
              "       &#x27;tmax_2m1_1&#x27;, &#x27;tmax_2m2_1&#x27;, &#x27;tmax_2m3_1&#x27;, &#x27;tmax_2m4_1&#x27;, &#x27;tmin_2m1_1&#x27;,\n",
              "       &#x27;tmp_2m_1_1&#x27;, &#x27;tmp_2m_4_1&#x27;, &#x27;tmp_sfc2_1&#x27;, &#x27;tmp_sfc4_1&#x27;, &#x27;ulwrf_s1_1&#x27;,\n",
              "       &#x27;ulwrf_s3_1&#x27;, &#x27;ulwrf_t2_1&#x27;, &#x27;ulwrf_t3_1&#x27;, &#x27;ulwrf_t4_1&#x27;, &#x27;uswrf_s2_1&#x27;],\n",
              "      dtype=&#x27;object&#x27;))])</pre></div></div></div><div class=\"sk-parallel\"><div class=\"sk-parallel-item\"><div class=\"sk-item\"><div class=\"sk-label-container\"><div class=\"sk-label sk-toggleable\"><input class=\"sk-toggleable__control sk-hidden--visually\" id=\"sk-estimator-id-65\" type=\"checkbox\" ><label for=\"sk-estimator-id-65\" class=\"sk-toggleable__label sk-toggleable__label-arrow\">num</label><div class=\"sk-toggleable__content\"><pre>Index([&#x27;apcp_sf2_1&#x27;, &#x27;apcp_sf3_1&#x27;, &#x27;apcp_sf4_1&#x27;, &#x27;apcp_sf5_1&#x27;, &#x27;dlwrf_s3_1&#x27;,\n",
              "       &#x27;dswrf_s1_1&#x27;, &#x27;dswrf_s2_1&#x27;, &#x27;dswrf_s3_1&#x27;, &#x27;pres_ms1_1&#x27;, &#x27;pres_ms2_1&#x27;,\n",
              "       &#x27;pres_ms3_1&#x27;, &#x27;pres_ms4_1&#x27;, &#x27;pwat_ea2_1&#x27;, &#x27;pwat_ea4_1&#x27;, &#x27;spfh_2m1_1&#x27;,\n",
              "       &#x27;spfh_2m2_1&#x27;, &#x27;spfh_2m3_1&#x27;, &#x27;spfh_2m4_1&#x27;, &#x27;spfh_2m5_1&#x27;, &#x27;tcdc_ea1_1&#x27;,\n",
              "       &#x27;tcdc_ea2_1&#x27;, &#x27;tcolc_e1_1&#x27;, &#x27;tcolc_e3_1&#x27;, &#x27;tcolc_e5_1&#x27;, &#x27;tmax_2m5_1&#x27;,\n",
              "       &#x27;tmin_2m2_1&#x27;, &#x27;tmin_2m3_1&#x27;, &#x27;tmin_2m4_1&#x27;, &#x27;tmin_2m5_1&#x27;, &#x27;tmp_2m_2_1&#x27;,\n",
              "       &#x27;tmp_2m_3_1&#x27;, &#x27;tmp_2m_5_1&#x27;, &#x27;tmp_sfc1_1&#x27;, &#x27;tmp_sfc3_1&#x27;, &#x27;tmp_sfc5_1&#x27;,\n",
              "       &#x27;ulwrf_s2_1&#x27;, &#x27;ulwrf_s4_1&#x27;, &#x27;ulwrf_s5_1&#x27;, &#x27;ulwrf_t1_1&#x27;, &#x27;ulwrf_t5_1&#x27;,\n",
              "       &#x27;uswrf_s3_1&#x27;, &#x27;uswrf_s4_1&#x27;, &#x27;uswrf_s5_1&#x27;],\n",
              "      dtype=&#x27;object&#x27;)</pre></div></div></div><div class=\"sk-serial\"><div class=\"sk-item\"><div class=\"sk-serial\"><div class=\"sk-item\"><div class=\"sk-estimator sk-toggleable\"><input class=\"sk-toggleable__control sk-hidden--visually\" id=\"sk-estimator-id-66\" type=\"checkbox\" ><label for=\"sk-estimator-id-66\" class=\"sk-toggleable__label sk-toggleable__label-arrow\">VarianceThreshold</label><div class=\"sk-toggleable__content\"><pre>VarianceThreshold(threshold=0)</pre></div></div></div><div class=\"sk-item sk-dashed-wrapped\"><div class=\"sk-label-container\"><div class=\"sk-label sk-toggleable\"><input class=\"sk-toggleable__control sk-hidden--visually\" id=\"sk-estimator-id-67\" type=\"checkbox\" ><label for=\"sk-estimator-id-67\" class=\"sk-toggleable__label sk-toggleable__label-arrow\">imputer: IterativeImputer</label><div class=\"sk-toggleable__content\"><pre>IterativeImputer(estimator=KNeighborsRegressor())</pre></div></div></div><div class=\"sk-parallel\"><div class=\"sk-parallel-item\"><div class=\"sk-item\"><div class=\"sk-label-container\"><div class=\"sk-label sk-toggleable\"><input class=\"sk-toggleable__control sk-hidden--visually\" id=\"sk-estimator-id-68\" type=\"checkbox\" ><label for=\"sk-estimator-id-68\" class=\"sk-toggleable__label sk-toggleable__label-arrow\">estimator: KNeighborsRegressor</label><div class=\"sk-toggleable__content\"><pre>KNeighborsRegressor()</pre></div></div></div><div class=\"sk-serial\"><div class=\"sk-item\"><div class=\"sk-estimator sk-toggleable\"><input class=\"sk-toggleable__control sk-hidden--visually\" id=\"sk-estimator-id-69\" type=\"checkbox\" ><label for=\"sk-estimator-id-69\" class=\"sk-toggleable__label sk-toggleable__label-arrow\">KNeighborsRegressor</label><div class=\"sk-toggleable__content\"><pre>KNeighborsRegressor()</pre></div></div></div></div></div></div></div></div><div class=\"sk-item\"><div class=\"sk-estimator sk-toggleable\"><input class=\"sk-toggleable__control sk-hidden--visually\" id=\"sk-estimator-id-70\" type=\"checkbox\" ><label for=\"sk-estimator-id-70\" class=\"sk-toggleable__label sk-toggleable__label-arrow\">StandardScaler</label><div class=\"sk-toggleable__content\"><pre>StandardScaler()</pre></div></div></div></div></div></div></div></div><div class=\"sk-parallel-item\"><div class=\"sk-item\"><div class=\"sk-label-container\"><div class=\"sk-label sk-toggleable\"><input class=\"sk-toggleable__control sk-hidden--visually\" id=\"sk-estimator-id-71\" type=\"checkbox\" ><label for=\"sk-estimator-id-71\" class=\"sk-toggleable__label sk-toggleable__label-arrow\">cat</label><div class=\"sk-toggleable__content\"><pre>Index([&#x27;apcp_sf1_1&#x27;, &#x27;dlwrf_s1_1&#x27;, &#x27;dlwrf_s2_1&#x27;, &#x27;dlwrf_s4_1&#x27;, &#x27;dlwrf_s5_1&#x27;,\n",
              "       &#x27;dswrf_s4_1&#x27;, &#x27;dswrf_s5_1&#x27;, &#x27;pres_ms5_1&#x27;, &#x27;pwat_ea1_1&#x27;, &#x27;pwat_ea5_1&#x27;,\n",
              "       &#x27;tcdc_ea3_1&#x27;, &#x27;tcdc_ea4_1&#x27;, &#x27;tcdc_ea5_1&#x27;, &#x27;tcolc_e2_1&#x27;, &#x27;tcolc_e4_1&#x27;,\n",
              "       &#x27;tmax_2m1_1&#x27;, &#x27;tmax_2m2_1&#x27;, &#x27;tmax_2m3_1&#x27;, &#x27;tmax_2m4_1&#x27;, &#x27;tmin_2m1_1&#x27;,\n",
              "       &#x27;tmp_2m_1_1&#x27;, &#x27;tmp_2m_4_1&#x27;, &#x27;tmp_sfc2_1&#x27;, &#x27;tmp_sfc4_1&#x27;, &#x27;ulwrf_s1_1&#x27;,\n",
              "       &#x27;ulwrf_s3_1&#x27;, &#x27;ulwrf_t2_1&#x27;, &#x27;ulwrf_t3_1&#x27;, &#x27;ulwrf_t4_1&#x27;, &#x27;uswrf_s2_1&#x27;],\n",
              "      dtype=&#x27;object&#x27;)</pre></div></div></div><div class=\"sk-serial\"><div class=\"sk-item\"><div class=\"sk-serial\"><div class=\"sk-item\"><div class=\"sk-estimator sk-toggleable\"><input class=\"sk-toggleable__control sk-hidden--visually\" id=\"sk-estimator-id-72\" type=\"checkbox\" ><label for=\"sk-estimator-id-72\" class=\"sk-toggleable__label sk-toggleable__label-arrow\">OneHotEncoder</label><div class=\"sk-toggleable__content\"><pre>OneHotEncoder(handle_unknown=&#x27;ignore&#x27;, sparse_output=False)</pre></div></div></div><div class=\"sk-item\"><div class=\"sk-estimator sk-toggleable\"><input class=\"sk-toggleable__control sk-hidden--visually\" id=\"sk-estimator-id-73\" type=\"checkbox\" ><label for=\"sk-estimator-id-73\" class=\"sk-toggleable__label sk-toggleable__label-arrow\">VarianceThreshold</label><div class=\"sk-toggleable__content\"><pre>VarianceThreshold(threshold=0)</pre></div></div></div><div class=\"sk-item sk-dashed-wrapped\"><div class=\"sk-label-container\"><div class=\"sk-label sk-toggleable\"><input class=\"sk-toggleable__control sk-hidden--visually\" id=\"sk-estimator-id-74\" type=\"checkbox\" ><label for=\"sk-estimator-id-74\" class=\"sk-toggleable__label sk-toggleable__label-arrow\">imputer: IterativeImputer</label><div class=\"sk-toggleable__content\"><pre>IterativeImputer(estimator=KNeighborsClassifier())</pre></div></div></div><div class=\"sk-parallel\"><div class=\"sk-parallel-item\"><div class=\"sk-item\"><div class=\"sk-label-container\"><div class=\"sk-label sk-toggleable\"><input class=\"sk-toggleable__control sk-hidden--visually\" id=\"sk-estimator-id-75\" type=\"checkbox\" ><label for=\"sk-estimator-id-75\" class=\"sk-toggleable__label sk-toggleable__label-arrow\">estimator: KNeighborsClassifier</label><div class=\"sk-toggleable__content\"><pre>KNeighborsClassifier()</pre></div></div></div><div class=\"sk-serial\"><div class=\"sk-item\"><div class=\"sk-estimator sk-toggleable\"><input class=\"sk-toggleable__control sk-hidden--visually\" id=\"sk-estimator-id-76\" type=\"checkbox\" ><label for=\"sk-estimator-id-76\" class=\"sk-toggleable__label sk-toggleable__label-arrow\">KNeighborsClassifier</label><div class=\"sk-toggleable__content\"><pre>KNeighborsClassifier()</pre></div></div></div></div></div></div></div></div></div></div></div></div></div></div></div><div class=\"sk-item\"><div class=\"sk-estimator sk-toggleable\"><input class=\"sk-toggleable__control sk-hidden--visually\" id=\"sk-estimator-id-77\" type=\"checkbox\" ><label for=\"sk-estimator-id-77\" class=\"sk-toggleable__label sk-toggleable__label-arrow\">KNeighborsRegressor</label><div class=\"sk-toggleable__content\"><pre>KNeighborsRegressor()</pre></div></div></div></div></div></div></div></div></div></div></div></div>"
            ]
          },
          "metadata": {},
          "execution_count": 36
        }
      ]
    },
    {
      "cell_type": "markdown",
      "source": [
        "Mejor modelo y mejores hiperparametros."
      ],
      "metadata": {
        "id": "5eJWUAYgPgSc"
      }
    },
    {
      "cell_type": "code",
      "source": [
        "mejores_hp_e = random_search_e.best_params_\n",
        "print(mejores_hp_e)"
      ],
      "metadata": {
        "id": "dFGmFlEkPhq8",
        "colab": {
          "base_uri": "https://localhost:8080/"
        },
        "outputId": "22f5e1fb-6ef8-435b-892f-f47179e5919a"
      },
      "execution_count": null,
      "outputs": [
        {
          "output_type": "stream",
          "name": "stdout",
          "text": [
            "{'regresor': RandomForestRegressor(random_state=129)}\n"
          ]
        }
      ]
    },
    {
      "cell_type": "markdown",
      "source": [
        "Mejor score para los datos de entrenamiento."
      ],
      "metadata": {
        "id": "MKHfTD8GPj-U"
      }
    },
    {
      "cell_type": "code",
      "source": [
        "score_e = random_search_e.best_score_\n",
        "print(f'El mejor score para el conjunto de entrenamiento es r2 = {score_e}')"
      ],
      "metadata": {
        "id": "UuCZyZCJPlm3",
        "colab": {
          "base_uri": "https://localhost:8080/"
        },
        "outputId": "1a1f33a6-e2e7-42a2-b1fb-056ee5b33c99"
      },
      "execution_count": null,
      "outputs": [
        {
          "output_type": "stream",
          "name": "stdout",
          "text": [
            "El mejor score para el conjunto de entrenamiento es r2 = 0.8243844734318376\n"
          ]
        }
      ]
    },
    {
      "cell_type": "markdown",
      "source": [
        "Ajustamos el mejor modelo y calculamos las predicciones y el R2 para los datos de test."
      ],
      "metadata": {
        "id": "5ONFgQuWPncc"
      }
    },
    {
      "cell_type": "code",
      "source": [
        "mejor_modelo_e = random_search_e.best_estimator_\n",
        "y_pred_test_e = mejor_modelo_e.predict(X_test)\n",
        "r2_e = r2_score(y_test, y_pred_test_e)\n",
        "print(f'El score para el conjunto de test es r2 = {r2_e}')"
      ],
      "metadata": {
        "id": "sIlN-LYsPpQv",
        "colab": {
          "base_uri": "https://localhost:8080/"
        },
        "outputId": "a90ff255-1029-4fd3-9b4a-d154c3e1b41e"
      },
      "execution_count": null,
      "outputs": [
        {
          "output_type": "stream",
          "name": "stdout",
          "text": [
            "El score para el conjunto de test es r2 = 0.815364621422875\n"
          ]
        }
      ]
    },
    {
      "cell_type": "markdown",
      "source": [
        "## Ensembles Con Ajuste HP"
      ],
      "metadata": {
        "id": "XleEF06lPXJq"
      }
    },
    {
      "cell_type": "markdown",
      "source": [
        "Consideramos ahora el Random Forest y Gradient Boosting con ajuste de hiperparametros.\n",
        "\n",
        "Para el Random Forest ajustamos el numero de arboles que se utilizan en la creacion del modelo y el porcentaje de variables que se utilizan para realizar una division del arbol.\n",
        "\n",
        "Para el Gradient Boosting ajustamos el numero de arboles que se utilizan para la construccion del modelo y la tasa de aprendizaje que controla la contribucion de cada arbol al modelo."
      ],
      "metadata": {
        "id": "HONENfwSNH1m"
      }
    },
    {
      "cell_type": "markdown",
      "source": [
        "Definimos el espacio de busqueda de hiperparametros en el que tenemos que fijar una semilla para no obtener resultados diferentes cada vez que ejecutemos el codigo, pues el Random Search escoge configuraciones aleatorias de hiperparametros."
      ],
      "metadata": {
        "id": "TDK2fTq3JjiR"
      }
    },
    {
      "cell_type": "code",
      "source": [
        "param_grid = [{'regresor': [RandomForestRegressor(random_state = 129)],\n",
        "               'regresor__n_estimators': [10, 50, 100, 200],\n",
        "               'regresor__max_features': [0.01, 0.1, 0.2, 0.3, 0.5]},\n",
        "\n",
        "              {'regresor': [XGBRegressor(random_state = 129)],\n",
        "               'regresor__n_estimators': [10, 50, 100, 200],\n",
        "               'regresor__learning_rate': [0.01, 0.1, 0.2, 0.3, 0.5]}]\n",
        "\n",
        "tss = TimeSeriesSplit(n_splits = 3)\n",
        "random_search_e_hp =  RandomizedSearchCV(regresor, param_grid, cv = tss, scoring = 'r2', random_state = 129)"
      ],
      "metadata": {
        "id": "FZL1xFOoNIQE"
      },
      "execution_count": null,
      "outputs": []
    },
    {
      "cell_type": "markdown",
      "source": [
        "Entrenamiento del modelo."
      ],
      "metadata": {
        "id": "kH5cki-cOpjx"
      }
    },
    {
      "cell_type": "code",
      "source": [
        "random_search_e_hp.fit(X_train, y_train)"
      ],
      "metadata": {
        "id": "CKu-eNN_OnwE",
        "colab": {
          "base_uri": "https://localhost:8080/",
          "height": 351
        },
        "outputId": "62a75d2a-660f-4fbd-c06f-de4cab0c1c79"
      },
      "execution_count": null,
      "outputs": [
        {
          "output_type": "execute_result",
          "data": {
            "text/plain": [
              "RandomizedSearchCV(cv=TimeSeriesSplit(gap=0, max_train_size=None, n_splits=3, test_size=None),\n",
              "                   estimator=Pipeline(steps=[('preproceso',\n",
              "                                              ColumnTransformer(transformers=[('num',\n",
              "                                                                               Pipeline(steps=[('variance_threshold',\n",
              "                                                                                                VarianceThreshold(threshold=0)),\n",
              "                                                                                               ('imputer',\n",
              "                                                                                                IterativeImputer(estimator=KNeighborsRegressor())),\n",
              "                                                                                               ('scaler',\n",
              "                                                                                                StandardScaler())]),\n",
              "                                                                               Index(['apcp_sf2_1...\n",
              "                                                                   max_cat_to_onehot=None,\n",
              "                                                                   max_delta_step=None,\n",
              "                                                                   max_depth=None,\n",
              "                                                                   max_leaves=None,\n",
              "                                                                   min_child_weight=None,\n",
              "                                                                   missing=nan,\n",
              "                                                                   monotone_constraints=None,\n",
              "                                                                   multi_strategy=None,\n",
              "                                                                   n_estimators=None,\n",
              "                                                                   n_jobs=None,\n",
              "                                                                   num_parallel_tree=None,\n",
              "                                                                   random_state=129, ...)],\n",
              "                                         'regresor__learning_rate': [0.01, 0.1,\n",
              "                                                                     0.2, 0.3,\n",
              "                                                                     0.5],\n",
              "                                         'regresor__n_estimators': [10, 50, 100,\n",
              "                                                                    200]}],\n",
              "                   random_state=129, scoring='r2')"
            ],
            "text/html": [
              "<style>#sk-container-id-3 {color: black;background-color: white;}#sk-container-id-3 pre{padding: 0;}#sk-container-id-3 div.sk-toggleable {background-color: white;}#sk-container-id-3 label.sk-toggleable__label {cursor: pointer;display: block;width: 100%;margin-bottom: 0;padding: 0.3em;box-sizing: border-box;text-align: center;}#sk-container-id-3 label.sk-toggleable__label-arrow:before {content: \"▸\";float: left;margin-right: 0.25em;color: #696969;}#sk-container-id-3 label.sk-toggleable__label-arrow:hover:before {color: black;}#sk-container-id-3 div.sk-estimator:hover label.sk-toggleable__label-arrow:before {color: black;}#sk-container-id-3 div.sk-toggleable__content {max-height: 0;max-width: 0;overflow: hidden;text-align: left;background-color: #f0f8ff;}#sk-container-id-3 div.sk-toggleable__content pre {margin: 0.2em;color: black;border-radius: 0.25em;background-color: #f0f8ff;}#sk-container-id-3 input.sk-toggleable__control:checked~div.sk-toggleable__content {max-height: 200px;max-width: 100%;overflow: auto;}#sk-container-id-3 input.sk-toggleable__control:checked~label.sk-toggleable__label-arrow:before {content: \"▾\";}#sk-container-id-3 div.sk-estimator input.sk-toggleable__control:checked~label.sk-toggleable__label {background-color: #d4ebff;}#sk-container-id-3 div.sk-label input.sk-toggleable__control:checked~label.sk-toggleable__label {background-color: #d4ebff;}#sk-container-id-3 input.sk-hidden--visually {border: 0;clip: rect(1px 1px 1px 1px);clip: rect(1px, 1px, 1px, 1px);height: 1px;margin: -1px;overflow: hidden;padding: 0;position: absolute;width: 1px;}#sk-container-id-3 div.sk-estimator {font-family: monospace;background-color: #f0f8ff;border: 1px dotted black;border-radius: 0.25em;box-sizing: border-box;margin-bottom: 0.5em;}#sk-container-id-3 div.sk-estimator:hover {background-color: #d4ebff;}#sk-container-id-3 div.sk-parallel-item::after {content: \"\";width: 100%;border-bottom: 1px solid gray;flex-grow: 1;}#sk-container-id-3 div.sk-label:hover label.sk-toggleable__label {background-color: #d4ebff;}#sk-container-id-3 div.sk-serial::before {content: \"\";position: absolute;border-left: 1px solid gray;box-sizing: border-box;top: 0;bottom: 0;left: 50%;z-index: 0;}#sk-container-id-3 div.sk-serial {display: flex;flex-direction: column;align-items: center;background-color: white;padding-right: 0.2em;padding-left: 0.2em;position: relative;}#sk-container-id-3 div.sk-item {position: relative;z-index: 1;}#sk-container-id-3 div.sk-parallel {display: flex;align-items: stretch;justify-content: center;background-color: white;position: relative;}#sk-container-id-3 div.sk-item::before, #sk-container-id-3 div.sk-parallel-item::before {content: \"\";position: absolute;border-left: 1px solid gray;box-sizing: border-box;top: 0;bottom: 0;left: 50%;z-index: -1;}#sk-container-id-3 div.sk-parallel-item {display: flex;flex-direction: column;z-index: 1;position: relative;background-color: white;}#sk-container-id-3 div.sk-parallel-item:first-child::after {align-self: flex-end;width: 50%;}#sk-container-id-3 div.sk-parallel-item:last-child::after {align-self: flex-start;width: 50%;}#sk-container-id-3 div.sk-parallel-item:only-child::after {width: 0;}#sk-container-id-3 div.sk-dashed-wrapped {border: 1px dashed gray;margin: 0 0.4em 0.5em 0.4em;box-sizing: border-box;padding-bottom: 0.4em;background-color: white;}#sk-container-id-3 div.sk-label label {font-family: monospace;font-weight: bold;display: inline-block;line-height: 1.2em;}#sk-container-id-3 div.sk-label-container {text-align: center;}#sk-container-id-3 div.sk-container {/* jupyter's `normalize.less` sets `[hidden] { display: none; }` but bootstrap.min.css set `[hidden] { display: none !important; }` so we also need the `!important` here to be able to override the default hidden behavior on the sphinx rendered scikit-learn.org. See: https://github.com/scikit-learn/scikit-learn/issues/21755 */display: inline-block !important;position: relative;}#sk-container-id-3 div.sk-text-repr-fallback {display: none;}</style><div id=\"sk-container-id-3\" class=\"sk-top-container\"><div class=\"sk-text-repr-fallback\"><pre>RandomizedSearchCV(cv=TimeSeriesSplit(gap=0, max_train_size=None, n_splits=3, test_size=None),\n",
              "                   estimator=Pipeline(steps=[(&#x27;preproceso&#x27;,\n",
              "                                              ColumnTransformer(transformers=[(&#x27;num&#x27;,\n",
              "                                                                               Pipeline(steps=[(&#x27;variance_threshold&#x27;,\n",
              "                                                                                                VarianceThreshold(threshold=0)),\n",
              "                                                                                               (&#x27;imputer&#x27;,\n",
              "                                                                                                IterativeImputer(estimator=KNeighborsRegressor())),\n",
              "                                                                                               (&#x27;scaler&#x27;,\n",
              "                                                                                                StandardScaler())]),\n",
              "                                                                               Index([&#x27;apcp_sf2_1...\n",
              "                                                                   max_cat_to_onehot=None,\n",
              "                                                                   max_delta_step=None,\n",
              "                                                                   max_depth=None,\n",
              "                                                                   max_leaves=None,\n",
              "                                                                   min_child_weight=None,\n",
              "                                                                   missing=nan,\n",
              "                                                                   monotone_constraints=None,\n",
              "                                                                   multi_strategy=None,\n",
              "                                                                   n_estimators=None,\n",
              "                                                                   n_jobs=None,\n",
              "                                                                   num_parallel_tree=None,\n",
              "                                                                   random_state=129, ...)],\n",
              "                                         &#x27;regresor__learning_rate&#x27;: [0.01, 0.1,\n",
              "                                                                     0.2, 0.3,\n",
              "                                                                     0.5],\n",
              "                                         &#x27;regresor__n_estimators&#x27;: [10, 50, 100,\n",
              "                                                                    200]}],\n",
              "                   random_state=129, scoring=&#x27;r2&#x27;)</pre><b>In a Jupyter environment, please rerun this cell to show the HTML representation or trust the notebook. <br />On GitHub, the HTML representation is unable to render, please try loading this page with nbviewer.org.</b></div><div class=\"sk-container\" hidden><div class=\"sk-item sk-dashed-wrapped\"><div class=\"sk-label-container\"><div class=\"sk-label sk-toggleable\"><input class=\"sk-toggleable__control sk-hidden--visually\" id=\"sk-estimator-id-30\" type=\"checkbox\" ><label for=\"sk-estimator-id-30\" class=\"sk-toggleable__label sk-toggleable__label-arrow\">RandomizedSearchCV</label><div class=\"sk-toggleable__content\"><pre>RandomizedSearchCV(cv=TimeSeriesSplit(gap=0, max_train_size=None, n_splits=3, test_size=None),\n",
              "                   estimator=Pipeline(steps=[(&#x27;preproceso&#x27;,\n",
              "                                              ColumnTransformer(transformers=[(&#x27;num&#x27;,\n",
              "                                                                               Pipeline(steps=[(&#x27;variance_threshold&#x27;,\n",
              "                                                                                                VarianceThreshold(threshold=0)),\n",
              "                                                                                               (&#x27;imputer&#x27;,\n",
              "                                                                                                IterativeImputer(estimator=KNeighborsRegressor())),\n",
              "                                                                                               (&#x27;scaler&#x27;,\n",
              "                                                                                                StandardScaler())]),\n",
              "                                                                               Index([&#x27;apcp_sf2_1...\n",
              "                                                                   max_cat_to_onehot=None,\n",
              "                                                                   max_delta_step=None,\n",
              "                                                                   max_depth=None,\n",
              "                                                                   max_leaves=None,\n",
              "                                                                   min_child_weight=None,\n",
              "                                                                   missing=nan,\n",
              "                                                                   monotone_constraints=None,\n",
              "                                                                   multi_strategy=None,\n",
              "                                                                   n_estimators=None,\n",
              "                                                                   n_jobs=None,\n",
              "                                                                   num_parallel_tree=None,\n",
              "                                                                   random_state=129, ...)],\n",
              "                                         &#x27;regresor__learning_rate&#x27;: [0.01, 0.1,\n",
              "                                                                     0.2, 0.3,\n",
              "                                                                     0.5],\n",
              "                                         &#x27;regresor__n_estimators&#x27;: [10, 50, 100,\n",
              "                                                                    200]}],\n",
              "                   random_state=129, scoring=&#x27;r2&#x27;)</pre></div></div></div><div class=\"sk-parallel\"><div class=\"sk-parallel-item\"><div class=\"sk-item\"><div class=\"sk-label-container\"><div class=\"sk-label sk-toggleable\"><input class=\"sk-toggleable__control sk-hidden--visually\" id=\"sk-estimator-id-31\" type=\"checkbox\" ><label for=\"sk-estimator-id-31\" class=\"sk-toggleable__label sk-toggleable__label-arrow\">estimator: Pipeline</label><div class=\"sk-toggleable__content\"><pre>Pipeline(steps=[(&#x27;preproceso&#x27;,\n",
              "                 ColumnTransformer(transformers=[(&#x27;num&#x27;,\n",
              "                                                  Pipeline(steps=[(&#x27;variance_threshold&#x27;,\n",
              "                                                                   VarianceThreshold(threshold=0)),\n",
              "                                                                  (&#x27;imputer&#x27;,\n",
              "                                                                   IterativeImputer(estimator=KNeighborsRegressor())),\n",
              "                                                                  (&#x27;scaler&#x27;,\n",
              "                                                                   StandardScaler())]),\n",
              "                                                  Index([&#x27;apcp_sf2_1&#x27;, &#x27;apcp_sf3_1&#x27;, &#x27;apcp_sf4_1&#x27;, &#x27;apcp_sf5_1&#x27;, &#x27;dlwrf_s3_1&#x27;,\n",
              "       &#x27;dswrf_s1_1&#x27;, &#x27;dswrf_s2_1&#x27;, &#x27;dswrf_s3_1&#x27;, &#x27;pres_ms...\n",
              "       &#x27;dswrf_s4_1&#x27;, &#x27;dswrf_s5_1&#x27;, &#x27;pres_ms5_1&#x27;, &#x27;pwat_ea1_1&#x27;, &#x27;pwat_ea5_1&#x27;,\n",
              "       &#x27;tcdc_ea3_1&#x27;, &#x27;tcdc_ea4_1&#x27;, &#x27;tcdc_ea5_1&#x27;, &#x27;tcolc_e2_1&#x27;, &#x27;tcolc_e4_1&#x27;,\n",
              "       &#x27;tmax_2m1_1&#x27;, &#x27;tmax_2m2_1&#x27;, &#x27;tmax_2m3_1&#x27;, &#x27;tmax_2m4_1&#x27;, &#x27;tmin_2m1_1&#x27;,\n",
              "       &#x27;tmp_2m_1_1&#x27;, &#x27;tmp_2m_4_1&#x27;, &#x27;tmp_sfc2_1&#x27;, &#x27;tmp_sfc4_1&#x27;, &#x27;ulwrf_s1_1&#x27;,\n",
              "       &#x27;ulwrf_s3_1&#x27;, &#x27;ulwrf_t2_1&#x27;, &#x27;ulwrf_t3_1&#x27;, &#x27;ulwrf_t4_1&#x27;, &#x27;uswrf_s2_1&#x27;],\n",
              "      dtype=&#x27;object&#x27;))])),\n",
              "                (&#x27;regresor&#x27;, KNeighborsRegressor())])</pre></div></div></div><div class=\"sk-serial\"><div class=\"sk-item\"><div class=\"sk-serial\"><div class=\"sk-item sk-dashed-wrapped\"><div class=\"sk-label-container\"><div class=\"sk-label sk-toggleable\"><input class=\"sk-toggleable__control sk-hidden--visually\" id=\"sk-estimator-id-32\" type=\"checkbox\" ><label for=\"sk-estimator-id-32\" class=\"sk-toggleable__label sk-toggleable__label-arrow\">preproceso: ColumnTransformer</label><div class=\"sk-toggleable__content\"><pre>ColumnTransformer(transformers=[(&#x27;num&#x27;,\n",
              "                                 Pipeline(steps=[(&#x27;variance_threshold&#x27;,\n",
              "                                                  VarianceThreshold(threshold=0)),\n",
              "                                                 (&#x27;imputer&#x27;,\n",
              "                                                  IterativeImputer(estimator=KNeighborsRegressor())),\n",
              "                                                 (&#x27;scaler&#x27;, StandardScaler())]),\n",
              "                                 Index([&#x27;apcp_sf2_1&#x27;, &#x27;apcp_sf3_1&#x27;, &#x27;apcp_sf4_1&#x27;, &#x27;apcp_sf5_1&#x27;, &#x27;dlwrf_s3_1&#x27;,\n",
              "       &#x27;dswrf_s1_1&#x27;, &#x27;dswrf_s2_1&#x27;, &#x27;dswrf_s3_1&#x27;, &#x27;pres_ms1_1&#x27;, &#x27;pres_ms2_1&#x27;,\n",
              "       &#x27;pres_ms3_1&#x27;...\n",
              "                                 Index([&#x27;apcp_sf1_1&#x27;, &#x27;dlwrf_s1_1&#x27;, &#x27;dlwrf_s2_1&#x27;, &#x27;dlwrf_s4_1&#x27;, &#x27;dlwrf_s5_1&#x27;,\n",
              "       &#x27;dswrf_s4_1&#x27;, &#x27;dswrf_s5_1&#x27;, &#x27;pres_ms5_1&#x27;, &#x27;pwat_ea1_1&#x27;, &#x27;pwat_ea5_1&#x27;,\n",
              "       &#x27;tcdc_ea3_1&#x27;, &#x27;tcdc_ea4_1&#x27;, &#x27;tcdc_ea5_1&#x27;, &#x27;tcolc_e2_1&#x27;, &#x27;tcolc_e4_1&#x27;,\n",
              "       &#x27;tmax_2m1_1&#x27;, &#x27;tmax_2m2_1&#x27;, &#x27;tmax_2m3_1&#x27;, &#x27;tmax_2m4_1&#x27;, &#x27;tmin_2m1_1&#x27;,\n",
              "       &#x27;tmp_2m_1_1&#x27;, &#x27;tmp_2m_4_1&#x27;, &#x27;tmp_sfc2_1&#x27;, &#x27;tmp_sfc4_1&#x27;, &#x27;ulwrf_s1_1&#x27;,\n",
              "       &#x27;ulwrf_s3_1&#x27;, &#x27;ulwrf_t2_1&#x27;, &#x27;ulwrf_t3_1&#x27;, &#x27;ulwrf_t4_1&#x27;, &#x27;uswrf_s2_1&#x27;],\n",
              "      dtype=&#x27;object&#x27;))])</pre></div></div></div><div class=\"sk-parallel\"><div class=\"sk-parallel-item\"><div class=\"sk-item\"><div class=\"sk-label-container\"><div class=\"sk-label sk-toggleable\"><input class=\"sk-toggleable__control sk-hidden--visually\" id=\"sk-estimator-id-33\" type=\"checkbox\" ><label for=\"sk-estimator-id-33\" class=\"sk-toggleable__label sk-toggleable__label-arrow\">num</label><div class=\"sk-toggleable__content\"><pre>Index([&#x27;apcp_sf2_1&#x27;, &#x27;apcp_sf3_1&#x27;, &#x27;apcp_sf4_1&#x27;, &#x27;apcp_sf5_1&#x27;, &#x27;dlwrf_s3_1&#x27;,\n",
              "       &#x27;dswrf_s1_1&#x27;, &#x27;dswrf_s2_1&#x27;, &#x27;dswrf_s3_1&#x27;, &#x27;pres_ms1_1&#x27;, &#x27;pres_ms2_1&#x27;,\n",
              "       &#x27;pres_ms3_1&#x27;, &#x27;pres_ms4_1&#x27;, &#x27;pwat_ea2_1&#x27;, &#x27;pwat_ea4_1&#x27;, &#x27;spfh_2m1_1&#x27;,\n",
              "       &#x27;spfh_2m2_1&#x27;, &#x27;spfh_2m3_1&#x27;, &#x27;spfh_2m4_1&#x27;, &#x27;spfh_2m5_1&#x27;, &#x27;tcdc_ea1_1&#x27;,\n",
              "       &#x27;tcdc_ea2_1&#x27;, &#x27;tcolc_e1_1&#x27;, &#x27;tcolc_e3_1&#x27;, &#x27;tcolc_e5_1&#x27;, &#x27;tmax_2m5_1&#x27;,\n",
              "       &#x27;tmin_2m2_1&#x27;, &#x27;tmin_2m3_1&#x27;, &#x27;tmin_2m4_1&#x27;, &#x27;tmin_2m5_1&#x27;, &#x27;tmp_2m_2_1&#x27;,\n",
              "       &#x27;tmp_2m_3_1&#x27;, &#x27;tmp_2m_5_1&#x27;, &#x27;tmp_sfc1_1&#x27;, &#x27;tmp_sfc3_1&#x27;, &#x27;tmp_sfc5_1&#x27;,\n",
              "       &#x27;ulwrf_s2_1&#x27;, &#x27;ulwrf_s4_1&#x27;, &#x27;ulwrf_s5_1&#x27;, &#x27;ulwrf_t1_1&#x27;, &#x27;ulwrf_t5_1&#x27;,\n",
              "       &#x27;uswrf_s3_1&#x27;, &#x27;uswrf_s4_1&#x27;, &#x27;uswrf_s5_1&#x27;],\n",
              "      dtype=&#x27;object&#x27;)</pre></div></div></div><div class=\"sk-serial\"><div class=\"sk-item\"><div class=\"sk-serial\"><div class=\"sk-item\"><div class=\"sk-estimator sk-toggleable\"><input class=\"sk-toggleable__control sk-hidden--visually\" id=\"sk-estimator-id-34\" type=\"checkbox\" ><label for=\"sk-estimator-id-34\" class=\"sk-toggleable__label sk-toggleable__label-arrow\">VarianceThreshold</label><div class=\"sk-toggleable__content\"><pre>VarianceThreshold(threshold=0)</pre></div></div></div><div class=\"sk-item sk-dashed-wrapped\"><div class=\"sk-label-container\"><div class=\"sk-label sk-toggleable\"><input class=\"sk-toggleable__control sk-hidden--visually\" id=\"sk-estimator-id-35\" type=\"checkbox\" ><label for=\"sk-estimator-id-35\" class=\"sk-toggleable__label sk-toggleable__label-arrow\">imputer: IterativeImputer</label><div class=\"sk-toggleable__content\"><pre>IterativeImputer(estimator=KNeighborsRegressor())</pre></div></div></div><div class=\"sk-parallel\"><div class=\"sk-parallel-item\"><div class=\"sk-item\"><div class=\"sk-label-container\"><div class=\"sk-label sk-toggleable\"><input class=\"sk-toggleable__control sk-hidden--visually\" id=\"sk-estimator-id-36\" type=\"checkbox\" ><label for=\"sk-estimator-id-36\" class=\"sk-toggleable__label sk-toggleable__label-arrow\">estimator: KNeighborsRegressor</label><div class=\"sk-toggleable__content\"><pre>KNeighborsRegressor()</pre></div></div></div><div class=\"sk-serial\"><div class=\"sk-item\"><div class=\"sk-estimator sk-toggleable\"><input class=\"sk-toggleable__control sk-hidden--visually\" id=\"sk-estimator-id-37\" type=\"checkbox\" ><label for=\"sk-estimator-id-37\" class=\"sk-toggleable__label sk-toggleable__label-arrow\">KNeighborsRegressor</label><div class=\"sk-toggleable__content\"><pre>KNeighborsRegressor()</pre></div></div></div></div></div></div></div></div><div class=\"sk-item\"><div class=\"sk-estimator sk-toggleable\"><input class=\"sk-toggleable__control sk-hidden--visually\" id=\"sk-estimator-id-38\" type=\"checkbox\" ><label for=\"sk-estimator-id-38\" class=\"sk-toggleable__label sk-toggleable__label-arrow\">StandardScaler</label><div class=\"sk-toggleable__content\"><pre>StandardScaler()</pre></div></div></div></div></div></div></div></div><div class=\"sk-parallel-item\"><div class=\"sk-item\"><div class=\"sk-label-container\"><div class=\"sk-label sk-toggleable\"><input class=\"sk-toggleable__control sk-hidden--visually\" id=\"sk-estimator-id-39\" type=\"checkbox\" ><label for=\"sk-estimator-id-39\" class=\"sk-toggleable__label sk-toggleable__label-arrow\">cat</label><div class=\"sk-toggleable__content\"><pre>Index([&#x27;apcp_sf1_1&#x27;, &#x27;dlwrf_s1_1&#x27;, &#x27;dlwrf_s2_1&#x27;, &#x27;dlwrf_s4_1&#x27;, &#x27;dlwrf_s5_1&#x27;,\n",
              "       &#x27;dswrf_s4_1&#x27;, &#x27;dswrf_s5_1&#x27;, &#x27;pres_ms5_1&#x27;, &#x27;pwat_ea1_1&#x27;, &#x27;pwat_ea5_1&#x27;,\n",
              "       &#x27;tcdc_ea3_1&#x27;, &#x27;tcdc_ea4_1&#x27;, &#x27;tcdc_ea5_1&#x27;, &#x27;tcolc_e2_1&#x27;, &#x27;tcolc_e4_1&#x27;,\n",
              "       &#x27;tmax_2m1_1&#x27;, &#x27;tmax_2m2_1&#x27;, &#x27;tmax_2m3_1&#x27;, &#x27;tmax_2m4_1&#x27;, &#x27;tmin_2m1_1&#x27;,\n",
              "       &#x27;tmp_2m_1_1&#x27;, &#x27;tmp_2m_4_1&#x27;, &#x27;tmp_sfc2_1&#x27;, &#x27;tmp_sfc4_1&#x27;, &#x27;ulwrf_s1_1&#x27;,\n",
              "       &#x27;ulwrf_s3_1&#x27;, &#x27;ulwrf_t2_1&#x27;, &#x27;ulwrf_t3_1&#x27;, &#x27;ulwrf_t4_1&#x27;, &#x27;uswrf_s2_1&#x27;],\n",
              "      dtype=&#x27;object&#x27;)</pre></div></div></div><div class=\"sk-serial\"><div class=\"sk-item\"><div class=\"sk-serial\"><div class=\"sk-item\"><div class=\"sk-estimator sk-toggleable\"><input class=\"sk-toggleable__control sk-hidden--visually\" id=\"sk-estimator-id-40\" type=\"checkbox\" ><label for=\"sk-estimator-id-40\" class=\"sk-toggleable__label sk-toggleable__label-arrow\">OneHotEncoder</label><div class=\"sk-toggleable__content\"><pre>OneHotEncoder(handle_unknown=&#x27;ignore&#x27;, sparse_output=False)</pre></div></div></div><div class=\"sk-item\"><div class=\"sk-estimator sk-toggleable\"><input class=\"sk-toggleable__control sk-hidden--visually\" id=\"sk-estimator-id-41\" type=\"checkbox\" ><label for=\"sk-estimator-id-41\" class=\"sk-toggleable__label sk-toggleable__label-arrow\">VarianceThreshold</label><div class=\"sk-toggleable__content\"><pre>VarianceThreshold(threshold=0)</pre></div></div></div><div class=\"sk-item sk-dashed-wrapped\"><div class=\"sk-label-container\"><div class=\"sk-label sk-toggleable\"><input class=\"sk-toggleable__control sk-hidden--visually\" id=\"sk-estimator-id-42\" type=\"checkbox\" ><label for=\"sk-estimator-id-42\" class=\"sk-toggleable__label sk-toggleable__label-arrow\">imputer: IterativeImputer</label><div class=\"sk-toggleable__content\"><pre>IterativeImputer(estimator=KNeighborsClassifier())</pre></div></div></div><div class=\"sk-parallel\"><div class=\"sk-parallel-item\"><div class=\"sk-item\"><div class=\"sk-label-container\"><div class=\"sk-label sk-toggleable\"><input class=\"sk-toggleable__control sk-hidden--visually\" id=\"sk-estimator-id-43\" type=\"checkbox\" ><label for=\"sk-estimator-id-43\" class=\"sk-toggleable__label sk-toggleable__label-arrow\">estimator: KNeighborsClassifier</label><div class=\"sk-toggleable__content\"><pre>KNeighborsClassifier()</pre></div></div></div><div class=\"sk-serial\"><div class=\"sk-item\"><div class=\"sk-estimator sk-toggleable\"><input class=\"sk-toggleable__control sk-hidden--visually\" id=\"sk-estimator-id-44\" type=\"checkbox\" ><label for=\"sk-estimator-id-44\" class=\"sk-toggleable__label sk-toggleable__label-arrow\">KNeighborsClassifier</label><div class=\"sk-toggleable__content\"><pre>KNeighborsClassifier()</pre></div></div></div></div></div></div></div></div></div></div></div></div></div></div></div><div class=\"sk-item\"><div class=\"sk-estimator sk-toggleable\"><input class=\"sk-toggleable__control sk-hidden--visually\" id=\"sk-estimator-id-45\" type=\"checkbox\" ><label for=\"sk-estimator-id-45\" class=\"sk-toggleable__label sk-toggleable__label-arrow\">KNeighborsRegressor</label><div class=\"sk-toggleable__content\"><pre>KNeighborsRegressor()</pre></div></div></div></div></div></div></div></div></div></div></div></div>"
            ]
          },
          "metadata": {},
          "execution_count": 27
        }
      ]
    },
    {
      "cell_type": "markdown",
      "source": [
        "Obtenemos los mejores valores de los hiperparametros."
      ],
      "metadata": {
        "id": "9UyXhXvnOxRM"
      }
    },
    {
      "cell_type": "code",
      "source": [
        "mejores_hp_e_hp = random_search_e_hp.best_params_\n",
        "print(mejores_hp_e_hp)"
      ],
      "metadata": {
        "id": "zfJnn4eeOzCr",
        "colab": {
          "base_uri": "https://localhost:8080/"
        },
        "outputId": "6d3197a6-4a3f-4f41-8e3c-0e2be005a877"
      },
      "execution_count": null,
      "outputs": [
        {
          "output_type": "stream",
          "name": "stdout",
          "text": [
            "{'regresor__n_estimators': 200, 'regresor__max_features': 0.1, 'regresor': RandomForestRegressor(max_features=0.1, n_estimators=200, random_state=129)}\n"
          ]
        }
      ]
    },
    {
      "cell_type": "markdown",
      "source": [
        "Obtenemos el mejor score para los datos de entrenamiento."
      ],
      "metadata": {
        "id": "NZw9Ok57O1A_"
      }
    },
    {
      "cell_type": "code",
      "source": [
        "score_e_hp = random_search_e_hp.best_score_\n",
        "print(f'El mejor score para el conjunto de entrenamiento es r2 = {score_e_hp}')"
      ],
      "metadata": {
        "id": "OItuLyNgO35_",
        "colab": {
          "base_uri": "https://localhost:8080/"
        },
        "outputId": "1ea90e78-8fff-456f-d4f7-288402747c0b"
      },
      "execution_count": null,
      "outputs": [
        {
          "output_type": "stream",
          "name": "stdout",
          "text": [
            "El mejor score para el conjunto de entrenamiento es r2 = 0.830908070329094\n"
          ]
        }
      ]
    },
    {
      "cell_type": "markdown",
      "source": [
        "Ajustamos el mejor modelo, calculamos las predicciones y el score para datos de test."
      ],
      "metadata": {
        "id": "PeCbXKF7O6_i"
      }
    },
    {
      "cell_type": "code",
      "source": [
        "mejor_modelo_e_hp = random_search_e_hp.best_estimator_\n",
        "y_pred_test_e_hp = mejor_modelo_e_hp.predict(X_test)\n",
        "r2_e_hp = r2_score(y_test, y_pred_test_e_hp)\n",
        "print(f'El score para el conjunto de test es r2 = {r2_e_hp}')"
      ],
      "metadata": {
        "id": "GP3u8NQGO8eG",
        "colab": {
          "base_uri": "https://localhost:8080/"
        },
        "outputId": "5b988adc-f615-4d45-961e-8925f14d4b66"
      },
      "execution_count": null,
      "outputs": [
        {
          "output_type": "stream",
          "name": "stdout",
          "text": [
            "El score para el conjunto de test es r2 = 0.8236089415210992\n"
          ]
        }
      ]
    },
    {
      "cell_type": "markdown",
      "source": [
        "## Modelo Final"
      ],
      "metadata": {
        "id": "Rdr2-ERKxsA0"
      }
    },
    {
      "cell_type": "markdown",
      "source": [
        "Obtenemos que el mejor modelo lo proporciona el Random Forest con  200 arboles y max_features = 0.1.\n",
        "\n",
        "Por tanto, entrenamos dicho modelo con todos los datos disponibles y lo guardamos en un fichero joblib."
      ],
      "metadata": {
        "id": "r7yqcUUf5aUv"
      }
    },
    {
      "cell_type": "code",
      "source": [
        "X_trans = pd.DataFrame(mejor_modelo_e_hp[:-1].fit_transform(X))\n",
        "mejor_modelo_e_hp[-1].fit(X_trans, y)\n",
        "dump(mejor_modelo_e_hp, '/content/drive/MyDrive/Aprendizaje Automatico/Practicas/Practica 2/mejor_modelo_e_hp_joblib')"
      ],
      "metadata": {
        "colab": {
          "base_uri": "https://localhost:8080/"
        },
        "id": "5Rwr2XiM5r8_",
        "outputId": "30342828-0777-4d99-b26f-e9ea890e2b32"
      },
      "execution_count": null,
      "outputs": [
        {
          "output_type": "execute_result",
          "data": {
            "text/plain": [
              "['/content/drive/MyDrive/Aprendizaje Automatico/Practicas/Practica 2/mejor_modelo_e_hp_joblib']"
            ]
          },
          "metadata": {},
          "execution_count": 31
        }
      ]
    },
    {
      "cell_type": "markdown",
      "source": [
        "Mostramos el modelo final."
      ],
      "metadata": {
        "id": "IlphryOZJI7M"
      }
    },
    {
      "cell_type": "code",
      "source": [
        "modelo_final = load('/content/drive/MyDrive/Aprendizaje Automatico/Practicas/Practica 2/mejor_modelo_e_hp_joblib')\n",
        "print(modelo_final)"
      ],
      "metadata": {
        "colab": {
          "base_uri": "https://localhost:8080/"
        },
        "id": "XrxPKxjq-VYT",
        "outputId": "9014e3be-67f5-416f-95fe-2a39b2cf4969"
      },
      "execution_count": null,
      "outputs": [
        {
          "output_type": "stream",
          "name": "stdout",
          "text": [
            "Pipeline(steps=[('preproceso',\n",
            "                 ColumnTransformer(transformers=[('num',\n",
            "                                                  Pipeline(steps=[('variance_threshold',\n",
            "                                                                   VarianceThreshold(threshold=0)),\n",
            "                                                                  ('imputer',\n",
            "                                                                   IterativeImputer(estimator=KNeighborsRegressor())),\n",
            "                                                                  ('scaler',\n",
            "                                                                   StandardScaler())]),\n",
            "                                                  Index(['apcp_sf2_1', 'apcp_sf3_1', 'apcp_sf4_1', 'apcp_sf5_1', 'dlwrf_s3_1',\n",
            "       'dswrf_s1_1', 'dswrf_s2_1', 'dswrf_s3_1', 'pres_ms...\n",
            "       'tcdc_ea3_1', 'tcdc_ea4_1', 'tcdc_ea5_1', 'tcolc_e2_1', 'tcolc_e4_1',\n",
            "       'tmax_2m1_1', 'tmax_2m2_1', 'tmax_2m3_1', 'tmax_2m4_1', 'tmin_2m1_1',\n",
            "       'tmp_2m_1_1', 'tmp_2m_4_1', 'tmp_sfc2_1', 'tmp_sfc4_1', 'ulwrf_s1_1',\n",
            "       'ulwrf_s3_1', 'ulwrf_t2_1', 'ulwrf_t3_1', 'ulwrf_t4_1', 'uswrf_s2_1'],\n",
            "      dtype='object'))])),\n",
            "                ('regresor',\n",
            "                 RandomForestRegressor(max_features=0.1, n_estimators=200,\n",
            "                                       random_state=129))])\n"
          ]
        }
      ]
    },
    {
      "cell_type": "markdown",
      "source": [
        "## Predicciones"
      ],
      "metadata": {
        "id": "TLaMZ0ew5VuX"
      }
    },
    {
      "cell_type": "markdown",
      "source": [
        "Cargamos los datos que vamos a utilizar para predecir el modelo final, que contienen los 3 ultimos años de datos disponibles."
      ],
      "metadata": {
        "id": "XkAbJxbBxufG"
      }
    },
    {
      "cell_type": "code",
      "source": [
        "datos_pred = feather.read_dataframe('/content/drive/MyDrive/Aprendizaje Automatico/Practicas/Practica 2/compet.feather')\n",
        "datos_pred[:2]"
      ],
      "metadata": {
        "colab": {
          "base_uri": "https://localhost:8080/",
          "height": 161
        },
        "id": "jGXF2nETxsLW",
        "outputId": "1f5c725e-42e6-4e1d-d8d0-3676e7e0fd9b"
      },
      "execution_count": null,
      "outputs": [
        {
          "output_type": "execute_result",
          "data": {
            "text/plain": [
              "  apcp_sf1_1  apcp_sf2_1  apcp_sf3_1  apcp_sf4_1  apcp_sf5_1 dlwrf_s1_1  \\\n",
              "0        low         0.0         0.0         0.0         0.0       blue   \n",
              "1        low         0.0         NaN         0.0         0.0       blue   \n",
              "\n",
              "  dlwrf_s2_1  dlwrf_s3_1 dlwrf_s4_1 dlwrf_s5_1  ...  ulwrf_t1_1  ulwrf_t2_1  \\\n",
              "0        low  275.618003     medium       blue  ...         0.0      medium   \n",
              "1        low  258.974701        low        red  ...         0.0      medium   \n",
              "\n",
              "   ulwrf_t3_1 ulwrf_t4_1  ulwrf_t5_1  uswrf_s1_1  uswrf_s2_1  uswrf_s3_1  \\\n",
              "0        high       high  262.813816         NaN         low   48.000000   \n",
              "1      medium       high  255.737294         NaN         low   49.909091   \n",
              "\n",
              "   uswrf_s4_1 uswrf_s5_1  \n",
              "0  105.727273  70.545455  \n",
              "1  109.181818        NaN  \n",
              "\n",
              "[2 rows x 75 columns]"
            ],
            "text/html": [
              "\n",
              "  <div id=\"df-048ef8c5-2614-4211-9e7b-cb4bbc20d6ae\" class=\"colab-df-container\">\n",
              "    <div>\n",
              "<style scoped>\n",
              "    .dataframe tbody tr th:only-of-type {\n",
              "        vertical-align: middle;\n",
              "    }\n",
              "\n",
              "    .dataframe tbody tr th {\n",
              "        vertical-align: top;\n",
              "    }\n",
              "\n",
              "    .dataframe thead th {\n",
              "        text-align: right;\n",
              "    }\n",
              "</style>\n",
              "<table border=\"1\" class=\"dataframe\">\n",
              "  <thead>\n",
              "    <tr style=\"text-align: right;\">\n",
              "      <th></th>\n",
              "      <th>apcp_sf1_1</th>\n",
              "      <th>apcp_sf2_1</th>\n",
              "      <th>apcp_sf3_1</th>\n",
              "      <th>apcp_sf4_1</th>\n",
              "      <th>apcp_sf5_1</th>\n",
              "      <th>dlwrf_s1_1</th>\n",
              "      <th>dlwrf_s2_1</th>\n",
              "      <th>dlwrf_s3_1</th>\n",
              "      <th>dlwrf_s4_1</th>\n",
              "      <th>dlwrf_s5_1</th>\n",
              "      <th>...</th>\n",
              "      <th>ulwrf_t1_1</th>\n",
              "      <th>ulwrf_t2_1</th>\n",
              "      <th>ulwrf_t3_1</th>\n",
              "      <th>ulwrf_t4_1</th>\n",
              "      <th>ulwrf_t5_1</th>\n",
              "      <th>uswrf_s1_1</th>\n",
              "      <th>uswrf_s2_1</th>\n",
              "      <th>uswrf_s3_1</th>\n",
              "      <th>uswrf_s4_1</th>\n",
              "      <th>uswrf_s5_1</th>\n",
              "    </tr>\n",
              "  </thead>\n",
              "  <tbody>\n",
              "    <tr>\n",
              "      <th>0</th>\n",
              "      <td>low</td>\n",
              "      <td>0.0</td>\n",
              "      <td>0.0</td>\n",
              "      <td>0.0</td>\n",
              "      <td>0.0</td>\n",
              "      <td>blue</td>\n",
              "      <td>low</td>\n",
              "      <td>275.618003</td>\n",
              "      <td>medium</td>\n",
              "      <td>blue</td>\n",
              "      <td>...</td>\n",
              "      <td>0.0</td>\n",
              "      <td>medium</td>\n",
              "      <td>high</td>\n",
              "      <td>high</td>\n",
              "      <td>262.813816</td>\n",
              "      <td>NaN</td>\n",
              "      <td>low</td>\n",
              "      <td>48.000000</td>\n",
              "      <td>105.727273</td>\n",
              "      <td>70.545455</td>\n",
              "    </tr>\n",
              "    <tr>\n",
              "      <th>1</th>\n",
              "      <td>low</td>\n",
              "      <td>0.0</td>\n",
              "      <td>NaN</td>\n",
              "      <td>0.0</td>\n",
              "      <td>0.0</td>\n",
              "      <td>blue</td>\n",
              "      <td>low</td>\n",
              "      <td>258.974701</td>\n",
              "      <td>low</td>\n",
              "      <td>red</td>\n",
              "      <td>...</td>\n",
              "      <td>0.0</td>\n",
              "      <td>medium</td>\n",
              "      <td>medium</td>\n",
              "      <td>high</td>\n",
              "      <td>255.737294</td>\n",
              "      <td>NaN</td>\n",
              "      <td>low</td>\n",
              "      <td>49.909091</td>\n",
              "      <td>109.181818</td>\n",
              "      <td>NaN</td>\n",
              "    </tr>\n",
              "  </tbody>\n",
              "</table>\n",
              "<p>2 rows × 75 columns</p>\n",
              "</div>\n",
              "    <div class=\"colab-df-buttons\">\n",
              "\n",
              "  <div class=\"colab-df-container\">\n",
              "    <button class=\"colab-df-convert\" onclick=\"convertToInteractive('df-048ef8c5-2614-4211-9e7b-cb4bbc20d6ae')\"\n",
              "            title=\"Convert this dataframe to an interactive table.\"\n",
              "            style=\"display:none;\">\n",
              "\n",
              "  <svg xmlns=\"http://www.w3.org/2000/svg\" height=\"24px\" viewBox=\"0 -960 960 960\">\n",
              "    <path d=\"M120-120v-720h720v720H120Zm60-500h600v-160H180v160Zm220 220h160v-160H400v160Zm0 220h160v-160H400v160ZM180-400h160v-160H180v160Zm440 0h160v-160H620v160ZM180-180h160v-160H180v160Zm440 0h160v-160H620v160Z\"/>\n",
              "  </svg>\n",
              "    </button>\n",
              "\n",
              "  <style>\n",
              "    .colab-df-container {\n",
              "      display:flex;\n",
              "      gap: 12px;\n",
              "    }\n",
              "\n",
              "    .colab-df-convert {\n",
              "      background-color: #E8F0FE;\n",
              "      border: none;\n",
              "      border-radius: 50%;\n",
              "      cursor: pointer;\n",
              "      display: none;\n",
              "      fill: #1967D2;\n",
              "      height: 32px;\n",
              "      padding: 0 0 0 0;\n",
              "      width: 32px;\n",
              "    }\n",
              "\n",
              "    .colab-df-convert:hover {\n",
              "      background-color: #E2EBFA;\n",
              "      box-shadow: 0px 1px 2px rgba(60, 64, 67, 0.3), 0px 1px 3px 1px rgba(60, 64, 67, 0.15);\n",
              "      fill: #174EA6;\n",
              "    }\n",
              "\n",
              "    .colab-df-buttons div {\n",
              "      margin-bottom: 4px;\n",
              "    }\n",
              "\n",
              "    [theme=dark] .colab-df-convert {\n",
              "      background-color: #3B4455;\n",
              "      fill: #D2E3FC;\n",
              "    }\n",
              "\n",
              "    [theme=dark] .colab-df-convert:hover {\n",
              "      background-color: #434B5C;\n",
              "      box-shadow: 0px 1px 3px 1px rgba(0, 0, 0, 0.15);\n",
              "      filter: drop-shadow(0px 1px 2px rgba(0, 0, 0, 0.3));\n",
              "      fill: #FFFFFF;\n",
              "    }\n",
              "  </style>\n",
              "\n",
              "    <script>\n",
              "      const buttonEl =\n",
              "        document.querySelector('#df-048ef8c5-2614-4211-9e7b-cb4bbc20d6ae button.colab-df-convert');\n",
              "      buttonEl.style.display =\n",
              "        google.colab.kernel.accessAllowed ? 'block' : 'none';\n",
              "\n",
              "      async function convertToInteractive(key) {\n",
              "        const element = document.querySelector('#df-048ef8c5-2614-4211-9e7b-cb4bbc20d6ae');\n",
              "        const dataTable =\n",
              "          await google.colab.kernel.invokeFunction('convertToInteractive',\n",
              "                                                    [key], {});\n",
              "        if (!dataTable) return;\n",
              "\n",
              "        const docLinkHtml = 'Like what you see? Visit the ' +\n",
              "          '<a target=\"_blank\" href=https://colab.research.google.com/notebooks/data_table.ipynb>data table notebook</a>'\n",
              "          + ' to learn more about interactive tables.';\n",
              "        element.innerHTML = '';\n",
              "        dataTable['output_type'] = 'display_data';\n",
              "        await google.colab.output.renderOutput(dataTable, element);\n",
              "        const docLink = document.createElement('div');\n",
              "        docLink.innerHTML = docLinkHtml;\n",
              "        element.appendChild(docLink);\n",
              "      }\n",
              "    </script>\n",
              "  </div>\n",
              "\n",
              "\n",
              "<div id=\"df-869a7d45-0a06-4506-a87a-294cedba8325\">\n",
              "  <button class=\"colab-df-quickchart\" onclick=\"quickchart('df-869a7d45-0a06-4506-a87a-294cedba8325')\"\n",
              "            title=\"Suggest charts\"\n",
              "            style=\"display:none;\">\n",
              "\n",
              "<svg xmlns=\"http://www.w3.org/2000/svg\" height=\"24px\"viewBox=\"0 0 24 24\"\n",
              "     width=\"24px\">\n",
              "    <g>\n",
              "        <path d=\"M19 3H5c-1.1 0-2 .9-2 2v14c0 1.1.9 2 2 2h14c1.1 0 2-.9 2-2V5c0-1.1-.9-2-2-2zM9 17H7v-7h2v7zm4 0h-2V7h2v10zm4 0h-2v-4h2v4z\"/>\n",
              "    </g>\n",
              "</svg>\n",
              "  </button>\n",
              "\n",
              "<style>\n",
              "  .colab-df-quickchart {\n",
              "      --bg-color: #E8F0FE;\n",
              "      --fill-color: #1967D2;\n",
              "      --hover-bg-color: #E2EBFA;\n",
              "      --hover-fill-color: #174EA6;\n",
              "      --disabled-fill-color: #AAA;\n",
              "      --disabled-bg-color: #DDD;\n",
              "  }\n",
              "\n",
              "  [theme=dark] .colab-df-quickchart {\n",
              "      --bg-color: #3B4455;\n",
              "      --fill-color: #D2E3FC;\n",
              "      --hover-bg-color: #434B5C;\n",
              "      --hover-fill-color: #FFFFFF;\n",
              "      --disabled-bg-color: #3B4455;\n",
              "      --disabled-fill-color: #666;\n",
              "  }\n",
              "\n",
              "  .colab-df-quickchart {\n",
              "    background-color: var(--bg-color);\n",
              "    border: none;\n",
              "    border-radius: 50%;\n",
              "    cursor: pointer;\n",
              "    display: none;\n",
              "    fill: var(--fill-color);\n",
              "    height: 32px;\n",
              "    padding: 0;\n",
              "    width: 32px;\n",
              "  }\n",
              "\n",
              "  .colab-df-quickchart:hover {\n",
              "    background-color: var(--hover-bg-color);\n",
              "    box-shadow: 0 1px 2px rgba(60, 64, 67, 0.3), 0 1px 3px 1px rgba(60, 64, 67, 0.15);\n",
              "    fill: var(--button-hover-fill-color);\n",
              "  }\n",
              "\n",
              "  .colab-df-quickchart-complete:disabled,\n",
              "  .colab-df-quickchart-complete:disabled:hover {\n",
              "    background-color: var(--disabled-bg-color);\n",
              "    fill: var(--disabled-fill-color);\n",
              "    box-shadow: none;\n",
              "  }\n",
              "\n",
              "  .colab-df-spinner {\n",
              "    border: 2px solid var(--fill-color);\n",
              "    border-color: transparent;\n",
              "    border-bottom-color: var(--fill-color);\n",
              "    animation:\n",
              "      spin 1s steps(1) infinite;\n",
              "  }\n",
              "\n",
              "  @keyframes spin {\n",
              "    0% {\n",
              "      border-color: transparent;\n",
              "      border-bottom-color: var(--fill-color);\n",
              "      border-left-color: var(--fill-color);\n",
              "    }\n",
              "    20% {\n",
              "      border-color: transparent;\n",
              "      border-left-color: var(--fill-color);\n",
              "      border-top-color: var(--fill-color);\n",
              "    }\n",
              "    30% {\n",
              "      border-color: transparent;\n",
              "      border-left-color: var(--fill-color);\n",
              "      border-top-color: var(--fill-color);\n",
              "      border-right-color: var(--fill-color);\n",
              "    }\n",
              "    40% {\n",
              "      border-color: transparent;\n",
              "      border-right-color: var(--fill-color);\n",
              "      border-top-color: var(--fill-color);\n",
              "    }\n",
              "    60% {\n",
              "      border-color: transparent;\n",
              "      border-right-color: var(--fill-color);\n",
              "    }\n",
              "    80% {\n",
              "      border-color: transparent;\n",
              "      border-right-color: var(--fill-color);\n",
              "      border-bottom-color: var(--fill-color);\n",
              "    }\n",
              "    90% {\n",
              "      border-color: transparent;\n",
              "      border-bottom-color: var(--fill-color);\n",
              "    }\n",
              "  }\n",
              "</style>\n",
              "\n",
              "  <script>\n",
              "    async function quickchart(key) {\n",
              "      const quickchartButtonEl =\n",
              "        document.querySelector('#' + key + ' button');\n",
              "      quickchartButtonEl.disabled = true;  // To prevent multiple clicks.\n",
              "      quickchartButtonEl.classList.add('colab-df-spinner');\n",
              "      try {\n",
              "        const charts = await google.colab.kernel.invokeFunction(\n",
              "            'suggestCharts', [key], {});\n",
              "      } catch (error) {\n",
              "        console.error('Error during call to suggestCharts:', error);\n",
              "      }\n",
              "      quickchartButtonEl.classList.remove('colab-df-spinner');\n",
              "      quickchartButtonEl.classList.add('colab-df-quickchart-complete');\n",
              "    }\n",
              "    (() => {\n",
              "      let quickchartButtonEl =\n",
              "        document.querySelector('#df-869a7d45-0a06-4506-a87a-294cedba8325 button');\n",
              "      quickchartButtonEl.style.display =\n",
              "        google.colab.kernel.accessAllowed ? 'block' : 'none';\n",
              "    })();\n",
              "  </script>\n",
              "</div>\n",
              "    </div>\n",
              "  </div>\n"
            ]
          },
          "metadata": {},
          "execution_count": 33
        }
      ]
    },
    {
      "cell_type": "markdown",
      "source": [
        "Obtenemos las predicciones para los datos utilizando el modelo final que es un Random Forest con 200 arboles y max_features = 0.1."
      ],
      "metadata": {
        "id": "y7M4UNfK6mSJ"
      }
    },
    {
      "cell_type": "code",
      "source": [
        "pred_fin = modelo_final.predict(datos_pred)\n",
        "pred_fin = pd.DataFrame(pred_fin)"
      ],
      "metadata": {
        "id": "ubyYrF6s7AH3"
      },
      "execution_count": null,
      "outputs": []
    },
    {
      "cell_type": "markdown",
      "source": [
        "Por ultimo, guardamos las predicciones finales en un archivo csv."
      ],
      "metadata": {
        "id": "6lVwzIfn6_ij"
      }
    },
    {
      "cell_type": "code",
      "source": [
        "ruta_csv = '/content/drive/MyDrive/Aprendizaje Automatico/Practicas/Practica 2/predicciones.csv'\n",
        "pred_fin.to_csv(ruta_csv, index = False)"
      ],
      "metadata": {
        "id": "ZcYdZPw96ldb"
      },
      "execution_count": null,
      "outputs": []
    },
    {
      "cell_type": "markdown",
      "source": [
        "## Investigación Adicional: Hyperband"
      ],
      "metadata": {
        "id": "1zbqdueRAYWy"
      }
    },
    {
      "cell_type": "markdown",
      "source": [
        "En la ultima parte de la practica se nos pide realizar una investigacion adicional sobre algun otro metodo de ajuste de hiperparametros, en este caso el hyperband."
      ],
      "metadata": {
        "id": "RJ2sTU6RQRWR"
      }
    },
    {
      "cell_type": "markdown",
      "source": [
        "Para aplicar la tecnica de busqueda de hiperparametros hyperband, necesitamos aplicar primero un preproceso a los datos."
      ],
      "metadata": {
        "id": "WWrIG2qmFQUj"
      }
    },
    {
      "cell_type": "code",
      "source": [
        "X_train_2 =  pd.DataFrame(preproceso.transform(X_train))\n",
        "X_test_2 =  pd.DataFrame(preproceso.transform(X_test))"
      ],
      "metadata": {
        "id": "bJwtSFgRBJqe"
      },
      "execution_count": null,
      "outputs": []
    },
    {
      "cell_type": "markdown",
      "source": [
        "Inicializamos el hyperband."
      ],
      "metadata": {
        "id": "DkG9W7hrFd2T"
      }
    },
    {
      "cell_type": "code",
      "source": [
        "ray.init\n",
        "ray.tune.tune"
      ],
      "metadata": {
        "colab": {
          "base_uri": "https://localhost:8080/"
        },
        "id": "S9NOurOpBHQN",
        "outputId": "34c7defe-47e0-41dc-b56b-d2ece6417773"
      },
      "execution_count": null,
      "outputs": [
        {
          "output_type": "execute_result",
          "data": {
            "text/plain": [
              "<module 'ray.tune.tune' from '/usr/local/lib/python3.10/dist-packages/ray/tune/tune.py'>"
            ]
          },
          "metadata": {},
          "execution_count": 37
        }
      ]
    },
    {
      "cell_type": "markdown",
      "source": [
        "Definimos la funcion de perdida, que en nuestro caso es la metrica de evaluacion R2."
      ],
      "metadata": {
        "id": "CAOGU3t1Fh3V"
      }
    },
    {
      "cell_type": "code",
      "source": [
        "def loss_function(model, X, y):\n",
        "  y_pred = model.predict(X)\n",
        "  return r2_score(y, y_pred)"
      ],
      "metadata": {
        "id": "bwHuqbbyBVo3"
      },
      "execution_count": null,
      "outputs": []
    },
    {
      "cell_type": "markdown",
      "source": [
        "Definimos el modelo Random Forest asi como los hiperparametros que se van a ajustar, que son el numero de arboles y el % de variables necesarias para dividir el arbol.\n",
        "\n",
        "Entrenamos el modelo con los datos de entrenamiento y aplicamos la funcion de perdida a los datos de test.\n",
        "\n",
        "Dado que la funcion de perdida es la metrica R2, en nuestro caso nos interesa maximizar dicha metrica."
      ],
      "metadata": {
        "id": "2AbrMj17Fo4Q"
      }
    },
    {
      "cell_type": "code",
      "source": [
        "def train_regresor(config):\n",
        "  model = RandomForestRegressor(n_estimators = config[\"n_estimators\"],\n",
        "                                max_features = config[\"max_features\"],\n",
        "                                n_jobs = -1)\n",
        "  model.fit(X_train_2, y_train)\n",
        "  loss = loss_function(model, X_test_2, y_test)\n",
        "  metrics = {\"loss\": loss}\n",
        "  ray.train.report(metrics)"
      ],
      "metadata": {
        "id": "1I6lYqgfBa-I"
      },
      "execution_count": null,
      "outputs": []
    },
    {
      "cell_type": "markdown",
      "source": [
        "Definimos el espacio de busqueda de hiperparametros, donde hemos decidido replicar los valores de los hiperparametros de los metodos ensembles para comprobar que metodo de ajuste de hiperparametros es mejor, si el Random Search o el Hyperband.\n",
        "\n",
        "Aplicamos el hyperband para que busque los mejores hiperparametros."
      ],
      "metadata": {
        "id": "E3HbE-h8F6ZV"
      }
    },
    {
      "cell_type": "code",
      "source": [
        "search_space= {\"n_estimators\": tune.grid_search([10, 50, 100, 200]),\n",
        "               \"max_features\": tune.grid_search([0.01, 0.1, 0.2, 0.3, 0.5])}\n",
        "\n",
        "analysis = tune.run(train_regresor,\n",
        "                    config = search_space,\n",
        "                    metric = \"loss\",\n",
        "                    mode = \"max\",\n",
        "                    scheduler = tune.schedulers.HyperBandScheduler())"
      ],
      "metadata": {
        "colab": {
          "base_uri": "https://localhost:8080/"
        },
        "id": "CCTBcrp7AZgm",
        "outputId": "6069eec1-c2b7-4a6e-dd34-1a5a8eb4c689"
      },
      "execution_count": null,
      "outputs": [
        {
          "output_type": "stream",
          "name": "stderr",
          "text": [
            "2023-12-14 17:06:59,790\tINFO worker.py:1673 -- Started a local Ray instance.\n",
            "2023-12-14 17:07:03,728\tINFO tune.py:220 -- Initializing Ray automatically. For cluster usage or custom Ray initialization, call `ray.init(...)` before `tune.run(...)`.\n",
            "2023-12-14 17:07:03,733\tINFO tune.py:595 -- [output] This will use the new output engine with verbosity 2. To disable the new output and use the legacy output engine, set the environment variable RAY_AIR_NEW_OUTPUT=0. For more information, please see https://github.com/ray-project/ray/issues/36949\n"
          ]
        },
        {
          "output_type": "stream",
          "name": "stdout",
          "text": [
            "+-----------------------------------------------------------------------+\n",
            "| Configuration for experiment     train_regresor_2023-12-14_17-07-03   |\n",
            "+-----------------------------------------------------------------------+\n",
            "| Search algorithm                 BasicVariantGenerator                |\n",
            "| Scheduler                        HyperBandScheduler                   |\n",
            "| Number of trials                 20                                   |\n",
            "+-----------------------------------------------------------------------+\n",
            "\n",
            "View detailed results here: /root/ray_results/train_regresor_2023-12-14_17-07-03\n",
            "To visualize your results with TensorBoard, run: `tensorboard --logdir /root/ray_results/train_regresor_2023-12-14_17-07-03`\n",
            "\n",
            "Trial status: 16 PENDING\n",
            "Current time: 2023-12-14 17:07:11. Total running time: 1s\n",
            "Logical resource usage: 0/2 CPUs, 0/0 GPUs\n",
            "+-------------------------------------------------------------------------+\n",
            "| Trial name                   status       n_estimators     max_features |\n",
            "+-------------------------------------------------------------------------+\n",
            "| train_regresor_340ad_00000   PENDING                10             0.01 |\n",
            "| train_regresor_340ad_00001   PENDING                10             0.1  |\n",
            "| train_regresor_340ad_00002   PENDING                10             0.2  |\n",
            "| train_regresor_340ad_00003   PENDING                10             0.3  |\n",
            "| train_regresor_340ad_00004   PENDING                10             0.5  |\n",
            "| train_regresor_340ad_00005   PENDING                50             0.01 |\n",
            "| train_regresor_340ad_00006   PENDING                50             0.1  |\n",
            "| train_regresor_340ad_00007   PENDING                50             0.2  |\n",
            "| train_regresor_340ad_00008   PENDING                50             0.3  |\n",
            "| train_regresor_340ad_00009   PENDING                50             0.5  |\n",
            "| train_regresor_340ad_00010   PENDING               100             0.01 |\n",
            "| train_regresor_340ad_00011   PENDING               100             0.1  |\n",
            "| train_regresor_340ad_00012   PENDING               100             0.2  |\n",
            "| train_regresor_340ad_00013   PENDING               100             0.3  |\n",
            "| train_regresor_340ad_00014   PENDING               100             0.5  |\n",
            "| train_regresor_340ad_00015   PENDING               200             0.01 |\n",
            "+-------------------------------------------------------------------------+\n",
            "\n",
            "Trial train_regresor_340ad_00000 started with configuration:\n",
            "+--------------------------------------------------+\n",
            "| Trial train_regresor_340ad_00000 config          |\n",
            "+--------------------------------------------------+\n",
            "| max_features                                0.01 |\n",
            "| n_estimators                                  10 |\n",
            "+--------------------------------------------------+\n",
            "\n",
            "Trial train_regresor_340ad_00001 started with configuration:\n",
            "+-------------------------------------------------+\n",
            "| Trial train_regresor_340ad_00001 config         |\n",
            "+-------------------------------------------------+\n",
            "| max_features                                0.1 |\n",
            "| n_estimators                                 10 |\n",
            "+-------------------------------------------------+\n",
            "\n",
            "Trial train_regresor_340ad_00000 finished iteration 1 at 2023-12-14 17:07:20. Total running time: 9s\n",
            "+-----------------------------------------------------+\n",
            "| Trial train_regresor_340ad_00000 result             |\n",
            "+-----------------------------------------------------+\n",
            "| checkpoint_dir_name                                 |\n",
            "| time_this_iter_s                            0.33211 |\n",
            "| time_total_s                                0.33211 |\n",
            "| training_iteration                                1 |\n",
            "| loss                                        0.76266 |\n",
            "+-----------------------------------------------------+\n",
            "\n",
            "Trial train_regresor_340ad_00000 completed after 1 iterations at 2023-12-14 17:07:20. Total running time: 9s\n",
            "\n",
            "Trial train_regresor_340ad_00005 started with configuration:\n",
            "+--------------------------------------------------+\n",
            "| Trial train_regresor_340ad_00005 config          |\n",
            "+--------------------------------------------------+\n",
            "| max_features                                0.01 |\n",
            "| n_estimators                                  50 |\n",
            "+--------------------------------------------------+\n",
            "\n",
            "Trial train_regresor_340ad_00001 finished iteration 1 at 2023-12-14 17:07:20. Total running time: 9s\n",
            "+-----------------------------------------------------+\n",
            "| Trial train_regresor_340ad_00001 result             |\n",
            "+-----------------------------------------------------+\n",
            "| checkpoint_dir_name                                 |\n",
            "| time_this_iter_s                            0.54631 |\n",
            "| time_total_s                                0.54631 |\n",
            "| training_iteration                                1 |\n",
            "| loss                                        0.80161 |\n",
            "+-----------------------------------------------------+\n",
            "\n",
            "Trial train_regresor_340ad_00001 completed after 1 iterations at 2023-12-14 17:07:20. Total running time: 9s\n",
            "\n",
            "Trial train_regresor_340ad_00006 started with configuration:\n",
            "+-------------------------------------------------+\n",
            "| Trial train_regresor_340ad_00006 config         |\n",
            "+-------------------------------------------------+\n",
            "| max_features                                0.1 |\n",
            "| n_estimators                                 50 |\n",
            "+-------------------------------------------------+\n",
            "\n",
            "Trial train_regresor_340ad_00005 finished iteration 1 at 2023-12-14 17:07:21. Total running time: 10s\n",
            "+-----------------------------------------------------+\n",
            "| Trial train_regresor_340ad_00005 result             |\n",
            "+-----------------------------------------------------+\n",
            "| checkpoint_dir_name                                 |\n",
            "| time_this_iter_s                            1.07019 |\n",
            "| time_total_s                                1.07019 |\n",
            "| training_iteration                                1 |\n",
            "| loss                                        0.80348 |\n",
            "+-----------------------------------------------------+\n",
            "\n",
            "Trial train_regresor_340ad_00005 completed after 1 iterations at 2023-12-14 17:07:21. Total running time: 10s\n",
            "\n",
            "Trial train_regresor_340ad_00013 started with configuration:\n",
            "+-------------------------------------------------+\n",
            "| Trial train_regresor_340ad_00013 config         |\n",
            "+-------------------------------------------------+\n",
            "| max_features                                0.3 |\n",
            "| n_estimators                                100 |\n",
            "+-------------------------------------------------+\n",
            "\n",
            "Trial train_regresor_340ad_00006 finished iteration 1 at 2023-12-14 17:07:23. Total running time: 12s\n",
            "+-----------------------------------------------------+\n",
            "| Trial train_regresor_340ad_00006 result             |\n",
            "+-----------------------------------------------------+\n",
            "| checkpoint_dir_name                                 |\n",
            "| time_this_iter_s                            2.41856 |\n",
            "| time_total_s                                2.41856 |\n",
            "| training_iteration                                1 |\n",
            "| loss                                        0.82169 |\n",
            "+-----------------------------------------------------+\n",
            "\n",
            "Trial train_regresor_340ad_00006 completed after 1 iterations at 2023-12-14 17:07:23. Total running time: 12s\n",
            "\n",
            "Trial train_regresor_340ad_00014 started with configuration:\n",
            "+-------------------------------------------------+\n",
            "| Trial train_regresor_340ad_00014 config         |\n",
            "+-------------------------------------------------+\n",
            "| max_features                                0.5 |\n",
            "| n_estimators                                100 |\n",
            "+-------------------------------------------------+\n",
            "\n",
            "Trial train_regresor_340ad_00013 finished iteration 1 at 2023-12-14 17:07:27. Total running time: 17s\n",
            "+-----------------------------------------------------+\n",
            "| Trial train_regresor_340ad_00013 result             |\n",
            "+-----------------------------------------------------+\n",
            "| checkpoint_dir_name                                 |\n",
            "| time_this_iter_s                            6.50223 |\n",
            "| time_total_s                                6.50223 |\n",
            "| training_iteration                                1 |\n",
            "| loss                                        0.81952 |\n",
            "+-----------------------------------------------------+\n",
            "\n",
            "Trial train_regresor_340ad_00013 completed after 1 iterations at 2023-12-14 17:07:27. Total running time: 17s\n",
            "\n",
            "Trial train_regresor_340ad_00015 started with configuration:\n",
            "+--------------------------------------------------+\n",
            "| Trial train_regresor_340ad_00015 config          |\n",
            "+--------------------------------------------------+\n",
            "| max_features                                0.01 |\n",
            "| n_estimators                                 200 |\n",
            "+--------------------------------------------------+\n",
            "\n",
            "Trial train_regresor_340ad_00015 finished iteration 1 at 2023-12-14 17:07:30. Total running time: 19s\n",
            "+-----------------------------------------------------+\n",
            "| Trial train_regresor_340ad_00015 result             |\n",
            "+-----------------------------------------------------+\n",
            "| checkpoint_dir_name                                 |\n",
            "| time_this_iter_s                            2.58607 |\n",
            "| time_total_s                                2.58607 |\n",
            "| training_iteration                                1 |\n",
            "| loss                                        0.80866 |\n",
            "+-----------------------------------------------------+\n",
            "\n",
            "Trial train_regresor_340ad_00015 completed after 1 iterations at 2023-12-14 17:07:30. Total running time: 19s\n",
            "\n",
            "Trial train_regresor_340ad_00016 started with configuration:\n",
            "+-------------------------------------------------+\n",
            "| Trial train_regresor_340ad_00016 config         |\n",
            "+-------------------------------------------------+\n",
            "| max_features                                0.1 |\n",
            "| n_estimators                                200 |\n",
            "+-------------------------------------------------+\n",
            "\n",
            "Trial train_regresor_340ad_00014 finished iteration 1 at 2023-12-14 17:07:31. Total running time: 20s\n",
            "+-----------------------------------------------------+\n",
            "| Trial train_regresor_340ad_00014 result             |\n",
            "+-----------------------------------------------------+\n",
            "| checkpoint_dir_name                                 |\n",
            "| time_this_iter_s                            8.51599 |\n",
            "| time_total_s                                8.51599 |\n",
            "| training_iteration                                1 |\n",
            "| loss                                        0.82211 |\n",
            "+-----------------------------------------------------+\n",
            "\n",
            "Trial train_regresor_340ad_00014 completed after 1 iterations at 2023-12-14 17:07:31. Total running time: 20s\n",
            "\n",
            "Trial train_regresor_340ad_00002 started with configuration:\n",
            "+-------------------------------------------------+\n",
            "| Trial train_regresor_340ad_00002 config         |\n",
            "+-------------------------------------------------+\n",
            "| max_features                                0.2 |\n",
            "| n_estimators                                 10 |\n",
            "+-------------------------------------------------+\n",
            "\n",
            "Trial train_regresor_340ad_00002 finished iteration 1 at 2023-12-14 17:07:32. Total running time: 21s\n",
            "+-----------------------------------------------------+\n",
            "| Trial train_regresor_340ad_00002 result             |\n",
            "+-----------------------------------------------------+\n",
            "| checkpoint_dir_name                                 |\n",
            "| time_this_iter_s                              0.501 |\n",
            "| time_total_s                                  0.501 |\n",
            "| training_iteration                                1 |\n",
            "| loss                                        0.79851 |\n",
            "+-----------------------------------------------------+\n",
            "\n",
            "Trial train_regresor_340ad_00002 completed after 1 iterations at 2023-12-14 17:07:32. Total running time: 21s\n",
            "\n",
            "Trial train_regresor_340ad_00007 started with configuration:\n",
            "+-------------------------------------------------+\n",
            "| Trial train_regresor_340ad_00007 config         |\n",
            "+-------------------------------------------------+\n",
            "| max_features                                0.2 |\n",
            "| n_estimators                                 50 |\n",
            "+-------------------------------------------------+\n",
            "\n",
            "Trial train_regresor_340ad_00007 finished iteration 1 at 2023-12-14 17:07:35. Total running time: 24s\n",
            "+-----------------------------------------------------+\n",
            "| Trial train_regresor_340ad_00007 result             |\n",
            "+-----------------------------------------------------+\n",
            "| checkpoint_dir_name                                 |\n",
            "| time_this_iter_s                             3.1965 |\n",
            "| time_total_s                                 3.1965 |\n",
            "| training_iteration                                1 |\n",
            "| loss                                        0.82081 |\n",
            "+-----------------------------------------------------+\n",
            "\n",
            "Trial train_regresor_340ad_00007 completed after 1 iterations at 2023-12-14 17:07:35. Total running time: 24s\n",
            "\n",
            "Trial train_regresor_340ad_00017 started with configuration:\n",
            "+-------------------------------------------------+\n",
            "| Trial train_regresor_340ad_00017 config         |\n",
            "+-------------------------------------------------+\n",
            "| max_features                                0.2 |\n",
            "| n_estimators                                200 |\n",
            "+-------------------------------------------------+\n",
            "\n",
            "Trial train_regresor_340ad_00016 finished iteration 1 at 2023-12-14 17:07:38. Total running time: 27s\n",
            "+-----------------------------------------------------+\n",
            "| Trial train_regresor_340ad_00016 result             |\n",
            "+-----------------------------------------------------+\n",
            "| checkpoint_dir_name                                 |\n",
            "| time_this_iter_s                            7.45507 |\n",
            "| time_total_s                                7.45507 |\n",
            "| training_iteration                                1 |\n",
            "| loss                                        0.82366 |\n",
            "+-----------------------------------------------------+\n",
            "\n",
            "Trial train_regresor_340ad_00016 completed after 1 iterations at 2023-12-14 17:07:38. Total running time: 27s\n",
            "\n",
            "Trial train_regresor_340ad_00003 started with configuration:\n",
            "+-------------------------------------------------+\n",
            "| Trial train_regresor_340ad_00003 config         |\n",
            "+-------------------------------------------------+\n",
            "| max_features                                0.3 |\n",
            "| n_estimators                                 10 |\n",
            "+-------------------------------------------------+\n",
            "\n",
            "Trial train_regresor_340ad_00003 finished iteration 1 at 2023-12-14 17:07:39. Total running time: 28s\n",
            "+-----------------------------------------------------+\n",
            "| Trial train_regresor_340ad_00003 result             |\n",
            "+-----------------------------------------------------+\n",
            "| checkpoint_dir_name                                 |\n",
            "| time_this_iter_s                            1.10991 |\n",
            "| time_total_s                                1.10991 |\n",
            "| training_iteration                                1 |\n",
            "| loss                                        0.81069 |\n",
            "+-----------------------------------------------------+\n",
            "\n",
            "Trial train_regresor_340ad_00003 completed after 1 iterations at 2023-12-14 17:07:39. Total running time: 28s\n",
            "\n",
            "Trial train_regresor_340ad_00008 started with configuration:\n",
            "+-------------------------------------------------+\n",
            "| Trial train_regresor_340ad_00008 config         |\n",
            "+-------------------------------------------------+\n",
            "| max_features                                0.3 |\n",
            "| n_estimators                                 50 |\n",
            "+-------------------------------------------------+\n",
            "\n",
            "Trial status: 11 TERMINATED | 7 PENDING | 2 RUNNING\n",
            "Current time: 2023-12-14 17:07:42. Total running time: 31s\n",
            "Logical resource usage: 2.0/2 CPUs, 0/0 GPUs\n",
            "Current best trial: 340ad_00016 with loss=0.8236647058881759 and params={'n_estimators': 200, 'max_features': 0.1}\n",
            "+------------------------------------------------------------------------------------------------------------------+\n",
            "| Trial name                   status         n_estimators     max_features     iter     total time (s)       loss |\n",
            "+------------------------------------------------------------------------------------------------------------------+\n",
            "| train_regresor_340ad_00008   RUNNING                  50             0.3                                         |\n",
            "| train_regresor_340ad_00017   RUNNING                 200             0.2                                         |\n",
            "| train_regresor_340ad_00000   TERMINATED               10             0.01        1           0.332108   0.762658 |\n",
            "| train_regresor_340ad_00001   TERMINATED               10             0.1         1           0.546314   0.801613 |\n",
            "| train_regresor_340ad_00002   TERMINATED               10             0.2         1           0.501004   0.798508 |\n",
            "| train_regresor_340ad_00003   TERMINATED               10             0.3         1           1.10991    0.810695 |\n",
            "| train_regresor_340ad_00005   TERMINATED               50             0.01        1           1.07019    0.803483 |\n",
            "| train_regresor_340ad_00006   TERMINATED               50             0.1         1           2.41856    0.821687 |\n",
            "| train_regresor_340ad_00007   TERMINATED               50             0.2         1           3.1965     0.82081  |\n",
            "| train_regresor_340ad_00013   TERMINATED              100             0.3         1           6.50223    0.81952  |\n",
            "| train_regresor_340ad_00014   TERMINATED              100             0.5         1           8.51599    0.822107 |\n",
            "| train_regresor_340ad_00015   TERMINATED              200             0.01        1           2.58607    0.808655 |\n",
            "| train_regresor_340ad_00016   TERMINATED              200             0.1         1           7.45507    0.823665 |\n",
            "| train_regresor_340ad_00004   PENDING                  10             0.5                                         |\n",
            "| train_regresor_340ad_00009   PENDING                  50             0.5                                         |\n",
            "| train_regresor_340ad_00010   PENDING                 100             0.01                                        |\n",
            "| train_regresor_340ad_00011   PENDING                 100             0.1                                         |\n",
            "| train_regresor_340ad_00012   PENDING                 100             0.2                                         |\n",
            "| train_regresor_340ad_00018   PENDING                 200             0.3                                         |\n",
            "| train_regresor_340ad_00019   PENDING                 200             0.5                                         |\n",
            "+------------------------------------------------------------------------------------------------------------------+\n",
            "\n",
            "Trial train_regresor_340ad_00008 finished iteration 1 at 2023-12-14 17:07:43. Total running time: 32s\n",
            "+-----------------------------------------------------+\n",
            "| Trial train_regresor_340ad_00008 result             |\n",
            "+-----------------------------------------------------+\n",
            "| checkpoint_dir_name                                 |\n",
            "| time_this_iter_s                            4.07034 |\n",
            "| time_total_s                                4.07034 |\n",
            "| training_iteration                                1 |\n",
            "| loss                                        0.81482 |\n",
            "+-----------------------------------------------------+\n",
            "\n",
            "Trial train_regresor_340ad_00008 completed after 1 iterations at 2023-12-14 17:07:43. Total running time: 32s\n",
            "\n",
            "Trial train_regresor_340ad_00018 started with configuration:\n",
            "+-------------------------------------------------+\n",
            "| Trial train_regresor_340ad_00018 config         |\n",
            "+-------------------------------------------------+\n",
            "| max_features                                0.3 |\n",
            "| n_estimators                                200 |\n",
            "+-------------------------------------------------+\n",
            "\n",
            "Trial train_regresor_340ad_00017 finished iteration 1 at 2023-12-14 17:07:46. Total running time: 35s\n",
            "+-----------------------------------------------------+\n",
            "| Trial train_regresor_340ad_00017 result             |\n",
            "+-----------------------------------------------------+\n",
            "| checkpoint_dir_name                                 |\n",
            "| time_this_iter_s                            10.7439 |\n",
            "| time_total_s                                10.7439 |\n",
            "| training_iteration                                1 |\n",
            "| loss                                        0.82106 |\n",
            "+-----------------------------------------------------+\n",
            "\n",
            "Trial train_regresor_340ad_00017 completed after 1 iterations at 2023-12-14 17:07:46. Total running time: 35s\n",
            "\n",
            "Trial train_regresor_340ad_00004 started with configuration:\n",
            "+-------------------------------------------------+\n",
            "| Trial train_regresor_340ad_00004 config         |\n",
            "+-------------------------------------------------+\n",
            "| max_features                                0.5 |\n",
            "| n_estimators                                 10 |\n",
            "+-------------------------------------------------+\n",
            "\n",
            "Trial train_regresor_340ad_00004 finished iteration 1 at 2023-12-14 17:07:47. Total running time: 36s\n",
            "+-----------------------------------------------------+\n",
            "| Trial train_regresor_340ad_00004 result             |\n",
            "+-----------------------------------------------------+\n",
            "| checkpoint_dir_name                                 |\n",
            "| time_this_iter_s                            0.91353 |\n",
            "| time_total_s                                0.91353 |\n",
            "| training_iteration                                1 |\n",
            "| loss                                        0.80272 |\n",
            "+-----------------------------------------------------+\n",
            "\n",
            "Trial train_regresor_340ad_00004 completed after 1 iterations at 2023-12-14 17:07:47. Total running time: 36s\n",
            "\n",
            "Trial train_regresor_340ad_00009 started with configuration:\n",
            "+-------------------------------------------------+\n",
            "| Trial train_regresor_340ad_00009 config         |\n",
            "+-------------------------------------------------+\n",
            "| max_features                                0.5 |\n",
            "| n_estimators                                 50 |\n",
            "+-------------------------------------------------+\n",
            "\n",
            "Trial train_regresor_340ad_00009 finished iteration 1 at 2023-12-14 17:07:52. Total running time: 41s\n",
            "+-----------------------------------------------------+\n",
            "| Trial train_regresor_340ad_00009 result             |\n",
            "+-----------------------------------------------------+\n",
            "| checkpoint_dir_name                                 |\n",
            "| time_this_iter_s                            5.09856 |\n",
            "| time_total_s                                5.09856 |\n",
            "| training_iteration                                1 |\n",
            "| loss                                        0.81415 |\n",
            "+-----------------------------------------------------+\n",
            "\n",
            "Trial train_regresor_340ad_00009 completed after 1 iterations at 2023-12-14 17:07:52. Total running time: 41s\n",
            "\n",
            "Trial train_regresor_340ad_00019 started with configuration:\n",
            "+-------------------------------------------------+\n",
            "| Trial train_regresor_340ad_00019 config         |\n",
            "+-------------------------------------------------+\n",
            "| max_features                                0.5 |\n",
            "| n_estimators                                200 |\n",
            "+-------------------------------------------------+\n",
            "\n",
            "Trial train_regresor_340ad_00018 finished iteration 1 at 2023-12-14 17:07:58. Total running time: 47s\n",
            "+-----------------------------------------------------+\n",
            "| Trial train_regresor_340ad_00018 result             |\n",
            "+-----------------------------------------------------+\n",
            "| checkpoint_dir_name                                 |\n",
            "| time_this_iter_s                            14.7936 |\n",
            "| time_total_s                                14.7936 |\n",
            "| training_iteration                                1 |\n",
            "| loss                                        0.81951 |\n",
            "+-----------------------------------------------------+\n",
            "\n",
            "Trial train_regresor_340ad_00018 completed after 1 iterations at 2023-12-14 17:07:58. Total running time: 47s\n",
            "\n",
            "Trial train_regresor_340ad_00010 started with configuration:\n",
            "+--------------------------------------------------+\n",
            "| Trial train_regresor_340ad_00010 config          |\n",
            "+--------------------------------------------------+\n",
            "| max_features                                0.01 |\n",
            "| n_estimators                                 100 |\n",
            "+--------------------------------------------------+\n",
            "\n",
            "Trial train_regresor_340ad_00010 finished iteration 1 at 2023-12-14 17:08:00. Total running time: 49s\n",
            "+-----------------------------------------------------+\n",
            "| Trial train_regresor_340ad_00010 result             |\n",
            "+-----------------------------------------------------+\n",
            "| checkpoint_dir_name                                 |\n",
            "| time_this_iter_s                            2.01961 |\n",
            "| time_total_s                                2.01961 |\n",
            "| training_iteration                                1 |\n",
            "| loss                                        0.80368 |\n",
            "+-----------------------------------------------------+\n",
            "\n",
            "Trial train_regresor_340ad_00010 completed after 1 iterations at 2023-12-14 17:08:00. Total running time: 49s\n",
            "\n",
            "Trial train_regresor_340ad_00011 started with configuration:\n",
            "+-------------------------------------------------+\n",
            "| Trial train_regresor_340ad_00011 config         |\n",
            "+-------------------------------------------------+\n",
            "| max_features                                0.1 |\n",
            "| n_estimators                                100 |\n",
            "+-------------------------------------------------+\n",
            "\n",
            "Trial train_regresor_340ad_00011 finished iteration 1 at 2023-12-14 17:08:03. Total running time: 52s\n",
            "+-----------------------------------------------------+\n",
            "| Trial train_regresor_340ad_00011 result             |\n",
            "+-----------------------------------------------------+\n",
            "| checkpoint_dir_name                                 |\n",
            "| time_this_iter_s                            2.95599 |\n",
            "| time_total_s                                2.95599 |\n",
            "| training_iteration                                1 |\n",
            "| loss                                        0.82362 |\n",
            "+-----------------------------------------------------+\n",
            "\n",
            "Trial train_regresor_340ad_00011 completed after 1 iterations at 2023-12-14 17:08:03. Total running time: 52s\n",
            "\n",
            "Trial train_regresor_340ad_00012 started with configuration:\n",
            "+-------------------------------------------------+\n",
            "| Trial train_regresor_340ad_00012 config         |\n",
            "+-------------------------------------------------+\n",
            "| max_features                                0.2 |\n",
            "| n_estimators                                100 |\n",
            "+-------------------------------------------------+\n",
            "\n",
            "Trial train_regresor_340ad_00012 finished iteration 1 at 2023-12-14 17:08:08. Total running time: 57s\n",
            "+-----------------------------------------------------+\n",
            "| Trial train_regresor_340ad_00012 result             |\n",
            "+-----------------------------------------------------+\n",
            "| checkpoint_dir_name                                 |\n",
            "| time_this_iter_s                            4.97463 |\n",
            "| time_total_s                                4.97463 |\n",
            "| training_iteration                                1 |\n",
            "| loss                                        0.82164 |\n",
            "+-----------------------------------------------------+\n",
            "\n",
            "Trial train_regresor_340ad_00012 completed after 1 iterations at 2023-12-14 17:08:08. Total running time: 57s\n",
            "\n",
            "Trial status: 19 TERMINATED | 1 RUNNING\n",
            "Current time: 2023-12-14 17:08:12. Total running time: 1min 1s\n",
            "Logical resource usage: 1.0/2 CPUs, 0/0 GPUs\n",
            "Current best trial: 340ad_00016 with loss=0.8236647058881759 and params={'n_estimators': 200, 'max_features': 0.1}\n",
            "+------------------------------------------------------------------------------------------------------------------+\n",
            "| Trial name                   status         n_estimators     max_features     iter     total time (s)       loss |\n",
            "+------------------------------------------------------------------------------------------------------------------+\n",
            "| train_regresor_340ad_00019   RUNNING                 200             0.5                                         |\n",
            "| train_regresor_340ad_00000   TERMINATED               10             0.01        1           0.332108   0.762658 |\n",
            "| train_regresor_340ad_00001   TERMINATED               10             0.1         1           0.546314   0.801613 |\n",
            "| train_regresor_340ad_00002   TERMINATED               10             0.2         1           0.501004   0.798508 |\n",
            "| train_regresor_340ad_00003   TERMINATED               10             0.3         1           1.10991    0.810695 |\n",
            "| train_regresor_340ad_00004   TERMINATED               10             0.5         1           0.913529   0.802718 |\n",
            "| train_regresor_340ad_00005   TERMINATED               50             0.01        1           1.07019    0.803483 |\n",
            "| train_regresor_340ad_00006   TERMINATED               50             0.1         1           2.41856    0.821687 |\n",
            "| train_regresor_340ad_00007   TERMINATED               50             0.2         1           3.1965     0.82081  |\n",
            "| train_regresor_340ad_00008   TERMINATED               50             0.3         1           4.07034    0.814823 |\n",
            "| train_regresor_340ad_00009   TERMINATED               50             0.5         1           5.09856    0.814145 |\n",
            "| train_regresor_340ad_00010   TERMINATED              100             0.01        1           2.01961    0.803679 |\n",
            "| train_regresor_340ad_00011   TERMINATED              100             0.1         1           2.95599    0.823618 |\n",
            "| train_regresor_340ad_00012   TERMINATED              100             0.2         1           4.97463    0.821636 |\n",
            "| train_regresor_340ad_00013   TERMINATED              100             0.3         1           6.50223    0.81952  |\n",
            "| train_regresor_340ad_00014   TERMINATED              100             0.5         1           8.51599    0.822107 |\n",
            "| train_regresor_340ad_00015   TERMINATED              200             0.01        1           2.58607    0.808655 |\n",
            "| train_regresor_340ad_00016   TERMINATED              200             0.1         1           7.45507    0.823665 |\n",
            "| train_regresor_340ad_00017   TERMINATED              200             0.2         1          10.7439     0.821056 |\n",
            "| train_regresor_340ad_00018   TERMINATED              200             0.3         1          14.7936     0.819508 |\n",
            "+------------------------------------------------------------------------------------------------------------------+\n",
            "\n",
            "Trial train_regresor_340ad_00019 finished iteration 1 at 2023-12-14 17:08:12. Total running time: 1min 1s\n",
            "+-----------------------------------------------------+\n",
            "| Trial train_regresor_340ad_00019 result             |\n",
            "+-----------------------------------------------------+\n",
            "| checkpoint_dir_name                                 |\n",
            "| time_this_iter_s                            19.8895 |\n",
            "| time_total_s                                19.8895 |\n",
            "| training_iteration                                1 |\n",
            "| loss                                        0.82019 |\n",
            "+-----------------------------------------------------+\n",
            "\n",
            "Trial train_regresor_340ad_00019 completed after 1 iterations at 2023-12-14 17:08:12. Total running time: 1min 1s\n",
            "\n",
            "Trial status: 20 TERMINATED\n",
            "Current time: 2023-12-14 17:08:12. Total running time: 1min 1s\n",
            "Logical resource usage: 1.0/2 CPUs, 0/0 GPUs\n",
            "Current best trial: 340ad_00016 with loss=0.8236647058881759 and params={'n_estimators': 200, 'max_features': 0.1}\n",
            "+------------------------------------------------------------------------------------------------------------------+\n",
            "| Trial name                   status         n_estimators     max_features     iter     total time (s)       loss |\n",
            "+------------------------------------------------------------------------------------------------------------------+\n",
            "| train_regresor_340ad_00000   TERMINATED               10             0.01        1           0.332108   0.762658 |\n",
            "| train_regresor_340ad_00001   TERMINATED               10             0.1         1           0.546314   0.801613 |\n",
            "| train_regresor_340ad_00002   TERMINATED               10             0.2         1           0.501004   0.798508 |\n",
            "| train_regresor_340ad_00003   TERMINATED               10             0.3         1           1.10991    0.810695 |\n",
            "| train_regresor_340ad_00004   TERMINATED               10             0.5         1           0.913529   0.802718 |\n",
            "| train_regresor_340ad_00005   TERMINATED               50             0.01        1           1.07019    0.803483 |\n",
            "| train_regresor_340ad_00006   TERMINATED               50             0.1         1           2.41856    0.821687 |\n",
            "| train_regresor_340ad_00007   TERMINATED               50             0.2         1           3.1965     0.82081  |\n",
            "| train_regresor_340ad_00008   TERMINATED               50             0.3         1           4.07034    0.814823 |\n",
            "| train_regresor_340ad_00009   TERMINATED               50             0.5         1           5.09856    0.814145 |\n",
            "| train_regresor_340ad_00010   TERMINATED              100             0.01        1           2.01961    0.803679 |\n",
            "| train_regresor_340ad_00011   TERMINATED              100             0.1         1           2.95599    0.823618 |\n",
            "| train_regresor_340ad_00012   TERMINATED              100             0.2         1           4.97463    0.821636 |\n",
            "| train_regresor_340ad_00013   TERMINATED              100             0.3         1           6.50223    0.81952  |\n",
            "| train_regresor_340ad_00014   TERMINATED              100             0.5         1           8.51599    0.822107 |\n",
            "| train_regresor_340ad_00015   TERMINATED              200             0.01        1           2.58607    0.808655 |\n",
            "| train_regresor_340ad_00016   TERMINATED              200             0.1         1           7.45507    0.823665 |\n",
            "| train_regresor_340ad_00017   TERMINATED              200             0.2         1          10.7439     0.821056 |\n",
            "| train_regresor_340ad_00018   TERMINATED              200             0.3         1          14.7936     0.819508 |\n",
            "| train_regresor_340ad_00019   TERMINATED              200             0.5         1          19.8895     0.820195 |\n",
            "+------------------------------------------------------------------------------------------------------------------+\n",
            "\n"
          ]
        }
      ]
    },
    {
      "cell_type": "markdown",
      "source": [
        "Obtenemos los mejores hiperparametros del metodo Random Forest asi como el valor de su metrica R2 obtenida."
      ],
      "metadata": {
        "id": "55heW7MZGUIl"
      }
    },
    {
      "cell_type": "code",
      "source": [
        "best_trial = analysis.get_best_trial(metric = \"loss\", mode = \"max\")\n",
        "best_config = best_trial.config\n",
        "best_loss = best_trial.last_result[\"loss\"]\n",
        "print(f\"El mejor modelo encontrado tiene un R2 = {round(best_loss, 4)} y usa {best_config['n_estimators']} árboles, y {best_config['max_features']} max_features\")"
      ],
      "metadata": {
        "colab": {
          "base_uri": "https://localhost:8080/"
        },
        "id": "-z4F0_p_CHBZ",
        "outputId": "a6707e2c-c042-43c7-ff1a-d5f5075d1238"
      },
      "execution_count": null,
      "outputs": [
        {
          "output_type": "stream",
          "name": "stdout",
          "text": [
            "El mejor modelo encontrado tiene un R2 = 0.8237 y usa 200 árboles, y 0.1 max_features\n"
          ]
        }
      ]
    }
  ]
}